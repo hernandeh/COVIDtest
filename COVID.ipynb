{
 "cells": [
  {
   "cell_type": "markdown",
   "metadata": {},
   "source": [
    "READ DATA FROM JOHNS HOPKINS GITHUB AND TABULATE IT"
   ]
  },
  {
   "cell_type": "code",
   "execution_count": 270,
   "metadata": {},
   "outputs": [
    {
     "name": "stdout",
     "output_type": "stream",
     "text": [
      "12/18/20\n"
     ]
    }
   ],
   "source": [
    "import pandas as pd\n",
    "import numpy as np\n",
    "##EXTRACT DATA FROM JOHNS HOPKINS GITHUB\n",
    "#cases and deaths\n",
    "url_world_cases = 'https://raw.githubusercontent.com/CSSEGISandData/COVID-19/master/csse_covid_19_data/csse_covid_19_time_series/time_series_covid19_confirmed_global.csv'\n",
    "url_world_deaths = 'https://raw.githubusercontent.com/CSSEGISandData/COVID-19/master/csse_covid_19_data/csse_covid_19_time_series/time_series_covid19_deaths_global.csv'\n",
    "url_us_cases = 'https://raw.githubusercontent.com/CSSEGISandData/COVID-19/master/csse_covid_19_data/csse_covid_19_time_series/time_series_covid19_confirmed_US.csv'\n",
    "url_us_deaths = 'https://raw.githubusercontent.com/CSSEGISandData/COVID-19/master/csse_covid_19_data/csse_covid_19_time_series/time_series_covid19_deaths_US.csv'\n",
    "cases_w = pd.read_csv(url_world_cases, index_col=0)\n",
    "deaths_w = pd.read_csv(url_world_deaths, index_col=0)\n",
    "cases_us = pd.read_csv(url_us_cases, index_col=0)\n",
    "deaths_us = pd.read_csv(url_us_deaths, index_col=0)\n",
    "#population\n",
    "url_pop='https://raw.githubusercontent.com/CSSEGISandData/COVID-19/master/csse_covid_19_data/UID_ISO_FIPS_LookUp_Table.csv'\n",
    "population=pd.read_csv(url_pop, index_col=0).dropna(subset=['Population'])\n",
    "population=population[population['Admin2'].isnull()]\n",
    "\n",
    "##CREATE DATAFRAMES WITH DATA (CUMULATIVE CASES AND CUMULATIVE DEATHS)\n",
    "cum_w=cases_w.groupby('Country/Region').sum().drop(['Lat','Long'],axis=1)\n",
    "cum_us=cases_us.groupby('Province_State').sum().drop(['code3','FIPS','Lat','Long_'],axis=1)\n",
    "cum_us.index=cum_us.index+', USA'\n",
    "cum=cum_w.append(cum_us)\n",
    "cumd_w=deaths_w.groupby('Country/Region').sum().drop(['Lat','Long'],axis=1)\n",
    "cumd_us=deaths_us.groupby('Province_State').sum().drop(['code3','FIPS','Lat','Long_','Population'],axis=1)\n",
    "cumd_us.index=cumd_us.index+', USA'\n",
    "cumd=cumd_w.append(cumd_us)\n",
    "\n",
    "#CREATE DATAFRAMES WITH DATA (INDIVIDUAL CASES AND INDIVIDUAL DEATHS)\n",
    "cases=cum.diff(periods=1, axis=1)\n",
    "deaths=cumd.diff(periods=1, axis=1)\n",
    "\n",
    "#CREATE DATAFRAME WITH POPULATION DATA\n",
    "pop_us=population[population['Country_Region']=='US'].drop(['iso2','iso3','code3','FIPS','Admin2','Country_Region','Lat','Long_','Combined_Key'],axis=1)\n",
    "pop_us.fillna('USA', inplace=True)\n",
    "pop_us=pop_us.groupby('Province_State').sum()\n",
    "pop_us.index=pop_us.index+', USA'\n",
    "pop_world=population[population['Province_State'].isnull()].drop(['iso2','iso3','code3','FIPS','Admin2','Province_State','Lat','Long_','Combined_Key'],axis=1).set_index('Country_Region')\n",
    "popul=pop_world.append((pop_us))\n",
    "\n",
    "#MERGE ALL 4 DATAFRAMES (CUMULATIVE AND INDIVIDUAL CASES AND DEATHS)\n",
    "dfc=cases.merge(popul, how='inner', left_index=True, right_index=True)\n",
    "dfc_cum=cum.merge(popul, how='inner', left_index=True, right_index=True)\n",
    "dfd=deaths.merge(popul, how='inner', left_index=True, right_index=True)\n",
    "dfd_cum=cumd.merge(popul, how='inner', left_index=True, right_index=True)\n",
    "\n",
    "#CREATE 7d AVG DATAFRAMES FOR CASES AND DEATHS\n",
    "dfc7=dfc.iloc[:,0:-1].rolling(7,axis=1).mean()\n",
    "dfd7=dfd.iloc[:,0:-1].rolling(7,axis=1).mean()\n",
    "\n",
    "#CREATE NORMALIZED DATAFRAMES FOR CASES AND DEATHS (per 1M HABITANTS, 7d AVG)\n",
    "cnorm=dfc7.div(dfc.iloc[:,-1], axis=0)*1000000\n",
    "dnorm=dfd7.div(dfd.iloc[:,-1], axis=0)*1000000\n",
    "\n",
    "#CREATE CSV FILES\n",
    "dfc.to_csv('dfc.csv')\n",
    "dfc_cum.to_csv('dfc_cum.csv')\n",
    "dfd.to_csv('dfd.csv')\n",
    "dfd_cum.to_csv('dfd_cum.csv')\n",
    "dfc7.to_csv('dfc7.csv')\n",
    "dfd7.to_csv('dfd7.csv')\n",
    "cnorm.to_csv('cnorm.csv')\n",
    "dnorm.to_csv('dnorm.csv')\n",
    "\n",
    "#CREATE SUMMARY TABLE\n",
    "print(dfc.columns[-2])\n",
    "summary=pd.DataFrame(data=None)\n",
    "summary['C7d1M']=cnorm.iloc[:,-1].astype(int)\n",
    "summary['D7d1M']=round(dnorm.iloc[:,-1],1)\n",
    "summary['Max_cases']=dfc.iloc[:,0:-1].max(axis=1).astype(int)\n",
    "summary['Max_deaths']=dfd.iloc[:,0:-1].max(axis=1).astype(int)\n",
    "summary['Max_c7d1M']=round(cnorm.max(axis=1),1)\n",
    "summary['Max_d7d1M']=round(dnorm.max(axis=1),1)\n",
    "summary['Ratio_cases']=round(dfc.iloc[:,-2]/(dfc.iloc[:,0:-2].max(axis=1)),4)\n",
    "summary['Ratio_deaths']=round(dfd.iloc[:,-2]/(dfd.iloc[:,0:-2].max(axis=1)),4)\n",
    "summary['Ratio_c7d1M']=round(cnorm.iloc[:,-1]/(cnorm.iloc[:,0:-1].max(axis=1)),4)\n",
    "summary['Ratio_d7d1M']=round(dnorm.iloc[:,-1]/(dnorm.iloc[:,0:-1].max(axis=1)),4)\n",
    "summary['%infected']=round(dfc_cum.iloc[:,-2]/dfc_cum.iloc[:,-1]*100,2)\n",
    "summary['Mortality']=round(cumd.iloc[:,-1]/cum.iloc[:,-1]*1000,0).replace([np.inf,np.nan], 0).astype(int)\n",
    "summary.to_csv('summary.csv')\n",
    "#summary[summary['Ratio_d7d1M']>=1].sort_values(by='Ratio_d7d1M', ascending=False)\n",
    "#summary.sort_values(by='C7d1M',ascending=False).head(20)\n",
    "#summary.sort_values(by='C7d1M', ascending=False).head(20)"
   ]
  },
  {
   "cell_type": "markdown",
   "metadata": {},
   "source": [
    "PLOT TABLE WITH TOP-20 ENTITIES IN CASES PER 1M HABITANTS"
   ]
  },
  {
   "cell_type": "code",
   "execution_count": 287,
   "metadata": {},
   "outputs": [
    {
     "data": {
      "text/html": [
       "<div>\n",
       "<style scoped>\n",
       "    .dataframe tbody tr th:only-of-type {\n",
       "        vertical-align: middle;\n",
       "    }\n",
       "\n",
       "    .dataframe tbody tr th {\n",
       "        vertical-align: top;\n",
       "    }\n",
       "\n",
       "    .dataframe thead th {\n",
       "        text-align: right;\n",
       "    }\n",
       "</style>\n",
       "<table border=\"1\" class=\"dataframe\">\n",
       "  <thead>\n",
       "    <tr style=\"text-align: right;\">\n",
       "      <th></th>\n",
       "      <th>1/22/20</th>\n",
       "      <th>1/23/20</th>\n",
       "      <th>1/24/20</th>\n",
       "      <th>1/25/20</th>\n",
       "      <th>1/26/20</th>\n",
       "      <th>1/27/20</th>\n",
       "      <th>1/28/20</th>\n",
       "      <th>1/29/20</th>\n",
       "      <th>1/30/20</th>\n",
       "      <th>1/31/20</th>\n",
       "      <th>...</th>\n",
       "      <th>12/9/20</th>\n",
       "      <th>12/10/20</th>\n",
       "      <th>12/11/20</th>\n",
       "      <th>12/12/20</th>\n",
       "      <th>12/13/20</th>\n",
       "      <th>12/14/20</th>\n",
       "      <th>12/15/20</th>\n",
       "      <th>12/16/20</th>\n",
       "      <th>12/17/20</th>\n",
       "      <th>12/18/20</th>\n",
       "    </tr>\n",
       "  </thead>\n",
       "  <tbody>\n",
       "    <tr>\n",
       "      <th>Afghanistan</th>\n",
       "      <td>NaN</td>\n",
       "      <td>NaN</td>\n",
       "      <td>NaN</td>\n",
       "      <td>NaN</td>\n",
       "      <td>NaN</td>\n",
       "      <td>NaN</td>\n",
       "      <td>NaN</td>\n",
       "      <td>0.0</td>\n",
       "      <td>0.0</td>\n",
       "      <td>0.0</td>\n",
       "      <td>...</td>\n",
       "      <td>4.157823</td>\n",
       "      <td>4.462412</td>\n",
       "      <td>4.693606</td>\n",
       "      <td>4.245897</td>\n",
       "      <td>4.480760</td>\n",
       "      <td>4.411035</td>\n",
       "      <td>4.535807</td>\n",
       "      <td>4.807368</td>\n",
       "      <td>4.862414</td>\n",
       "      <td>5.522968</td>\n",
       "    </tr>\n",
       "    <tr>\n",
       "      <th>Albania</th>\n",
       "      <td>NaN</td>\n",
       "      <td>NaN</td>\n",
       "      <td>NaN</td>\n",
       "      <td>NaN</td>\n",
       "      <td>NaN</td>\n",
       "      <td>NaN</td>\n",
       "      <td>NaN</td>\n",
       "      <td>0.0</td>\n",
       "      <td>0.0</td>\n",
       "      <td>0.0</td>\n",
       "      <td>...</td>\n",
       "      <td>271.487148</td>\n",
       "      <td>276.004488</td>\n",
       "      <td>276.054129</td>\n",
       "      <td>277.692285</td>\n",
       "      <td>275.110948</td>\n",
       "      <td>273.423151</td>\n",
       "      <td>276.203052</td>\n",
       "      <td>270.494326</td>\n",
       "      <td>266.225192</td>\n",
       "      <td>255.204869</td>\n",
       "    </tr>\n",
       "    <tr>\n",
       "      <th>Algeria</th>\n",
       "      <td>NaN</td>\n",
       "      <td>NaN</td>\n",
       "      <td>NaN</td>\n",
       "      <td>NaN</td>\n",
       "      <td>NaN</td>\n",
       "      <td>NaN</td>\n",
       "      <td>NaN</td>\n",
       "      <td>0.0</td>\n",
       "      <td>0.0</td>\n",
       "      <td>0.0</td>\n",
       "      <td>...</td>\n",
       "      <td>16.060866</td>\n",
       "      <td>15.155202</td>\n",
       "      <td>14.304921</td>\n",
       "      <td>13.474187</td>\n",
       "      <td>12.542461</td>\n",
       "      <td>12.288354</td>\n",
       "      <td>11.887647</td>\n",
       "      <td>11.379433</td>\n",
       "      <td>10.926601</td>\n",
       "      <td>10.587792</td>\n",
       "    </tr>\n",
       "    <tr>\n",
       "      <th>Andorra</th>\n",
       "      <td>NaN</td>\n",
       "      <td>NaN</td>\n",
       "      <td>NaN</td>\n",
       "      <td>NaN</td>\n",
       "      <td>NaN</td>\n",
       "      <td>NaN</td>\n",
       "      <td>NaN</td>\n",
       "      <td>0.0</td>\n",
       "      <td>0.0</td>\n",
       "      <td>0.0</td>\n",
       "      <td>...</td>\n",
       "      <td>591.655804</td>\n",
       "      <td>528.792375</td>\n",
       "      <td>519.547753</td>\n",
       "      <td>523.245602</td>\n",
       "      <td>532.490224</td>\n",
       "      <td>550.979468</td>\n",
       "      <td>471.475719</td>\n",
       "      <td>525.094526</td>\n",
       "      <td>510.303131</td>\n",
       "      <td>523.245602</td>\n",
       "    </tr>\n",
       "    <tr>\n",
       "      <th>Angola</th>\n",
       "      <td>NaN</td>\n",
       "      <td>NaN</td>\n",
       "      <td>NaN</td>\n",
       "      <td>NaN</td>\n",
       "      <td>NaN</td>\n",
       "      <td>NaN</td>\n",
       "      <td>NaN</td>\n",
       "      <td>0.0</td>\n",
       "      <td>0.0</td>\n",
       "      <td>0.0</td>\n",
       "      <td>...</td>\n",
       "      <td>2.108110</td>\n",
       "      <td>2.451493</td>\n",
       "      <td>2.468880</td>\n",
       "      <td>2.716637</td>\n",
       "      <td>2.594932</td>\n",
       "      <td>2.734023</td>\n",
       "      <td>2.751410</td>\n",
       "      <td>2.621011</td>\n",
       "      <td>2.429760</td>\n",
       "      <td>2.177656</td>\n",
       "    </tr>\n",
       "    <tr>\n",
       "      <th>...</th>\n",
       "      <td>...</td>\n",
       "      <td>...</td>\n",
       "      <td>...</td>\n",
       "      <td>...</td>\n",
       "      <td>...</td>\n",
       "      <td>...</td>\n",
       "      <td>...</td>\n",
       "      <td>...</td>\n",
       "      <td>...</td>\n",
       "      <td>...</td>\n",
       "      <td>...</td>\n",
       "      <td>...</td>\n",
       "      <td>...</td>\n",
       "      <td>...</td>\n",
       "      <td>...</td>\n",
       "      <td>...</td>\n",
       "      <td>...</td>\n",
       "      <td>...</td>\n",
       "      <td>...</td>\n",
       "      <td>...</td>\n",
       "      <td>...</td>\n",
       "    </tr>\n",
       "    <tr>\n",
       "      <th>Virginia, USA</th>\n",
       "      <td>NaN</td>\n",
       "      <td>NaN</td>\n",
       "      <td>NaN</td>\n",
       "      <td>NaN</td>\n",
       "      <td>NaN</td>\n",
       "      <td>NaN</td>\n",
       "      <td>NaN</td>\n",
       "      <td>0.0</td>\n",
       "      <td>0.0</td>\n",
       "      <td>0.0</td>\n",
       "      <td>...</td>\n",
       "      <td>412.528267</td>\n",
       "      <td>444.194263</td>\n",
       "      <td>452.863917</td>\n",
       "      <td>459.290843</td>\n",
       "      <td>449.483087</td>\n",
       "      <td>439.825962</td>\n",
       "      <td>428.110213</td>\n",
       "      <td>420.294135</td>\n",
       "      <td>419.256454</td>\n",
       "      <td>417.582775</td>\n",
       "    </tr>\n",
       "    <tr>\n",
       "      <th>Washington, USA</th>\n",
       "      <td>NaN</td>\n",
       "      <td>NaN</td>\n",
       "      <td>NaN</td>\n",
       "      <td>NaN</td>\n",
       "      <td>NaN</td>\n",
       "      <td>NaN</td>\n",
       "      <td>NaN</td>\n",
       "      <td>0.0</td>\n",
       "      <td>0.0</td>\n",
       "      <td>0.0</td>\n",
       "      <td>...</td>\n",
       "      <td>406.534181</td>\n",
       "      <td>426.495065</td>\n",
       "      <td>468.236576</td>\n",
       "      <td>480.937252</td>\n",
       "      <td>406.290298</td>\n",
       "      <td>368.394633</td>\n",
       "      <td>342.055271</td>\n",
       "      <td>285.849622</td>\n",
       "      <td>281.928734</td>\n",
       "      <td>262.268013</td>\n",
       "    </tr>\n",
       "    <tr>\n",
       "      <th>West Virginia, USA</th>\n",
       "      <td>NaN</td>\n",
       "      <td>NaN</td>\n",
       "      <td>NaN</td>\n",
       "      <td>NaN</td>\n",
       "      <td>NaN</td>\n",
       "      <td>NaN</td>\n",
       "      <td>NaN</td>\n",
       "      <td>0.0</td>\n",
       "      <td>0.0</td>\n",
       "      <td>0.0</td>\n",
       "      <td>...</td>\n",
       "      <td>682.102847</td>\n",
       "      <td>691.110399</td>\n",
       "      <td>674.769265</td>\n",
       "      <td>683.856530</td>\n",
       "      <td>655.239617</td>\n",
       "      <td>658.906408</td>\n",
       "      <td>689.356717</td>\n",
       "      <td>668.551663</td>\n",
       "      <td>700.675941</td>\n",
       "      <td>726.502904</td>\n",
       "    </tr>\n",
       "    <tr>\n",
       "      <th>Wisconsin, USA</th>\n",
       "      <td>NaN</td>\n",
       "      <td>NaN</td>\n",
       "      <td>NaN</td>\n",
       "      <td>NaN</td>\n",
       "      <td>NaN</td>\n",
       "      <td>NaN</td>\n",
       "      <td>NaN</td>\n",
       "      <td>0.0</td>\n",
       "      <td>0.0</td>\n",
       "      <td>0.0</td>\n",
       "      <td>...</td>\n",
       "      <td>766.738741</td>\n",
       "      <td>744.779343</td>\n",
       "      <td>715.459254</td>\n",
       "      <td>688.789014</td>\n",
       "      <td>684.274456</td>\n",
       "      <td>684.446205</td>\n",
       "      <td>670.583569</td>\n",
       "      <td>637.484991</td>\n",
       "      <td>626.983737</td>\n",
       "      <td>613.317386</td>\n",
       "    </tr>\n",
       "    <tr>\n",
       "      <th>Wyoming, USA</th>\n",
       "      <td>NaN</td>\n",
       "      <td>NaN</td>\n",
       "      <td>NaN</td>\n",
       "      <td>NaN</td>\n",
       "      <td>NaN</td>\n",
       "      <td>NaN</td>\n",
       "      <td>NaN</td>\n",
       "      <td>0.0</td>\n",
       "      <td>0.0</td>\n",
       "      <td>0.0</td>\n",
       "      <td>...</td>\n",
       "      <td>833.803757</td>\n",
       "      <td>776.291538</td>\n",
       "      <td>752.348683</td>\n",
       "      <td>732.108331</td>\n",
       "      <td>751.114515</td>\n",
       "      <td>688.665625</td>\n",
       "      <td>639.052080</td>\n",
       "      <td>598.571377</td>\n",
       "      <td>584.995531</td>\n",
       "      <td>635.349577</td>\n",
       "    </tr>\n",
       "  </tbody>\n",
       "</table>\n",
       "<p>245 rows × 332 columns</p>\n",
       "</div>"
      ],
      "text/plain": [
       "                    1/22/20  1/23/20  1/24/20  1/25/20  1/26/20  1/27/20  \\\n",
       "Afghanistan             NaN      NaN      NaN      NaN      NaN      NaN   \n",
       "Albania                 NaN      NaN      NaN      NaN      NaN      NaN   \n",
       "Algeria                 NaN      NaN      NaN      NaN      NaN      NaN   \n",
       "Andorra                 NaN      NaN      NaN      NaN      NaN      NaN   \n",
       "Angola                  NaN      NaN      NaN      NaN      NaN      NaN   \n",
       "...                     ...      ...      ...      ...      ...      ...   \n",
       "Virginia, USA           NaN      NaN      NaN      NaN      NaN      NaN   \n",
       "Washington, USA         NaN      NaN      NaN      NaN      NaN      NaN   \n",
       "West Virginia, USA      NaN      NaN      NaN      NaN      NaN      NaN   \n",
       "Wisconsin, USA          NaN      NaN      NaN      NaN      NaN      NaN   \n",
       "Wyoming, USA            NaN      NaN      NaN      NaN      NaN      NaN   \n",
       "\n",
       "                    1/28/20  1/29/20  1/30/20  1/31/20  ...     12/9/20  \\\n",
       "Afghanistan             NaN      0.0      0.0      0.0  ...    4.157823   \n",
       "Albania                 NaN      0.0      0.0      0.0  ...  271.487148   \n",
       "Algeria                 NaN      0.0      0.0      0.0  ...   16.060866   \n",
       "Andorra                 NaN      0.0      0.0      0.0  ...  591.655804   \n",
       "Angola                  NaN      0.0      0.0      0.0  ...    2.108110   \n",
       "...                     ...      ...      ...      ...  ...         ...   \n",
       "Virginia, USA           NaN      0.0      0.0      0.0  ...  412.528267   \n",
       "Washington, USA         NaN      0.0      0.0      0.0  ...  406.534181   \n",
       "West Virginia, USA      NaN      0.0      0.0      0.0  ...  682.102847   \n",
       "Wisconsin, USA          NaN      0.0      0.0      0.0  ...  766.738741   \n",
       "Wyoming, USA            NaN      0.0      0.0      0.0  ...  833.803757   \n",
       "\n",
       "                      12/10/20    12/11/20    12/12/20    12/13/20  \\\n",
       "Afghanistan           4.462412    4.693606    4.245897    4.480760   \n",
       "Albania             276.004488  276.054129  277.692285  275.110948   \n",
       "Algeria              15.155202   14.304921   13.474187   12.542461   \n",
       "Andorra             528.792375  519.547753  523.245602  532.490224   \n",
       "Angola                2.451493    2.468880    2.716637    2.594932   \n",
       "...                        ...         ...         ...         ...   \n",
       "Virginia, USA       444.194263  452.863917  459.290843  449.483087   \n",
       "Washington, USA     426.495065  468.236576  480.937252  406.290298   \n",
       "West Virginia, USA  691.110399  674.769265  683.856530  655.239617   \n",
       "Wisconsin, USA      744.779343  715.459254  688.789014  684.274456   \n",
       "Wyoming, USA        776.291538  752.348683  732.108331  751.114515   \n",
       "\n",
       "                      12/14/20    12/15/20    12/16/20    12/17/20    12/18/20  \n",
       "Afghanistan           4.411035    4.535807    4.807368    4.862414    5.522968  \n",
       "Albania             273.423151  276.203052  270.494326  266.225192  255.204869  \n",
       "Algeria              12.288354   11.887647   11.379433   10.926601   10.587792  \n",
       "Andorra             550.979468  471.475719  525.094526  510.303131  523.245602  \n",
       "Angola                2.734023    2.751410    2.621011    2.429760    2.177656  \n",
       "...                        ...         ...         ...         ...         ...  \n",
       "Virginia, USA       439.825962  428.110213  420.294135  419.256454  417.582775  \n",
       "Washington, USA     368.394633  342.055271  285.849622  281.928734  262.268013  \n",
       "West Virginia, USA  658.906408  689.356717  668.551663  700.675941  726.502904  \n",
       "Wisconsin, USA      684.446205  670.583569  637.484991  626.983737  613.317386  \n",
       "Wyoming, USA        688.665625  639.052080  598.571377  584.995531  635.349577  \n",
       "\n",
       "[245 rows x 332 columns]"
      ]
     },
     "execution_count": 287,
     "metadata": {},
     "output_type": "execute_result"
    }
   ],
   "source": [
    "cnorm"
   ]
  },
  {
   "cell_type": "code",
   "execution_count": 281,
   "metadata": {},
   "outputs": [
    {
     "name": "stdout",
     "output_type": "stream",
     "text": [
      "(236,) (236,)\n"
     ]
    },
    {
     "data": {
      "text/plain": [
       "(array([20.,  6., 12., 21., 14., 32., 21., 27., 19.,  9.,  9., 18.,  6.,\n",
       "         3., 10.,  2.,  0.,  2.,  3.,  2.]),\n",
       " array([ 0.  ,  2.35,  4.7 ,  7.05,  9.4 , 11.75, 14.1 , 16.45, 18.8 ,\n",
       "        21.15, 23.5 , 25.85, 28.2 , 30.55, 32.9 , 35.25, 37.6 , 39.95,\n",
       "        42.3 , 44.65, 47.  ]),\n",
       " <BarContainer object of 20 artists>)"
      ]
     },
     "execution_count": 281,
     "metadata": {},
     "output_type": "execute_result"
    },
    {
     "data": {
      "image/png": "[encoded data removed]",
      "text/plain": [
       "<Figure size 432x288 with 1 Axes>"
      ]
     },
     "metadata": {
      "needs_background": "light"
     },
     "output_type": "display_data"
    }
   ],
   "source": [
    "import matplotlib.pyplot as plt\n",
    "test=summary[summary['Mortality']<50]['Mortality']\n",
    "print(test.index.shape,test.shape)\n",
    "plt.hist(test,20)"
   ]
  },
  {
   "cell_type": "code",
   "execution_count": 288,
   "metadata": {},
   "outputs": [
    {
     "data": {
      "text/plain": [
       "1/22/20            NaN\n",
       "1/23/20            NaN\n",
       "1/24/20            NaN\n",
       "1/25/20            NaN\n",
       "1/26/20            NaN\n",
       "               ...    \n",
       "12/14/20    771.802472\n",
       "12/15/20    769.166979\n",
       "12/16/20    802.778547\n",
       "12/17/20    821.371412\n",
       "12/18/20    808.952100\n",
       "Name: Oklahoma, USA, Length: 332, dtype: float64"
      ]
     },
     "execution_count": 288,
     "metadata": {},
     "output_type": "execute_result"
    }
   ],
   "source": [
    "dateplot=cnorm.columns\n",
    "cnorm.loc['Oklahoma, USA']"
   ]
  },
  {
   "cell_type": "code",
   "execution_count": 295,
   "metadata": {},
   "outputs": [
    {
     "data": {
      "application/vnd.plotly.v1+json": {
       "config": {
        "plotlyServerURL": "https://plot.ly"
       },
       "data": [
        {
         "mode": "lines",
         "name": "Oklahoma, USA",
         "type": "scatter",
         "x": [
          "1/22/20",
          "1/23/20",
          "1/24/20",
          "1/25/20",
          "1/26/20",
          "1/27/20",
          "1/28/20",
          "1/29/20",
          "1/30/20",
          "1/31/20",
          "2/1/20",
          "2/2/20",
          "2/3/20",
          "2/4/20",
          "2/5/20",
          "2/6/20",
          "2/7/20",
          "2/8/20",
          "2/9/20",
          "2/10/20",
          "2/11/20",
          "2/12/20",
          "2/13/20",
          "2/14/20",
          "2/15/20",
          "2/16/20",
          "2/17/20",
          "2/18/20",
          "2/19/20",
          "2/20/20",
          "2/21/20",
          "2/22/20",
          "2/23/20",
          "2/24/20",
          "2/25/20",
          "2/26/20",
          "2/27/20",
          "2/28/20",
          "2/29/20",
          "3/1/20",
          "3/2/20",
          "3/3/20",
          "3/4/20",
          "3/5/20",
          "3/6/20",
          "3/7/20",
          "3/8/20",
          "3/9/20",
          "3/10/20",
          "3/11/20",
          "3/12/20",
          "3/13/20",
          "3/14/20",
          "3/15/20",
          "3/16/20",
          "3/17/20",
          "3/18/20",
          "3/19/20",
          "3/20/20",
          "3/21/20",
          "3/22/20",
          "3/23/20",
          "3/24/20",
          "3/25/20",
          "3/26/20",
          "3/27/20",
          "3/28/20",
          "3/29/20",
          "3/30/20",
          "3/31/20",
          "4/1/20",
          "4/2/20",
          "4/3/20",
          "4/4/20",
          "4/5/20",
          "4/6/20",
          "4/7/20",
          "4/8/20",
          "4/9/20",
          "4/10/20",
          "4/11/20",
          "4/12/20",
          "4/13/20",
          "4/14/20",
          "4/15/20",
          "4/16/20",
          "4/17/20",
          "4/18/20",
          "4/19/20",
          "4/20/20",
          "4/21/20",
          "4/22/20",
          "4/23/20",
          "4/24/20",
          "4/25/20",
          "4/26/20",
          "4/27/20",
          "4/28/20",
          "4/29/20",
          "4/30/20",
          "5/1/20",
          "5/2/20",
          "5/3/20",
          "5/4/20",
          "5/5/20",
          "5/6/20",
          "5/7/20",
          "5/8/20",
          "5/9/20",
          "5/10/20",
          "5/11/20",
          "5/12/20",
          "5/13/20",
          "5/14/20",
          "5/15/20",
          "5/16/20",
          "5/17/20",
          "5/18/20",
          "5/19/20",
          "5/20/20",
          "5/21/20",
          "5/22/20",
          "5/23/20",
          "5/24/20",
          "5/25/20",
          "5/26/20",
          "5/27/20",
          "5/28/20",
          "5/29/20",
          "5/30/20",
          "5/31/20",
          "6/1/20",
          "6/2/20",
          "6/3/20",
          "6/4/20",
          "6/5/20",
          "6/6/20",
          "6/7/20",
          "6/8/20",
          "6/9/20",
          "6/10/20",
          "6/11/20",
          "6/12/20",
          "6/13/20",
          "6/14/20",
          "6/15/20",
          "6/16/20",
          "6/17/20",
          "6/18/20",
          "6/19/20",
          "6/20/20",
          "6/21/20",
          "6/22/20",
          "6/23/20",
          "6/24/20",
          "6/25/20",
          "6/26/20",
          "6/27/20",
          "6/28/20",
          "6/29/20",
          "6/30/20",
          "7/1/20",
          "7/2/20",
          "7/3/20",
          "7/4/20",
          "7/5/20",
          "7/6/20",
          "7/7/20",
          "7/8/20",
          "7/9/20",
          "7/10/20",
          "7/11/20",
          "7/12/20",
          "7/13/20",
          "7/14/20",
          "7/15/20",
          "7/16/20",
          "7/17/20",
          "7/18/20",
          "7/19/20",
          "7/20/20",
          "7/21/20",
          "7/22/20",
          "7/23/20",
          "7/24/20",
          "7/25/20",
          "7/26/20",
          "7/27/20",
          "7/28/20",
          "7/29/20",
          "7/30/20",
          "7/31/20",
          "8/1/20",
          "8/2/20",
          "8/3/20",
          "8/4/20",
          "8/5/20",
          "8/6/20",
          "8/7/20",
          "8/8/20",
          "8/9/20",
          "8/10/20",
          "8/11/20",
          "8/12/20",
          "8/13/20",
          "8/14/20",
          "8/15/20",
          "8/16/20",
          "8/17/20",
          "8/18/20",
          "8/19/20",
          "8/20/20",
          "8/21/20",
          "8/22/20",
          "8/23/20",
          "8/24/20",
          "8/25/20",
          "8/26/20",
          "8/27/20",
          "8/28/20",
          "8/29/20",
          "8/30/20",
          "8/31/20",
          "9/1/20",
          "9/2/20",
          "9/3/20",
          "9/4/20",
          "9/5/20",
          "9/6/20",
          "9/7/20",
          "9/8/20",
          "9/9/20",
          "9/10/20",
          "9/11/20",
          "9/12/20",
          "9/13/20",
          "9/14/20",
          "9/15/20",
          "9/16/20",
          "9/17/20",
          "9/18/20",
          "9/19/20",
          "9/20/20",
          "9/21/20",
          "9/22/20",
          "9/23/20",
          "9/24/20",
          "9/25/20",
          "9/26/20",
          "9/27/20",
          "9/28/20",
          "9/29/20",
          "9/30/20",
          "10/1/20",
          "10/2/20",
          "10/3/20",
          "10/4/20",
          "10/5/20",
          "10/6/20",
          "10/7/20",
          "10/8/20",
          "10/9/20",
          "10/10/20",
          "10/11/20",
          "10/12/20",
          "10/13/20",
          "10/14/20",
          "10/15/20",
          "10/16/20",
          "10/17/20",
          "10/18/20",
          "10/19/20",
          "10/20/20",
          "10/21/20",
          "10/22/20",
          "10/23/20",
          "10/24/20",
          "10/25/20",
          "10/26/20",
          "10/27/20",
          "10/28/20",
          "10/29/20",
          "10/30/20",
          "10/31/20",
          "11/1/20",
          "11/2/20",
          "11/3/20",
          "11/4/20",
          "11/5/20",
          "11/6/20",
          "11/7/20",
          "11/8/20",
          "11/9/20",
          "11/10/20",
          "11/11/20",
          "11/12/20",
          "11/13/20",
          "11/14/20",
          "11/15/20",
          "11/16/20",
          "11/17/20",
          "11/18/20",
          "11/19/20",
          "11/20/20",
          "11/21/20",
          "11/22/20",
          "11/23/20",
          "11/24/20",
          "11/25/20",
          "11/26/20",
          "11/27/20",
          "11/28/20",
          "11/29/20",
          "11/30/20",
          "12/1/20",
          "12/2/20",
          "12/3/20",
          "12/4/20",
          "12/5/20",
          "12/6/20",
          "12/7/20",
          "12/8/20",
          "12/9/20",
          "12/10/20",
          "12/11/20",
          "12/12/20",
          "12/13/20",
          "12/14/20",
          "12/15/20",
          "12/16/20",
          "12/17/20",
          "12/18/20"
         ],
         "y": [
          null,
          null,
          null,
          null,
          null,
          null,
          null,
          0,
          0,
          0,
          0,
          0,
          0,
          0,
          0,
          0,
          0,
          0,
          0,
          0,
          0,
          0,
          0,
          0,
          0,
          0,
          0,
          0,
          0,
          0,
          0,
          0,
          0,
          0,
          0,
          0,
          0,
          0,
          0,
          0,
          0,
          0,
          0,
          0,
          0,
          0.03610265095628521,
          0.03610265095628521,
          0.03610265095628521,
          0.07220530191257042,
          0.07220530191257042,
          0.10830795286885563,
          0.10830795286885563,
          0.10830795286885563,
          0.10830795286885563,
          0.324923858606567,
          0.5415397643442782,
          0.5415397643442782,
          1.4802086892076936,
          1.6607219439891197,
          1.7690298968579754,
          2.2744670102459685,
          2.56328821789625,
          3.213135935109384,
          5.307089690573926,
          7.364940795082184,
          9.856023711065863,
          11.697258909836409,
          13.069159646175248,
          14.441060382514086,
          16.679424741803768,
          20.10917658265086,
          22.852978055328542,
          24.116570838798523,
          28.304478349727606,
          29.784687038935303,
          30.615048010929858,
          32.7090017663944,
          29.062634019809597,
          29.062634019809597,
          29.026531368853313,
          25.524574226093645,
          25.849498084700212,
          26.715961707651058,
          25.6328821789625,
          26.607653754782202,
          24.22487879166738,
          24.22487879166738,
          21.553282620902277,
          21.553282620902277,
          22.058719734290268,
          22.491951545765687,
          22.78077275341597,
          23.827749631148244,
          23.683339027323097,
          26.31883254713192,
          24.80252120696794,
          21.697693224727413,
          21.76989852663998,
          20.90343490368914,
          21.697693224727413,
          22.636362149590827,
          23.719441678279388,
          25.921703386612784,
          27.546322679645616,
          25.8856007356565,
          26.31883254713192,
          25.705087480875072,
          24.405392046448803,
          23.069593961066253,
          22.275335640027976,
          20.542408394126287,
          21.842103828552556,
          23.683339027323097,
          22.852978055328542,
          23.936057584017096,
          26.968680264345053,
          26.03001133948164,
          28.34058100068389,
          27.329706773907905,
          24.333186744536235,
          25.8856007356565,
          27.510220028689332,
          26.10221664139421,
          26.246627245219354,
          24.98303446174937,
          23.4306204706291,
          25.163547716530793,
          21.40887201707713,
          17.65419631762347,
          16.535014137978628,
          13.755110014344666,
          17.437580411885758,
          20.000868629782005,
          20.795126950820286,
          22.889080706284826,
          24.152673489754807,
          23.14179926297882,
          26.427140500000778,
          22.816875404372254,
          24.22487879166738,
          24.477597348361375,
          25.957806037569068,
          30.398432105192153,
          36.60808806967321,
          39.026965683744315,
          43.75641295901767,
          46.28359852595764,
          51.30186700888129,
          62.42148350341713,
          67.07872547677793,
          70.94170912910045,
          82.49455743511172,
          83.64984226571283,
          86.14092518169652,
          94.08350839207927,
          93.61417392964756,
          95.31099852459297,
          94.15571369399183,
          87.76554447472935,
          88.12657098429221,
          98.4158265068335,
          94.19181634494812,
          93.2531474200847,
          98.27141590300835,
          108.38015817076821,
          107.73031045355508,
          115.05914859768097,
          125.0234802616157,
          136.2875073599767,
          143.18311369262716,
          145.2409647971354,
          149.1400511004142,
          155.38580971585156,
          158.27402179235438,
          163.18398232240918,
          177.62504270492326,
          178.4554036769178,
          182.24618202732776,
          190.54979174727336,
          181.6324369610709,
          169.32143298497766,
          165.56675728552398,
          161.8842868879829,
          163.50890618101573,
          179.64679115847522,
          181.37971840437692,
          217.3018561058807,
          261.7081167821115,
          268.92864697336853,
          264.4519182547892,
          280.5537005812924,
          266.1126401987783,
          276.18527981558185,
          250.5523976366194,
          213.61938570833962,
          205.35187863935028,
          214.48584933129044,
          204.3771070635306,
          208.2400907158531,
          193.1130799651696,
          192.82425875751932,
          193.54631177664504,
          190.08045728484163,
          174.52021472268274,
          169.75466479645306,
          167.58850573907594,
          170.33230721175363,
          172.4262609672182,
          171.4153867404422,
          165.49455198361144,
          163.3644955771906,
          164.8447042663983,
          175.06175448702697,
          173.3288272411253,
          174.1230855621636,
          173.68985375068817,
          175.45888364754614,
          177.4445294501418,
          176.21703931762815,
          162.96736641667147,
          171.6320026461799,
          178.85253283743694,
          188.13091413320225,
          188.67245389754652,
          190.62199704918595,
          197.73421928757412,
          208.67332252732854,
          210.6228656789679,
          198.13134844809326,
          198.09524579713698,
          204.1604911577929,
          209.79250470697335,
          204.81033887500604,
          202.24705065710978,
          197.55370603279266,
          207.4819350457711,
          216.72421369058014,
          226.03869763730174,
          229.43234682719253,
          238.92734402869556,
          250.01085787227512,
          257.95344108265783,
          269.0730575771937,
          277.4488725990519,
          280.08436611886066,
          284.3805815826586,
          286.1496114795166,
          287.1243830553363,
          278.2070282691339,
          271.7085510970025,
          263.0439148674941,
          258.02564638457045,
          254.0904574303353,
          257.23138806353217,
          254.1265600812916,
          261.31098762159235,
          231.59850588456965,
          245.06479469126398,
          257.30359336544467,
          258.24226229030813,
          259.75857363047214,
          271.8168590498714,
          284.2361709788335,
          311.8908016113479,
          296.1139431434513,
          294.1282973408557,
          298.3162048517847,
          298.6411287103913,
          296.76379086066447,
          283.29750205397005,
          285.6441743661286,
          284.813813394134,
          290.80685345287736,
          297.48584387979014,
          312.17962281899827,
          308.605460374326,
          332.75813386408083,
          340.70071707446357,
          336.69332281831583,
          319.9055901236433,
          299.5436949842984,
          278.35143887295897,
          275.7881506550627,
          255.49846081763047,
          266.2570508026035,
          281.45626685519954,
          293.0452178121671,
          311.2048512431785,
          349.4736612568409,
          370.26878820766115,
          324.5267294460478,
          438.53890116599644,
          478.72115168034196,
          492.11523518512377,
          525.7268032254253,
          534.9690818702343,
          563.4540734747434,
          666.2383207472873,
          645.1543725888167,
          664.3609828975605,
          658.9094826031613,
          689.235709406441,
          709.3809886400483,
          718.5510619829446,
          748.0108251632734,
          729.3457546188738,
          758.7694151482464,
          801.5510565314443,
          827.3644519651882,
          722.1252244276169,
          733.1004303183275,
          826.7507068989314,
          765.9177400375909,
          717.3957771523435,
          681.3292288470145,
          649.8116145621775,
          711.4388397445564,
          769.2752865765253,
          701.1495842220152,
          756.0256136755686,
          745.303126341552,
          765.5206108770717,
          745.5919475492021,
          772.777243719285,
          739.3100862828087,
          725.3383603627262,
          764.7263525560334,
          771.8024721434654,
          769.1669786236564,
          802.778546663958,
          821.3714119064449,
          808.9520999774828
         ]
        },
        {
         "mode": "lines",
         "name": "US",
         "type": "scatter",
         "x": [
          "1/22/20",
          "1/23/20",
          "1/24/20",
          "1/25/20",
          "1/26/20",
          "1/27/20",
          "1/28/20",
          "1/29/20",
          "1/30/20",
          "1/31/20",
          "2/1/20",
          "2/2/20",
          "2/3/20",
          "2/4/20",
          "2/5/20",
          "2/6/20",
          "2/7/20",
          "2/8/20",
          "2/9/20",
          "2/10/20",
          "2/11/20",
          "2/12/20",
          "2/13/20",
          "2/14/20",
          "2/15/20",
          "2/16/20",
          "2/17/20",
          "2/18/20",
          "2/19/20",
          "2/20/20",
          "2/21/20",
          "2/22/20",
          "2/23/20",
          "2/24/20",
          "2/25/20",
          "2/26/20",
          "2/27/20",
          "2/28/20",
          "2/29/20",
          "3/1/20",
          "3/2/20",
          "3/3/20",
          "3/4/20",
          "3/5/20",
          "3/6/20",
          "3/7/20",
          "3/8/20",
          "3/9/20",
          "3/10/20",
          "3/11/20",
          "3/12/20",
          "3/13/20",
          "3/14/20",
          "3/15/20",
          "3/16/20",
          "3/17/20",
          "3/18/20",
          "3/19/20",
          "3/20/20",
          "3/21/20",
          "3/22/20",
          "3/23/20",
          "3/24/20",
          "3/25/20",
          "3/26/20",
          "3/27/20",
          "3/28/20",
          "3/29/20",
          "3/30/20",
          "3/31/20",
          "4/1/20",
          "4/2/20",
          "4/3/20",
          "4/4/20",
          "4/5/20",
          "4/6/20",
          "4/7/20",
          "4/8/20",
          "4/9/20",
          "4/10/20",
          "4/11/20",
          "4/12/20",
          "4/13/20",
          "4/14/20",
          "4/15/20",
          "4/16/20",
          "4/17/20",
          "4/18/20",
          "4/19/20",
          "4/20/20",
          "4/21/20",
          "4/22/20",
          "4/23/20",
          "4/24/20",
          "4/25/20",
          "4/26/20",
          "4/27/20",
          "4/28/20",
          "4/29/20",
          "4/30/20",
          "5/1/20",
          "5/2/20",
          "5/3/20",
          "5/4/20",
          "5/5/20",
          "5/6/20",
          "5/7/20",
          "5/8/20",
          "5/9/20",
          "5/10/20",
          "5/11/20",
          "5/12/20",
          "5/13/20",
          "5/14/20",
          "5/15/20",
          "5/16/20",
          "5/17/20",
          "5/18/20",
          "5/19/20",
          "5/20/20",
          "5/21/20",
          "5/22/20",
          "5/23/20",
          "5/24/20",
          "5/25/20",
          "5/26/20",
          "5/27/20",
          "5/28/20",
          "5/29/20",
          "5/30/20",
          "5/31/20",
          "6/1/20",
          "6/2/20",
          "6/3/20",
          "6/4/20",
          "6/5/20",
          "6/6/20",
          "6/7/20",
          "6/8/20",
          "6/9/20",
          "6/10/20",
          "6/11/20",
          "6/12/20",
          "6/13/20",
          "6/14/20",
          "6/15/20",
          "6/16/20",
          "6/17/20",
          "6/18/20",
          "6/19/20",
          "6/20/20",
          "6/21/20",
          "6/22/20",
          "6/23/20",
          "6/24/20",
          "6/25/20",
          "6/26/20",
          "6/27/20",
          "6/28/20",
          "6/29/20",
          "6/30/20",
          "7/1/20",
          "7/2/20",
          "7/3/20",
          "7/4/20",
          "7/5/20",
          "7/6/20",
          "7/7/20",
          "7/8/20",
          "7/9/20",
          "7/10/20",
          "7/11/20",
          "7/12/20",
          "7/13/20",
          "7/14/20",
          "7/15/20",
          "7/16/20",
          "7/17/20",
          "7/18/20",
          "7/19/20",
          "7/20/20",
          "7/21/20",
          "7/22/20",
          "7/23/20",
          "7/24/20",
          "7/25/20",
          "7/26/20",
          "7/27/20",
          "7/28/20",
          "7/29/20",
          "7/30/20",
          "7/31/20",
          "8/1/20",
          "8/2/20",
          "8/3/20",
          "8/4/20",
          "8/5/20",
          "8/6/20",
          "8/7/20",
          "8/8/20",
          "8/9/20",
          "8/10/20",
          "8/11/20",
          "8/12/20",
          "8/13/20",
          "8/14/20",
          "8/15/20",
          "8/16/20",
          "8/17/20",
          "8/18/20",
          "8/19/20",
          "8/20/20",
          "8/21/20",
          "8/22/20",
          "8/23/20",
          "8/24/20",
          "8/25/20",
          "8/26/20",
          "8/27/20",
          "8/28/20",
          "8/29/20",
          "8/30/20",
          "8/31/20",
          "9/1/20",
          "9/2/20",
          "9/3/20",
          "9/4/20",
          "9/5/20",
          "9/6/20",
          "9/7/20",
          "9/8/20",
          "9/9/20",
          "9/10/20",
          "9/11/20",
          "9/12/20",
          "9/13/20",
          "9/14/20",
          "9/15/20",
          "9/16/20",
          "9/17/20",
          "9/18/20",
          "9/19/20",
          "9/20/20",
          "9/21/20",
          "9/22/20",
          "9/23/20",
          "9/24/20",
          "9/25/20",
          "9/26/20",
          "9/27/20",
          "9/28/20",
          "9/29/20",
          "9/30/20",
          "10/1/20",
          "10/2/20",
          "10/3/20",
          "10/4/20",
          "10/5/20",
          "10/6/20",
          "10/7/20",
          "10/8/20",
          "10/9/20",
          "10/10/20",
          "10/11/20",
          "10/12/20",
          "10/13/20",
          "10/14/20",
          "10/15/20",
          "10/16/20",
          "10/17/20",
          "10/18/20",
          "10/19/20",
          "10/20/20",
          "10/21/20",
          "10/22/20",
          "10/23/20",
          "10/24/20",
          "10/25/20",
          "10/26/20",
          "10/27/20",
          "10/28/20",
          "10/29/20",
          "10/30/20",
          "10/31/20",
          "11/1/20",
          "11/2/20",
          "11/3/20",
          "11/4/20",
          "11/5/20",
          "11/6/20",
          "11/7/20",
          "11/8/20",
          "11/9/20",
          "11/10/20",
          "11/11/20",
          "11/12/20",
          "11/13/20",
          "11/14/20",
          "11/15/20",
          "11/16/20",
          "11/17/20",
          "11/18/20",
          "11/19/20",
          "11/20/20",
          "11/21/20",
          "11/22/20",
          "11/23/20",
          "11/24/20",
          "11/25/20",
          "11/26/20",
          "11/27/20",
          "11/28/20",
          "11/29/20",
          "11/30/20",
          "12/1/20",
          "12/2/20",
          "12/3/20",
          "12/4/20",
          "12/5/20",
          "12/6/20",
          "12/7/20",
          "12/8/20",
          "12/9/20",
          "12/10/20",
          "12/11/20",
          "12/12/20",
          "12/13/20",
          "12/14/20",
          "12/15/20",
          "12/16/20",
          "12/17/20",
          "12/18/20"
         ],
         "y": [
          null,
          null,
          null,
          null,
          null,
          null,
          null,
          0.0021680085372672697,
          0.0021680085372672697,
          0.0026016102447207236,
          0.0026016102447207236,
          0.0013008051223603618,
          0.0026016102447207236,
          0.0026016102447207236,
          0.0021680085372672697,
          0.0026016102447207236,
          0.0017344068298138157,
          0.0017344068298138157,
          0.0017344068298138157,
          0.00043360170745345393,
          0.0008672034149069079,
          0.0008672034149069079,
          0.0008672034149069079,
          0.0008672034149069079,
          0.0008672034149069079,
          0.0008672034149069079,
          0.0008672034149069079,
          0.00043360170745345393,
          0.00043360170745345393,
          0,
          0.0008672034149069079,
          0.0008672034149069079,
          0.0008672034149069079,
          0.0008672034149069079,
          0.0008672034149069079,
          0.0008672034149069079,
          0.0013008051223603618,
          0.00043360170745345393,
          0.0039024153670810854,
          0.006937627319255263,
          0.0169104665906847,
          0.02514889903230033,
          0.039457755378264306,
          0.0724114851447268,
          0.09539237563975986,
          0.1639014454174056,
          0.21116403152983207,
          0.23371132031741165,
          0.30699000887704536,
          0.4509457757515921,
          0.6079095938497424,
          0.8593985841727457,
          1.116524396692644,
          1.1676893981721512,
          1.7712629749473592,
          2.4845377837082907,
          3.4783528971916073,
          5.2366078209153635,
          7.722880011453468,
          9.993218551679753,
          13.720458828949642,
          17.954145900525166,
          21.76073529025904,
          25.84439617105567,
          31.631244558729456,
          36.97018238260384,
          42.87236882446026,
          47.229632382660014,
          51.93464451023745,
          58.74392572408649,
          64.73109810060377,
          70.17149872402226,
          75.93406541607867,
          81.74779710961458,
          85.78809781966586,
          89.29636923467176,
          91.50513633243963,
          94.24203030988585,
          96.06098947265309,
          96.71789605944507,
          95.11053452991513,
          94.55986036144922,
          92.66762251012234,
          91.43359205070982,
          90.55338058457932,
          89.17409355316987,
          88.82027455988785,
          88.22147060189465,
          87.68467168806727,
          88.81680574622824,
          87.73106707076478,
          87.36207201772189,
          88.1351838621114,
          88.60434090957605,
          90.18481913324388,
          90.68562910535262,
          88.4165913702487,
          87.80998258152131,
          87.15827921521877,
          85.55525370276335,
          85.7672849377081,
          84.11612963572534,
          83.08112236003394,
          83.16567469298737,
          83.1002008351619,
          81.91993698747359,
          81.1607003977226,
          77.91259000718877,
          76.69156759899984,
          74.26946846116486,
          72.55457370818644,
          71.78059466038204,
          69.99155401542907,
          69.74093222852098,
          69.09313127758551,
          68.6890144862389,
          68.44793193689478,
          69.55795230797563,
          68.83383745652836,
          69.74396744047316,
          69.18332043273584,
          68.34039871344632,
          67.07731693963441,
          67.784521324491,
          66.20621110936042,
          65.51071397060508,
          63.546931837548385,
          62.24742752031039,
          62.65674753214645,
          63.83310896446767,
          63.43896501239248,
          62.93728783686884,
          63.81966731153661,
          64.42410809172672,
          63.78020955615836,
          64.33912215706584,
          63.222164158665755,
          62.636368251896144,
          62.76211274705764,
          61.38065770711093,
          61.93826950289608,
          62.59647689481042,
          62.31203417472095,
          64.02215930891738,
          64.6161936481286,
          65.4938035040144,
          67.78191971424627,
          70.1402794010856,
          72.29658069225164,
          75.02870505091586,
          77.8731322518105,
          80.75875161491324,
          85.74603845404287,
          91.20725195941912,
          94.58457565877409,
          99.99505776437827,
          106.16607726485582,
          110.24626933199283,
          116.68568828938407,
          120.63753425111486,
          124.90634306099412,
          132.3421787421134,
          138.96631202687982,
          141.63036091747384,
          143.6110535171212,
          147.69731600816255,
          149.16679219472232,
          155.59537110942722,
          159.18385884031198,
          162.1917538849166,
          169.24255124981724,
          175.82549237237558,
          179.61430409210385,
          186.00082364118578,
          188.94020961601274,
          192.5343341690944,
          198.61429731100674,
          200.37558744668266,
          201.04376767786843,
          201.85330206568403,
          203.27594926783883,
          201.73449519784182,
          203.39085372031397,
          199.92680967946833,
          200.59585711406905,
          201.76831613102317,
          199.23478135437261,
          196.89506654095382,
          197.5940324933688,
          197.5285586355433,
          197.16736841323456,
          195.14244843942694,
          191.4923892660838,
          187.7807586502822,
          182.82989435457867,
          179.198480054656,
          171.71234657547208,
          168.07226024140036,
          163.6443196048857,
          162.51175194501724,
          162.60367550699738,
          164.31380064119384,
          159.82255415539092,
          160.83718215083204,
          157.6064158285963,
          160.2730663294351,
          157.02842475256088,
          154.6340761240029,
          149.47725101725896,
          148.64560294236327,
          144.6599360474511,
          141.18461836221167,
          134.24308862758932,
          132.79702693323205,
          130.00376473381692,
          129.85807456011256,
          127.72909017651608,
          126.83587065916198,
          127.38090800543095,
          126.62644103446195,
          127.49364444936887,
          127.58903682500865,
          127.02969062239369,
          127.77982157628813,
          125.79652736639603,
          125.20552823913698,
          126.60389374567437,
          125.65430600635133,
          124.25463969469155,
          119.18236692090106,
          112.80235139743094,
          109.70513440109092,
          106.41366383981175,
          105.20564948284641,
          104.24782331108173,
          105.48142016878683,
          110.00562038435615,
          115.34239019969328,
          117.33695805397916,
          121.12880498565963,
          121.8164972936808,
          122.42180527728583,
          124.21041232053132,
          131.92505389954317,
          131.97751970614505,
          132.03171991957672,
          132.5719876470637,
          132.02174708030526,
          132.86683680813206,
          132.35562039504444,
          123.96586095752757,
          125.37810171870346,
          126.54925993053524,
          126.23706670116877,
          129.1469677598889,
          130.98543899949155,
          130.48116021372314,
          133.32168499925075,
          134.20189646538125,
          138.3206790844816,
          143.88552339793927,
          144.5285547300927,
          147.11282090651528,
          151.5646096369399,
          152.54888551285924,
          155.58756627869306,
          159.31480655596295,
          161.9792890482644,
          167.47128827486986,
          168.47030660884263,
          169.7572364765645,
          180.92898446910272,
          185.07161518211302,
          186.6135028538175,
          191.40089930581107,
          196.84260073435195,
          208.06941614373676,
          213.4712262151919,
          213.2860782861093,
          219.7146572008142,
          226.56166176321162,
          233.0539801289122,
          240.58347377884144,
          243.30996131530875,
          261.7718548152619,
          268.9813504050905,
          290.7195384065619,
          301.4433758353008,
          317.575960962814,
          329.8733389879014,
          346.92646054033827,
          349.57099735409696,
          366.1592978761437,
          371.768803165469,
          390.28533048056136,
          405.0078428554359,
          427.63187914523473,
          444.8740510421214,
          455.9729539478074,
          472.2174083158436,
          481.6248309607538,
          493.03766150263607,
          505.0328191376285,
          512.5909305002496,
          517.9120906541184,
          522.438458878225,
          526.411551323621,
          532.2183453898377,
          537.0053082401239,
          504.30393466739923,
          507.6153509072212,
          496.69292389646876,
          493.63689906233685,
          488.8070096430128,
          493.09099451265286,
          500.924442959507,
          546.7687178868531,
          557.8337998593579,
          584.0168389639347,
          601.9375975329859,
          615.9511711161742,
          631.4121071988419,
          640.7787712832516,
          643.8473705668996,
          645.7972774453177,
          647.402037364603,
          651.9106279187039,
          653.5093174140849,
          644.3308364707101,
          654.7979816886365,
          658.9289051555456,
          665.6956934020642
         ]
        },
        {
         "mode": "lines",
         "name": "Spain",
         "type": "scatter",
         "x": [
          "1/22/20",
          "1/23/20",
          "1/24/20",
          "1/25/20",
          "1/26/20",
          "1/27/20",
          "1/28/20",
          "1/29/20",
          "1/30/20",
          "1/31/20",
          "2/1/20",
          "2/2/20",
          "2/3/20",
          "2/4/20",
          "2/5/20",
          "2/6/20",
          "2/7/20",
          "2/8/20",
          "2/9/20",
          "2/10/20",
          "2/11/20",
          "2/12/20",
          "2/13/20",
          "2/14/20",
          "2/15/20",
          "2/16/20",
          "2/17/20",
          "2/18/20",
          "2/19/20",
          "2/20/20",
          "2/21/20",
          "2/22/20",
          "2/23/20",
          "2/24/20",
          "2/25/20",
          "2/26/20",
          "2/27/20",
          "2/28/20",
          "2/29/20",
          "3/1/20",
          "3/2/20",
          "3/3/20",
          "3/4/20",
          "3/5/20",
          "3/6/20",
          "3/7/20",
          "3/8/20",
          "3/9/20",
          "3/10/20",
          "3/11/20",
          "3/12/20",
          "3/13/20",
          "3/14/20",
          "3/15/20",
          "3/16/20",
          "3/17/20",
          "3/18/20",
          "3/19/20",
          "3/20/20",
          "3/21/20",
          "3/22/20",
          "3/23/20",
          "3/24/20",
          "3/25/20",
          "3/26/20",
          "3/27/20",
          "3/28/20",
          "3/29/20",
          "3/30/20",
          "3/31/20",
          "4/1/20",
          "4/2/20",
          "4/3/20",
          "4/4/20",
          "4/5/20",
          "4/6/20",
          "4/7/20",
          "4/8/20",
          "4/9/20",
          "4/10/20",
          "4/11/20",
          "4/12/20",
          "4/13/20",
          "4/14/20",
          "4/15/20",
          "4/16/20",
          "4/17/20",
          "4/18/20",
          "4/19/20",
          "4/20/20",
          "4/21/20",
          "4/22/20",
          "4/23/20",
          "4/24/20",
          "4/25/20",
          "4/26/20",
          "4/27/20",
          "4/28/20",
          "4/29/20",
          "4/30/20",
          "5/1/20",
          "5/2/20",
          "5/3/20",
          "5/4/20",
          "5/5/20",
          "5/6/20",
          "5/7/20",
          "5/8/20",
          "5/9/20",
          "5/10/20",
          "5/11/20",
          "5/12/20",
          "5/13/20",
          "5/14/20",
          "5/15/20",
          "5/16/20",
          "5/17/20",
          "5/18/20",
          "5/19/20",
          "5/20/20",
          "5/21/20",
          "5/22/20",
          "5/23/20",
          "5/24/20",
          "5/25/20",
          "5/26/20",
          "5/27/20",
          "5/28/20",
          "5/29/20",
          "5/30/20",
          "5/31/20",
          "6/1/20",
          "6/2/20",
          "6/3/20",
          "6/4/20",
          "6/5/20",
          "6/6/20",
          "6/7/20",
          "6/8/20",
          "6/9/20",
          "6/10/20",
          "6/11/20",
          "6/12/20",
          "6/13/20",
          "6/14/20",
          "6/15/20",
          "6/16/20",
          "6/17/20",
          "6/18/20",
          "6/19/20",
          "6/20/20",
          "6/21/20",
          "6/22/20",
          "6/23/20",
          "6/24/20",
          "6/25/20",
          "6/26/20",
          "6/27/20",
          "6/28/20",
          "6/29/20",
          "6/30/20",
          "7/1/20",
          "7/2/20",
          "7/3/20",
          "7/4/20",
          "7/5/20",
          "7/6/20",
          "7/7/20",
          "7/8/20",
          "7/9/20",
          "7/10/20",
          "7/11/20",
          "7/12/20",
          "7/13/20",
          "7/14/20",
          "7/15/20",
          "7/16/20",
          "7/17/20",
          "7/18/20",
          "7/19/20",
          "7/20/20",
          "7/21/20",
          "7/22/20",
          "7/23/20",
          "7/24/20",
          "7/25/20",
          "7/26/20",
          "7/27/20",
          "7/28/20",
          "7/29/20",
          "7/30/20",
          "7/31/20",
          "8/1/20",
          "8/2/20",
          "8/3/20",
          "8/4/20",
          "8/5/20",
          "8/6/20",
          "8/7/20",
          "8/8/20",
          "8/9/20",
          "8/10/20",
          "8/11/20",
          "8/12/20",
          "8/13/20",
          "8/14/20",
          "8/15/20",
          "8/16/20",
          "8/17/20",
          "8/18/20",
          "8/19/20",
          "8/20/20",
          "8/21/20",
          "8/22/20",
          "8/23/20",
          "8/24/20",
          "8/25/20",
          "8/26/20",
          "8/27/20",
          "8/28/20",
          "8/29/20",
          "8/30/20",
          "8/31/20",
          "9/1/20",
          "9/2/20",
          "9/3/20",
          "9/4/20",
          "9/5/20",
          "9/6/20",
          "9/7/20",
          "9/8/20",
          "9/9/20",
          "9/10/20",
          "9/11/20",
          "9/12/20",
          "9/13/20",
          "9/14/20",
          "9/15/20",
          "9/16/20",
          "9/17/20",
          "9/18/20",
          "9/19/20",
          "9/20/20",
          "9/21/20",
          "9/22/20",
          "9/23/20",
          "9/24/20",
          "9/25/20",
          "9/26/20",
          "9/27/20",
          "9/28/20",
          "9/29/20",
          "9/30/20",
          "10/1/20",
          "10/2/20",
          "10/3/20",
          "10/4/20",
          "10/5/20",
          "10/6/20",
          "10/7/20",
          "10/8/20",
          "10/9/20",
          "10/10/20",
          "10/11/20",
          "10/12/20",
          "10/13/20",
          "10/14/20",
          "10/15/20",
          "10/16/20",
          "10/17/20",
          "10/18/20",
          "10/19/20",
          "10/20/20",
          "10/21/20",
          "10/22/20",
          "10/23/20",
          "10/24/20",
          "10/25/20",
          "10/26/20",
          "10/27/20",
          "10/28/20",
          "10/29/20",
          "10/30/20",
          "10/31/20",
          "11/1/20",
          "11/2/20",
          "11/3/20",
          "11/4/20",
          "11/5/20",
          "11/6/20",
          "11/7/20",
          "11/8/20",
          "11/9/20",
          "11/10/20",
          "11/11/20",
          "11/12/20",
          "11/13/20",
          "11/14/20",
          "11/15/20",
          "11/16/20",
          "11/17/20",
          "11/18/20",
          "11/19/20",
          "11/20/20",
          "11/21/20",
          "11/22/20",
          "11/23/20",
          "11/24/20",
          "11/25/20",
          "11/26/20",
          "11/27/20",
          "11/28/20",
          "11/29/20",
          "11/30/20",
          "12/1/20",
          "12/2/20",
          "12/3/20",
          "12/4/20",
          "12/5/20",
          "12/6/20",
          "12/7/20",
          "12/8/20",
          "12/9/20",
          "12/10/20",
          "12/11/20",
          "12/12/20",
          "12/13/20",
          "12/14/20",
          "12/15/20",
          "12/16/20",
          "12/17/20",
          "12/18/20"
         ],
         "y": [
          null,
          null,
          null,
          null,
          null,
          null,
          null,
          0,
          0,
          0,
          0.003055455157542766,
          0.003055455157542766,
          0.003055455157542766,
          0.003055455157542766,
          0.003055455157542766,
          0.003055455157542766,
          0.003055455157542766,
          0,
          0.003055455157542766,
          0.003055455157542766,
          0.003055455157542766,
          0.003055455157542766,
          0.003055455157542766,
          0.003055455157542766,
          0.003055455157542766,
          0,
          0,
          0,
          0,
          0,
          0,
          0,
          0,
          0,
          0.012221820630171064,
          0.033610006732970425,
          0.03972091704805596,
          0.09166365472628299,
          0.13138457177433896,
          0.2505473229185068,
          0.3605437085900465,
          0.4858173700492998,
          0.6385901279264381,
          0.7455310584404349,
          1.1244074979757381,
          1.3902320966819588,
          1.7996630877926894,
          2.9118487651382563,
          4.674846391040433,
          6.278960348750385,
          6.165908507921302,
          14.763959321246649,
          17.999686333084437,
          21.770117997492214,
          27.098831792246795,
          30.71649069877743,
          35.544109847695005,
          47.927869601215825,
          46.37569838118411,
          58.001705255634334,
          64.07289465367181,
          76.97913723913246,
          85.97134176778081,
          108.7894808843102,
          121.6773907388256,
          138.4396177331052,
          146.23713929515435,
          156.87317869856074,
          161.3891414214089,
          171.22159611838154,
          166.83701796730767,
          165.8470504962638,
          163.40574182538717,
          161.73440785421124,
          157.465936999124,
          148.85871982032603,
          140.60899089496056,
          134.7516833579511,
          125.75336791898764,
          119.38885482582606,
          112.62102165186882,
          107.50618971814224,
          102.12553318570943,
          93.49387236565111,
          89.90371255553836,
          96.93737032820182,
          99.50395266053773,
          87.68850756631986,
          97.29485858163432,
          92.00281024877023,
          96.66543481918049,
          93.93996881865235,
          85.7849590031707,
          37.126835619302156,
          43.32329867879889,
          27.376878211583186,
          28.2782374830583,
          20.150726763994545,
          13.835100953353647,
          1.2557920697500768,
          37.35599475611786,
          32.623094717084115,
          30.041235108960482,
          26.111919776360484,
          26.142474327935908,
          22.63481180707681,
          24.480306722232648,
          23.346732858784282,
          21.375964282169193,
          21.033753304524403,
          28.797664859840573,
          26.58551532577961,
          25.561937848002785,
          24.727798589993608,
          22.38426448415831,
          21.754840721704497,
          19.396029340081483,
          12.741248006953334,
          12.243208816273865,
          11.80627872874525,
          10.684926685927053,
          14.180367386155979,
          14.030650083436383,
          15.503379469371998,
          11.592396867717257,
          12.900131675145559,
          11.317405903538406,
          14.87701116207573,
          11.427402289209947,
          12.032382410403413,
          11.326572269011034,
          12.949018957666246,
          11.22268679365458,
          12.42653612572643,
          8.414723503872779,
          7.375868750308237,
          6.36145763800404,
          6.3278476312710685,
          6.352291272531412,
          6.214795790441986,
          5.970359377838566,
          6.254516707490043,
          6.8167204564779125,
          7.012269586560649,
          7.2658723646366985,
          7.308648736842297,
          7.216985082116015,
          7.342258743575267,
          7.825020658467025,
          7.229206902746185,
          7.128376882547274,
          7.161986889280244,
          7.317815102314927,
          7.406423301883666,
          7.342258743575267,
          6.7769995394298554,
          7.119210517074645,
          7.733357003740742,
          7.632526983541831,
          7.534752418500462,
          7.696691541850228,
          7.861686120357537,
          7.99612614728942,
          8.066401615912904,
          6.343124907058782,
          5.42343290463841,
          8.61332808911306,
          8.73554629541477,
          8.720269019627056,
          9.02275908022379,
          10.275495694816323,
          10.275495694816323,
          10.275495694816323,
          12.72291527600808,
          13.715938202209479,
          15.21922213972052,
          17.718584458590502,
          19.392973884923936,
          19.392973884923936,
          19.392973884923936,
          27.141608164452396,
          29.25598313347199,
          30.728712519407605,
          34.56025328696623,
          37.172667446665294,
          37.172667446665294,
          37.172667446665294,
          42.611377627091414,
          44.04744155113652,
          46.10681832732035,
          46.63846752473278,
          49.195883491596085,
          49.195883491596085,
          49.195883491596085,
          55.82927663862142,
          67.84332631807958,
          70.66045597333402,
          74.62949222298207,
          78.95296127090509,
          78.95296127090509,
          78.95296127090509,
          79.21573041445377,
          72.71372183920276,
          73.38286651870462,
          83.96085227411767,
          86.93075468724925,
          86.93075468724925,
          86.93075468724925,
          110.30804209760896,
          114.83622664108732,
          125.52726423732948,
          123.96592665182511,
          132.1209364673068,
          132.1209364673068,
          132.1209364673068,
          141.6325683727374,
          147.75264505329554,
          149.6623045267598,
          157.6645415843643,
          162.64798894631656,
          162.64798894631656,
          162.64798894631656,
          175.45034605642073,
          178.49969030364844,
          182.42595018109085,
          180.29018702596846,
          182.41983927077578,
          182.41983927077578,
          182.41983927077578,
          191.54953928151357,
          194.14362071026736,
          195.01442543016705,
          200.5295219895318,
          205.74518394345728,
          205.74518394345728,
          205.74518394345728,
          208.32398809642334,
          209.7692183859411,
          216.8792625375431,
          218.48948740556813,
          225.2298214831075,
          225.2298214831075,
          225.2298214831075,
          237.52497303705957,
          241.68650296163284,
          241.97982665675693,
          240.03044626624464,
          233.5620476977266,
          233.5620476977266,
          233.5620476977266,
          234.65284518896937,
          201.65698494266505,
          231.09018447527453,
          227.31975281086673,
          224.42623677667373,
          224.42623677667373,
          224.42623677667373,
          199.05068169328106,
          235.7100326734792,
          203.83857992515055,
          213.01716721840907,
          217.48729811389413,
          217.48729811389413,
          217.48729811389413,
          230.85796988330128,
          215.9473487144926,
          220.4663668924983,
          223.2009992584991,
          230.52798072628661,
          230.52798072628661,
          230.52798072628661,
          261.18336232191325,
          281.8229619111146,
          297.10940406430103,
          320.538634212339,
          334.79233252227596,
          334.79233252227596,
          334.79233252227596,
          378.48228581997995,
          392.3693295110119,
          400.9001603108713,
          408.8260109895372,
          426.3765454144629,
          426.3765454144629,
          426.3765454144629,
          435.02653896546644,
          435.7934582100097,
          451.9170950763629,
          446.8083740529514,
          437.40062762287715,
          437.40062762287715,
          437.40062762287715,
          429.3556141930671,
          372.3133218569012,
          407.2952279556083,
          399.97130194297824,
          396.4728057875918,
          396.4728057875918,
          396.4728057875918,
          353.3511671491907,
          393.557901567296,
          328.86474951664303,
          318.8489675102179,
          299.85931370608955,
          299.85931370608955,
          299.85931370608955,
          262.0113906696073,
          259.16676191793493,
          243.59616243509703,
          231.5454472937484,
          218.39782375084184,
          218.39782375084184,
          218.39782375084184,
          200.34925013523673,
          188.21603770463443,
          185.4936271592638,
          178.88773310865636,
          172.4468336365562,
          172.4468336365562,
          172.4468336365562,
          165.42539768452292,
          140.1965044486923,
          141.5470156283262,
          134.9105670261433,
          140.3309444756242,
          140.3309444756242,
          140.3309444756242,
          151.41613578718932,
          182.97287665429104,
          186.96024563488433,
          199.71982637278293,
          203.67969625695835
         ]
        }
       ],
       "layout": {
        "autosize": true,
        "template": {
         "data": {
          "bar": [
           {
            "error_x": {
             "color": "#2a3f5f"
            },
            "error_y": {
             "color": "#2a3f5f"
            },
            "marker": {
             "line": {
              "color": "#E5ECF6",
              "width": 0.5
             }
            },
            "type": "bar"
           }
          ],
          "barpolar": [
           {
            "marker": {
             "line": {
              "color": "#E5ECF6",
              "width": 0.5
             }
            },
            "type": "barpolar"
           }
          ],
          "carpet": [
           {
            "aaxis": {
             "endlinecolor": "#2a3f5f",
             "gridcolor": "white",
             "linecolor": "white",
             "minorgridcolor": "white",
             "startlinecolor": "#2a3f5f"
            },
            "baxis": {
             "endlinecolor": "#2a3f5f",
             "gridcolor": "white",
             "linecolor": "white",
             "minorgridcolor": "white",
             "startlinecolor": "#2a3f5f"
            },
            "type": "carpet"
           }
          ],
          "choropleth": [
           {
            "colorbar": {
             "outlinewidth": 0,
             "ticks": ""
            },
            "type": "choropleth"
           }
          ],
          "contour": [
           {
            "colorbar": {
             "outlinewidth": 0,
             "ticks": ""
            },
            "colorscale": [
             [
              0,
              "#0d0887"
             ],
             [
              0.1111111111111111,
              "#46039f"
             ],
             [
              0.2222222222222222,
              "#7201a8"
             ],
             [
              0.3333333333333333,
              "#9c179e"
             ],
             [
              0.4444444444444444,
              "#bd3786"
             ],
             [
              0.5555555555555556,
              "#d8576b"
             ],
             [
              0.6666666666666666,
              "#ed7953"
             ],
             [
              0.7777777777777778,
              "#fb9f3a"
             ],
             [
              0.8888888888888888,
              "#fdca26"
             ],
             [
              1,
              "#f0f921"
             ]
            ],
            "type": "contour"
           }
          ],
          "contourcarpet": [
           {
            "colorbar": {
             "outlinewidth": 0,
             "ticks": ""
            },
            "type": "contourcarpet"
           }
          ],
          "heatmap": [
           {
            "colorbar": {
             "outlinewidth": 0,
             "ticks": ""
            },
            "colorscale": [
             [
              0,
              "#0d0887"
             ],
             [
              0.1111111111111111,
              "#46039f"
             ],
             [
              0.2222222222222222,
              "#7201a8"
             ],
             [
              0.3333333333333333,
              "#9c179e"
             ],
             [
              0.4444444444444444,
              "#bd3786"
             ],
             [
              0.5555555555555556,
              "#d8576b"
             ],
             [
              0.6666666666666666,
              "#ed7953"
             ],
             [
              0.7777777777777778,
              "#fb9f3a"
             ],
             [
              0.8888888888888888,
              "#fdca26"
             ],
             [
              1,
              "#f0f921"
             ]
            ],
            "type": "heatmap"
           }
          ],
          "heatmapgl": [
           {
            "colorbar": {
             "outlinewidth": 0,
             "ticks": ""
            },
            "colorscale": [
             [
              0,
              "#0d0887"
             ],
             [
              0.1111111111111111,
              "#46039f"
             ],
             [
              0.2222222222222222,
              "#7201a8"
             ],
             [
              0.3333333333333333,
              "#9c179e"
             ],
             [
              0.4444444444444444,
              "#bd3786"
             ],
             [
              0.5555555555555556,
              "#d8576b"
             ],
             [
              0.6666666666666666,
              "#ed7953"
             ],
             [
              0.7777777777777778,
              "#fb9f3a"
             ],
             [
              0.8888888888888888,
              "#fdca26"
             ],
             [
              1,
              "#f0f921"
             ]
            ],
            "type": "heatmapgl"
           }
          ],
          "histogram": [
           {
            "marker": {
             "colorbar": {
              "outlinewidth": 0,
              "ticks": ""
             }
            },
            "type": "histogram"
           }
          ],
          "histogram2d": [
           {
            "colorbar": {
             "outlinewidth": 0,
             "ticks": ""
            },
            "colorscale": [
             [
              0,
              "#0d0887"
             ],
             [
              0.1111111111111111,
              "#46039f"
             ],
             [
              0.2222222222222222,
              "#7201a8"
             ],
             [
              0.3333333333333333,
              "#9c179e"
             ],
             [
              0.4444444444444444,
              "#bd3786"
             ],
             [
              0.5555555555555556,
              "#d8576b"
             ],
             [
              0.6666666666666666,
              "#ed7953"
             ],
             [
              0.7777777777777778,
              "#fb9f3a"
             ],
             [
              0.8888888888888888,
              "#fdca26"
             ],
             [
              1,
              "#f0f921"
             ]
            ],
            "type": "histogram2d"
           }
          ],
          "histogram2dcontour": [
           {
            "colorbar": {
             "outlinewidth": 0,
             "ticks": ""
            },
            "colorscale": [
             [
              0,
              "#0d0887"
             ],
             [
              0.1111111111111111,
              "#46039f"
             ],
             [
              0.2222222222222222,
              "#7201a8"
             ],
             [
              0.3333333333333333,
              "#9c179e"
             ],
             [
              0.4444444444444444,
              "#bd3786"
             ],
             [
              0.5555555555555556,
              "#d8576b"
             ],
             [
              0.6666666666666666,
              "#ed7953"
             ],
             [
              0.7777777777777778,
              "#fb9f3a"
             ],
             [
              0.8888888888888888,
              "#fdca26"
             ],
             [
              1,
              "#f0f921"
             ]
            ],
            "type": "histogram2dcontour"
           }
          ],
          "mesh3d": [
           {
            "colorbar": {
             "outlinewidth": 0,
             "ticks": ""
            },
            "type": "mesh3d"
           }
          ],
          "parcoords": [
           {
            "line": {
             "colorbar": {
              "outlinewidth": 0,
              "ticks": ""
             }
            },
            "type": "parcoords"
           }
          ],
          "pie": [
           {
            "automargin": true,
            "type": "pie"
           }
          ],
          "scatter": [
           {
            "marker": {
             "colorbar": {
              "outlinewidth": 0,
              "ticks": ""
             }
            },
            "type": "scatter"
           }
          ],
          "scatter3d": [
           {
            "line": {
             "colorbar": {
              "outlinewidth": 0,
              "ticks": ""
             }
            },
            "marker": {
             "colorbar": {
              "outlinewidth": 0,
              "ticks": ""
             }
            },
            "type": "scatter3d"
           }
          ],
          "scattercarpet": [
           {
            "marker": {
             "colorbar": {
              "outlinewidth": 0,
              "ticks": ""
             }
            },
            "type": "scattercarpet"
           }
          ],
          "scattergeo": [
           {
            "marker": {
             "colorbar": {
              "outlinewidth": 0,
              "ticks": ""
             }
            },
            "type": "scattergeo"
           }
          ],
          "scattergl": [
           {
            "marker": {
             "colorbar": {
              "outlinewidth": 0,
              "ticks": ""
             }
            },
            "type": "scattergl"
           }
          ],
          "scattermapbox": [
           {
            "marker": {
             "colorbar": {
              "outlinewidth": 0,
              "ticks": ""
             }
            },
            "type": "scattermapbox"
           }
          ],
          "scatterpolar": [
           {
            "marker": {
             "colorbar": {
              "outlinewidth": 0,
              "ticks": ""
             }
            },
            "type": "scatterpolar"
           }
          ],
          "scatterpolargl": [
           {
            "marker": {
             "colorbar": {
              "outlinewidth": 0,
              "ticks": ""
             }
            },
            "type": "scatterpolargl"
           }
          ],
          "scatterternary": [
           {
            "marker": {
             "colorbar": {
              "outlinewidth": 0,
              "ticks": ""
             }
            },
            "type": "scatterternary"
           }
          ],
          "surface": [
           {
            "colorbar": {
             "outlinewidth": 0,
             "ticks": ""
            },
            "colorscale": [
             [
              0,
              "#0d0887"
             ],
             [
              0.1111111111111111,
              "#46039f"
             ],
             [
              0.2222222222222222,
              "#7201a8"
             ],
             [
              0.3333333333333333,
              "#9c179e"
             ],
             [
              0.4444444444444444,
              "#bd3786"
             ],
             [
              0.5555555555555556,
              "#d8576b"
             ],
             [
              0.6666666666666666,
              "#ed7953"
             ],
             [
              0.7777777777777778,
              "#fb9f3a"
             ],
             [
              0.8888888888888888,
              "#fdca26"
             ],
             [
              1,
              "#f0f921"
             ]
            ],
            "type": "surface"
           }
          ],
          "table": [
           {
            "cells": {
             "fill": {
              "color": "#EBF0F8"
             },
             "line": {
              "color": "white"
             }
            },
            "header": {
             "fill": {
              "color": "#C8D4E3"
             },
             "line": {
              "color": "white"
             }
            },
            "type": "table"
           }
          ]
         },
         "layout": {
          "annotationdefaults": {
           "arrowcolor": "#2a3f5f",
           "arrowhead": 0,
           "arrowwidth": 1
          },
          "autotypenumbers": "strict",
          "coloraxis": {
           "colorbar": {
            "outlinewidth": 0,
            "ticks": ""
           }
          },
          "colorscale": {
           "diverging": [
            [
             0,
             "#8e0152"
            ],
            [
             0.1,
             "#c51b7d"
            ],
            [
             0.2,
             "#de77ae"
            ],
            [
             0.3,
             "#f1b6da"
            ],
            [
             0.4,
             "#fde0ef"
            ],
            [
             0.5,
             "#f7f7f7"
            ],
            [
             0.6,
             "#e6f5d0"
            ],
            [
             0.7,
             "#b8e186"
            ],
            [
             0.8,
             "#7fbc41"
            ],
            [
             0.9,
             "#4d9221"
            ],
            [
             1,
             "#276419"
            ]
           ],
           "sequential": [
            [
             0,
             "#0d0887"
            ],
            [
             0.1111111111111111,
             "#46039f"
            ],
            [
             0.2222222222222222,
             "#7201a8"
            ],
            [
             0.3333333333333333,
             "#9c179e"
            ],
            [
             0.4444444444444444,
             "#bd3786"
            ],
            [
             0.5555555555555556,
             "#d8576b"
            ],
            [
             0.6666666666666666,
             "#ed7953"
            ],
            [
             0.7777777777777778,
             "#fb9f3a"
            ],
            [
             0.8888888888888888,
             "#fdca26"
            ],
            [
             1,
             "#f0f921"
            ]
           ],
           "sequentialminus": [
            [
             0,
             "#0d0887"
            ],
            [
             0.1111111111111111,
             "#46039f"
            ],
            [
             0.2222222222222222,
             "#7201a8"
            ],
            [
             0.3333333333333333,
             "#9c179e"
            ],
            [
             0.4444444444444444,
             "#bd3786"
            ],
            [
             0.5555555555555556,
             "#d8576b"
            ],
            [
             0.6666666666666666,
             "#ed7953"
            ],
            [
             0.7777777777777778,
             "#fb9f3a"
            ],
            [
             0.8888888888888888,
             "#fdca26"
            ],
            [
             1,
             "#f0f921"
            ]
           ]
          },
          "colorway": [
           "#636efa",
           "#EF553B",
           "#00cc96",
           "#ab63fa",
           "#FFA15A",
           "#19d3f3",
           "#FF6692",
           "#B6E880",
           "#FF97FF",
           "#FECB52"
          ],
          "font": {
           "color": "#2a3f5f"
          },
          "geo": {
           "bgcolor": "white",
           "lakecolor": "white",
           "landcolor": "#E5ECF6",
           "showlakes": true,
           "showland": true,
           "subunitcolor": "white"
          },
          "hoverlabel": {
           "align": "left"
          },
          "hovermode": "closest",
          "mapbox": {
           "style": "light"
          },
          "paper_bgcolor": "white",
          "plot_bgcolor": "#E5ECF6",
          "polar": {
           "angularaxis": {
            "gridcolor": "white",
            "linecolor": "white",
            "ticks": ""
           },
           "bgcolor": "#E5ECF6",
           "radialaxis": {
            "gridcolor": "white",
            "linecolor": "white",
            "ticks": ""
           }
          },
          "scene": {
           "xaxis": {
            "backgroundcolor": "#E5ECF6",
            "gridcolor": "white",
            "gridwidth": 2,
            "linecolor": "white",
            "showbackground": true,
            "ticks": "",
            "zerolinecolor": "white"
           },
           "yaxis": {
            "backgroundcolor": "#E5ECF6",
            "gridcolor": "white",
            "gridwidth": 2,
            "linecolor": "white",
            "showbackground": true,
            "ticks": "",
            "zerolinecolor": "white"
           },
           "zaxis": {
            "backgroundcolor": "#E5ECF6",
            "gridcolor": "white",
            "gridwidth": 2,
            "linecolor": "white",
            "showbackground": true,
            "ticks": "",
            "zerolinecolor": "white"
           }
          },
          "shapedefaults": {
           "line": {
            "color": "#2a3f5f"
           }
          },
          "ternary": {
           "aaxis": {
            "gridcolor": "white",
            "linecolor": "white",
            "ticks": ""
           },
           "baxis": {
            "gridcolor": "white",
            "linecolor": "white",
            "ticks": ""
           },
           "bgcolor": "#E5ECF6",
           "caxis": {
            "gridcolor": "white",
            "linecolor": "white",
            "ticks": ""
           }
          },
          "title": {
           "x": 0.05
          },
          "xaxis": {
           "automargin": true,
           "gridcolor": "white",
           "linecolor": "white",
           "ticks": "",
           "title": {
            "standoff": 15
           },
           "zerolinecolor": "white",
           "zerolinewidth": 2
          },
          "yaxis": {
           "automargin": true,
           "gridcolor": "white",
           "linecolor": "white",
           "ticks": "",
           "title": {
            "standoff": 15
           },
           "zerolinecolor": "white",
           "zerolinewidth": 2
          }
         }
        },
        "xaxis": {
         "autorange": true,
         "range": [
          0,
          331
         ],
         "type": "category"
        },
        "yaxis": {
         "autorange": true,
         "range": [
          -45.96469177584379,
          873.329143741032
         ],
         "type": "linear"
        }
       }
      },
      "image/png": "[encoded data removed]",
      "text/html": [
       "<div>                            <div id=\"dd795243-10b4-4834-afb7-a0c0921715aa\" class=\"plotly-graph-div\" style=\"height:525px; width:100%;\"></div>            <script type=\"text/javascript\">                require([\"plotly\"], function(Plotly) {                    window.PLOTLYENV=window.PLOTLYENV || {};                                    if (document.getElementById(\"dd795243-10b4-4834-afb7-a0c0921715aa\")) {                    Plotly.newPlot(                        \"dd795243-10b4-4834-afb7-a0c0921715aa\",                        [{\"mode\": \"lines\", \"name\": \"Oklahoma, USA\", \"type\": \"scatter\", \"x\": [\"1/22/20\", \"1/23/20\", \"1/24/20\", \"1/25/20\", \"1/26/20\", \"1/27/20\", \"1/28/20\", \"1/29/20\", \"1/30/20\", \"1/31/20\", \"2/1/20\", \"2/2/20\", \"2/3/20\", \"2/4/20\", \"2/5/20\", \"2/6/20\", \"2/7/20\", \"2/8/20\", \"2/9/20\", \"2/10/20\", \"2/11/20\", \"2/12/20\", \"2/13/20\", \"2/14/20\", \"2/15/20\", \"2/16/20\", \"2/17/20\", \"2/18/20\", \"2/19/20\", \"2/20/20\", \"2/21/20\", \"2/22/20\", \"2/23/20\", \"2/24/20\", \"2/25/20\", \"2/26/20\", \"2/27/20\", \"2/28/20\", \"2/29/20\", \"3/1/20\", \"3/2/20\", \"3/3/20\", \"3/4/20\", \"3/5/20\", \"3/6/20\", \"3/7/20\", \"3/8/20\", \"3/9/20\", \"3/10/20\", \"3/11/20\", \"3/12/20\", \"3/13/20\", \"3/14/20\", \"3/15/20\", \"3/16/20\", \"3/17/20\", \"3/18/20\", \"3/19/20\", \"3/20/20\", \"3/21/20\", \"3/22/20\", \"3/23/20\", \"3/24/20\", \"3/25/20\", \"3/26/20\", \"3/27/20\", \"3/28/20\", \"3/29/20\", \"3/30/20\", \"3/31/20\", \"4/1/20\", \"4/2/20\", \"4/3/20\", \"4/4/20\", \"4/5/20\", \"4/6/20\", \"4/7/20\", \"4/8/20\", \"4/9/20\", \"4/10/20\", \"4/11/20\", \"4/12/20\", \"4/13/20\", \"4/14/20\", \"4/15/20\", \"4/16/20\", \"4/17/20\", \"4/18/20\", \"4/19/20\", \"4/20/20\", \"4/21/20\", \"4/22/20\", \"4/23/20\", \"4/24/20\", \"4/25/20\", \"4/26/20\", \"4/27/20\", \"4/28/20\", \"4/29/20\", \"4/30/20\", \"5/1/20\", \"5/2/20\", \"5/3/20\", \"5/4/20\", \"5/5/20\", \"5/6/20\", \"5/7/20\", \"5/8/20\", \"5/9/20\", \"5/10/20\", \"5/11/20\", \"5/12/20\", \"5/13/20\", \"5/14/20\", \"5/15/20\", \"5/16/20\", \"5/17/20\", \"5/18/20\", \"5/19/20\", \"5/20/20\", \"5/21/20\", \"5/22/20\", \"5/23/20\", \"5/24/20\", \"5/25/20\", \"5/26/20\", \"5/27/20\", \"5/28/20\", \"5/29/20\", \"5/30/20\", \"5/31/20\", \"6/1/20\", \"6/2/20\", \"6/3/20\", \"6/4/20\", \"6/5/20\", \"6/6/20\", \"6/7/20\", \"6/8/20\", \"6/9/20\", \"6/10/20\", \"6/11/20\", \"6/12/20\", \"6/13/20\", \"6/14/20\", \"6/15/20\", \"6/16/20\", \"6/17/20\", \"6/18/20\", \"6/19/20\", \"6/20/20\", \"6/21/20\", \"6/22/20\", \"6/23/20\", \"6/24/20\", \"6/25/20\", \"6/26/20\", \"6/27/20\", \"6/28/20\", \"6/29/20\", \"6/30/20\", \"7/1/20\", \"7/2/20\", \"7/3/20\", \"7/4/20\", \"7/5/20\", \"7/6/20\", \"7/7/20\", \"7/8/20\", \"7/9/20\", \"7/10/20\", \"7/11/20\", \"7/12/20\", \"7/13/20\", \"7/14/20\", \"7/15/20\", \"7/16/20\", \"7/17/20\", \"7/18/20\", \"7/19/20\", \"7/20/20\", \"7/21/20\", \"7/22/20\", \"7/23/20\", \"7/24/20\", \"7/25/20\", \"7/26/20\", \"7/27/20\", \"7/28/20\", \"7/29/20\", \"7/30/20\", \"7/31/20\", \"8/1/20\", \"8/2/20\", \"8/3/20\", \"8/4/20\", \"8/5/20\", \"8/6/20\", \"8/7/20\", \"8/8/20\", \"8/9/20\", \"8/10/20\", \"8/11/20\", \"8/12/20\", \"8/13/20\", \"8/14/20\", \"8/15/20\", \"8/16/20\", \"8/17/20\", \"8/18/20\", \"8/19/20\", \"8/20/20\", \"8/21/20\", \"8/22/20\", \"8/23/20\", \"8/24/20\", \"8/25/20\", \"8/26/20\", \"8/27/20\", \"8/28/20\", \"8/29/20\", \"8/30/20\", \"8/31/20\", \"9/1/20\", \"9/2/20\", \"9/3/20\", \"9/4/20\", \"9/5/20\", \"9/6/20\", \"9/7/20\", \"9/8/20\", \"9/9/20\", \"9/10/20\", \"9/11/20\", \"9/12/20\", \"9/13/20\", \"9/14/20\", \"9/15/20\", \"9/16/20\", \"9/17/20\", \"9/18/20\", \"9/19/20\", \"9/20/20\", \"9/21/20\", \"9/22/20\", \"9/23/20\", \"9/24/20\", \"9/25/20\", \"9/26/20\", \"9/27/20\", \"9/28/20\", \"9/29/20\", \"9/30/20\", \"10/1/20\", \"10/2/20\", \"10/3/20\", \"10/4/20\", \"10/5/20\", \"10/6/20\", \"10/7/20\", \"10/8/20\", \"10/9/20\", \"10/10/20\", \"10/11/20\", \"10/12/20\", \"10/13/20\", \"10/14/20\", \"10/15/20\", \"10/16/20\", \"10/17/20\", \"10/18/20\", \"10/19/20\", \"10/20/20\", \"10/21/20\", \"10/22/20\", \"10/23/20\", \"10/24/20\", \"10/25/20\", \"10/26/20\", \"10/27/20\", \"10/28/20\", \"10/29/20\", \"10/30/20\", \"10/31/20\", \"11/1/20\", \"11/2/20\", \"11/3/20\", \"11/4/20\", \"11/5/20\", \"11/6/20\", \"11/7/20\", \"11/8/20\", \"11/9/20\", \"11/10/20\", \"11/11/20\", \"11/12/20\", \"11/13/20\", \"11/14/20\", \"11/15/20\", \"11/16/20\", \"11/17/20\", \"11/18/20\", \"11/19/20\", \"11/20/20\", \"11/21/20\", \"11/22/20\", \"11/23/20\", \"11/24/20\", \"11/25/20\", \"11/26/20\", \"11/27/20\", \"11/28/20\", \"11/29/20\", \"11/30/20\", \"12/1/20\", \"12/2/20\", \"12/3/20\", \"12/4/20\", \"12/5/20\", \"12/6/20\", \"12/7/20\", \"12/8/20\", \"12/9/20\", \"12/10/20\", \"12/11/20\", \"12/12/20\", \"12/13/20\", \"12/14/20\", \"12/15/20\", \"12/16/20\", \"12/17/20\", \"12/18/20\"], \"y\": [null, null, null, null, null, null, null, 0.0, 0.0, 0.0, 0.0, 0.0, 0.0, 0.0, 0.0, 0.0, 0.0, 0.0, 0.0, 0.0, 0.0, 0.0, 0.0, 0.0, 0.0, 0.0, 0.0, 0.0, 0.0, 0.0, 0.0, 0.0, 0.0, 0.0, 0.0, 0.0, 0.0, 0.0, 0.0, 0.0, 0.0, 0.0, 0.0, 0.0, 0.0, 0.03610265095628521, 0.03610265095628521, 0.03610265095628521, 0.07220530191257042, 0.07220530191257042, 0.10830795286885563, 0.10830795286885563, 0.10830795286885563, 0.10830795286885563, 0.324923858606567, 0.5415397643442782, 0.5415397643442782, 1.4802086892076936, 1.6607219439891197, 1.7690298968579754, 2.2744670102459685, 2.56328821789625, 3.213135935109384, 5.307089690573926, 7.364940795082184, 9.856023711065863, 11.697258909836409, 13.069159646175248, 14.441060382514086, 16.679424741803768, 20.10917658265086, 22.852978055328542, 24.116570838798523, 28.304478349727606, 29.784687038935303, 30.615048010929858, 32.7090017663944, 29.062634019809597, 29.062634019809597, 29.026531368853313, 25.524574226093645, 25.849498084700212, 26.715961707651058, 25.6328821789625, 26.607653754782202, 24.22487879166738, 24.22487879166738, 21.553282620902277, 21.553282620902277, 22.058719734290268, 22.491951545765687, 22.78077275341597, 23.827749631148244, 23.683339027323097, 26.31883254713192, 24.80252120696794, 21.697693224727413, 21.76989852663998, 20.90343490368914, 21.697693224727413, 22.636362149590827, 23.719441678279388, 25.921703386612784, 27.546322679645616, 25.8856007356565, 26.31883254713192, 25.705087480875072, 24.405392046448803, 23.069593961066253, 22.275335640027976, 20.542408394126287, 21.842103828552556, 23.683339027323097, 22.852978055328542, 23.936057584017096, 26.968680264345053, 26.03001133948164, 28.34058100068389, 27.329706773907905, 24.333186744536235, 25.8856007356565, 27.510220028689332, 26.10221664139421, 26.246627245219354, 24.98303446174937, 23.4306204706291, 25.163547716530793, 21.40887201707713, 17.65419631762347, 16.535014137978628, 13.755110014344666, 17.437580411885758, 20.000868629782005, 20.795126950820286, 22.889080706284826, 24.152673489754807, 23.14179926297882, 26.427140500000778, 22.816875404372254, 24.22487879166738, 24.477597348361375, 25.957806037569068, 30.398432105192153, 36.60808806967321, 39.026965683744315, 43.75641295901767, 46.28359852595764, 51.30186700888129, 62.42148350341713, 67.07872547677793, 70.94170912910045, 82.49455743511172, 83.64984226571283, 86.14092518169652, 94.08350839207927, 93.61417392964756, 95.31099852459297, 94.15571369399183, 87.76554447472935, 88.12657098429221, 98.4158265068335, 94.19181634494812, 93.2531474200847, 98.27141590300835, 108.38015817076821, 107.73031045355508, 115.05914859768097, 125.0234802616157, 136.2875073599767, 143.18311369262716, 145.2409647971354, 149.1400511004142, 155.38580971585156, 158.27402179235438, 163.18398232240918, 177.62504270492326, 178.4554036769178, 182.24618202732776, 190.54979174727336, 181.6324369610709, 169.32143298497766, 165.56675728552398, 161.8842868879829, 163.50890618101573, 179.64679115847522, 181.37971840437692, 217.3018561058807, 261.7081167821115, 268.92864697336853, 264.4519182547892, 280.5537005812924, 266.1126401987783, 276.18527981558185, 250.5523976366194, 213.61938570833962, 205.35187863935028, 214.48584933129044, 204.3771070635306, 208.2400907158531, 193.1130799651696, 192.82425875751932, 193.54631177664504, 190.08045728484163, 174.52021472268274, 169.75466479645306, 167.58850573907594, 170.33230721175363, 172.4262609672182, 171.4153867404422, 165.49455198361144, 163.3644955771906, 164.8447042663983, 175.06175448702697, 173.3288272411253, 174.1230855621636, 173.68985375068817, 175.45888364754614, 177.4445294501418, 176.21703931762815, 162.96736641667147, 171.6320026461799, 178.85253283743694, 188.13091413320225, 188.67245389754652, 190.62199704918595, 197.73421928757412, 208.67332252732854, 210.6228656789679, 198.13134844809326, 198.09524579713698, 204.1604911577929, 209.79250470697335, 204.81033887500604, 202.24705065710978, 197.55370603279266, 207.4819350457711, 216.72421369058014, 226.03869763730174, 229.43234682719253, 238.92734402869556, 250.01085787227512, 257.95344108265783, 269.0730575771937, 277.4488725990519, 280.08436611886066, 284.3805815826586, 286.1496114795166, 287.1243830553363, 278.2070282691339, 271.7085510970025, 263.0439148674941, 258.02564638457045, 254.0904574303353, 257.23138806353217, 254.1265600812916, 261.31098762159235, 231.59850588456965, 245.06479469126398, 257.30359336544467, 258.24226229030813, 259.75857363047214, 271.8168590498714, 284.2361709788335, 311.8908016113479, 296.1139431434513, 294.1282973408557, 298.3162048517847, 298.6411287103913, 296.76379086066447, 283.29750205397005, 285.6441743661286, 284.813813394134, 290.80685345287736, 297.48584387979014, 312.17962281899827, 308.605460374326, 332.75813386408083, 340.70071707446357, 336.69332281831583, 319.9055901236433, 299.5436949842984, 278.35143887295897, 275.7881506550627, 255.49846081763047, 266.2570508026035, 281.45626685519954, 293.0452178121671, 311.2048512431785, 349.4736612568409, 370.26878820766115, 324.5267294460478, 438.53890116599644, 478.72115168034196, 492.11523518512377, 525.7268032254253, 534.9690818702343, 563.4540734747434, 666.2383207472873, 645.1543725888167, 664.3609828975605, 658.9094826031613, 689.235709406441, 709.3809886400483, 718.5510619829446, 748.0108251632734, 729.3457546188738, 758.7694151482464, 801.5510565314443, 827.3644519651882, 722.1252244276169, 733.1004303183275, 826.7507068989314, 765.9177400375909, 717.3957771523435, 681.3292288470145, 649.8116145621775, 711.4388397445564, 769.2752865765253, 701.1495842220152, 756.0256136755686, 745.303126341552, 765.5206108770717, 745.5919475492021, 772.777243719285, 739.3100862828087, 725.3383603627262, 764.7263525560334, 771.8024721434654, 769.1669786236564, 802.778546663958, 821.3714119064449, 808.9520999774828]}, {\"mode\": \"lines\", \"name\": \"US\", \"type\": \"scatter\", \"x\": [\"1/22/20\", \"1/23/20\", \"1/24/20\", \"1/25/20\", \"1/26/20\", \"1/27/20\", \"1/28/20\", \"1/29/20\", \"1/30/20\", \"1/31/20\", \"2/1/20\", \"2/2/20\", \"2/3/20\", \"2/4/20\", \"2/5/20\", \"2/6/20\", \"2/7/20\", \"2/8/20\", \"2/9/20\", \"2/10/20\", \"2/11/20\", \"2/12/20\", \"2/13/20\", \"2/14/20\", \"2/15/20\", \"2/16/20\", \"2/17/20\", \"2/18/20\", \"2/19/20\", \"2/20/20\", \"2/21/20\", \"2/22/20\", \"2/23/20\", \"2/24/20\", \"2/25/20\", \"2/26/20\", \"2/27/20\", \"2/28/20\", \"2/29/20\", \"3/1/20\", \"3/2/20\", \"3/3/20\", \"3/4/20\", \"3/5/20\", \"3/6/20\", \"3/7/20\", \"3/8/20\", \"3/9/20\", \"3/10/20\", \"3/11/20\", \"3/12/20\", \"3/13/20\", \"3/14/20\", \"3/15/20\", \"3/16/20\", \"3/17/20\", \"3/18/20\", \"3/19/20\", \"3/20/20\", \"3/21/20\", \"3/22/20\", \"3/23/20\", \"3/24/20\", \"3/25/20\", \"3/26/20\", \"3/27/20\", \"3/28/20\", \"3/29/20\", \"3/30/20\", \"3/31/20\", \"4/1/20\", \"4/2/20\", \"4/3/20\", \"4/4/20\", \"4/5/20\", \"4/6/20\", \"4/7/20\", \"4/8/20\", \"4/9/20\", \"4/10/20\", \"4/11/20\", \"4/12/20\", \"4/13/20\", \"4/14/20\", \"4/15/20\", \"4/16/20\", \"4/17/20\", \"4/18/20\", \"4/19/20\", \"4/20/20\", \"4/21/20\", \"4/22/20\", \"4/23/20\", \"4/24/20\", \"4/25/20\", \"4/26/20\", \"4/27/20\", \"4/28/20\", \"4/29/20\", \"4/30/20\", \"5/1/20\", \"5/2/20\", \"5/3/20\", \"5/4/20\", \"5/5/20\", \"5/6/20\", \"5/7/20\", \"5/8/20\", \"5/9/20\", \"5/10/20\", \"5/11/20\", \"5/12/20\", \"5/13/20\", \"5/14/20\", \"5/15/20\", \"5/16/20\", \"5/17/20\", \"5/18/20\", \"5/19/20\", \"5/20/20\", \"5/21/20\", \"5/22/20\", \"5/23/20\", \"5/24/20\", \"5/25/20\", \"5/26/20\", \"5/27/20\", \"5/28/20\", \"5/29/20\", \"5/30/20\", \"5/31/20\", \"6/1/20\", \"6/2/20\", \"6/3/20\", \"6/4/20\", \"6/5/20\", \"6/6/20\", \"6/7/20\", \"6/8/20\", \"6/9/20\", \"6/10/20\", \"6/11/20\", \"6/12/20\", \"6/13/20\", \"6/14/20\", \"6/15/20\", \"6/16/20\", \"6/17/20\", \"6/18/20\", \"6/19/20\", \"6/20/20\", \"6/21/20\", \"6/22/20\", \"6/23/20\", \"6/24/20\", \"6/25/20\", \"6/26/20\", \"6/27/20\", \"6/28/20\", \"6/29/20\", \"6/30/20\", \"7/1/20\", \"7/2/20\", \"7/3/20\", \"7/4/20\", \"7/5/20\", \"7/6/20\", \"7/7/20\", \"7/8/20\", \"7/9/20\", \"7/10/20\", \"7/11/20\", \"7/12/20\", \"7/13/20\", \"7/14/20\", \"7/15/20\", \"7/16/20\", \"7/17/20\", \"7/18/20\", \"7/19/20\", \"7/20/20\", \"7/21/20\", \"7/22/20\", \"7/23/20\", \"7/24/20\", \"7/25/20\", \"7/26/20\", \"7/27/20\", \"7/28/20\", \"7/29/20\", \"7/30/20\", \"7/31/20\", \"8/1/20\", \"8/2/20\", \"8/3/20\", \"8/4/20\", \"8/5/20\", \"8/6/20\", \"8/7/20\", \"8/8/20\", \"8/9/20\", \"8/10/20\", \"8/11/20\", \"8/12/20\", \"8/13/20\", \"8/14/20\", \"8/15/20\", \"8/16/20\", \"8/17/20\", \"8/18/20\", \"8/19/20\", \"8/20/20\", \"8/21/20\", \"8/22/20\", \"8/23/20\", \"8/24/20\", \"8/25/20\", \"8/26/20\", \"8/27/20\", \"8/28/20\", \"8/29/20\", \"8/30/20\", \"8/31/20\", \"9/1/20\", \"9/2/20\", \"9/3/20\", \"9/4/20\", \"9/5/20\", \"9/6/20\", \"9/7/20\", \"9/8/20\", \"9/9/20\", \"9/10/20\", \"9/11/20\", \"9/12/20\", \"9/13/20\", \"9/14/20\", \"9/15/20\", \"9/16/20\", \"9/17/20\", \"9/18/20\", \"9/19/20\", \"9/20/20\", \"9/21/20\", \"9/22/20\", \"9/23/20\", \"9/24/20\", \"9/25/20\", \"9/26/20\", \"9/27/20\", \"9/28/20\", \"9/29/20\", \"9/30/20\", \"10/1/20\", \"10/2/20\", \"10/3/20\", \"10/4/20\", \"10/5/20\", \"10/6/20\", \"10/7/20\", \"10/8/20\", \"10/9/20\", \"10/10/20\", \"10/11/20\", \"10/12/20\", \"10/13/20\", \"10/14/20\", \"10/15/20\", \"10/16/20\", \"10/17/20\", \"10/18/20\", \"10/19/20\", \"10/20/20\", \"10/21/20\", \"10/22/20\", \"10/23/20\", \"10/24/20\", \"10/25/20\", \"10/26/20\", \"10/27/20\", \"10/28/20\", \"10/29/20\", \"10/30/20\", \"10/31/20\", \"11/1/20\", \"11/2/20\", \"11/3/20\", \"11/4/20\", \"11/5/20\", \"11/6/20\", \"11/7/20\", \"11/8/20\", \"11/9/20\", \"11/10/20\", \"11/11/20\", \"11/12/20\", \"11/13/20\", \"11/14/20\", \"11/15/20\", \"11/16/20\", \"11/17/20\", \"11/18/20\", \"11/19/20\", \"11/20/20\", \"11/21/20\", \"11/22/20\", \"11/23/20\", \"11/24/20\", \"11/25/20\", \"11/26/20\", \"11/27/20\", \"11/28/20\", \"11/29/20\", \"11/30/20\", \"12/1/20\", \"12/2/20\", \"12/3/20\", \"12/4/20\", \"12/5/20\", \"12/6/20\", \"12/7/20\", \"12/8/20\", \"12/9/20\", \"12/10/20\", \"12/11/20\", \"12/12/20\", \"12/13/20\", \"12/14/20\", \"12/15/20\", \"12/16/20\", \"12/17/20\", \"12/18/20\"], \"y\": [null, null, null, null, null, null, null, 0.0021680085372672697, 0.0021680085372672697, 0.0026016102447207236, 0.0026016102447207236, 0.0013008051223603618, 0.0026016102447207236, 0.0026016102447207236, 0.0021680085372672697, 0.0026016102447207236, 0.0017344068298138157, 0.0017344068298138157, 0.0017344068298138157, 0.00043360170745345393, 0.0008672034149069079, 0.0008672034149069079, 0.0008672034149069079, 0.0008672034149069079, 0.0008672034149069079, 0.0008672034149069079, 0.0008672034149069079, 0.00043360170745345393, 0.00043360170745345393, 0.0, 0.0008672034149069079, 0.0008672034149069079, 0.0008672034149069079, 0.0008672034149069079, 0.0008672034149069079, 0.0008672034149069079, 0.0013008051223603618, 0.00043360170745345393, 0.0039024153670810854, 0.006937627319255263, 0.0169104665906847, 0.02514889903230033, 0.039457755378264306, 0.0724114851447268, 0.09539237563975986, 0.1639014454174056, 0.21116403152983207, 0.23371132031741165, 0.30699000887704536, 0.4509457757515921, 0.6079095938497424, 0.8593985841727457, 1.116524396692644, 1.1676893981721512, 1.7712629749473592, 2.4845377837082907, 3.4783528971916073, 5.2366078209153635, 7.722880011453468, 9.993218551679753, 13.720458828949642, 17.954145900525166, 21.76073529025904, 25.84439617105567, 31.631244558729456, 36.97018238260384, 42.87236882446026, 47.229632382660014, 51.93464451023745, 58.74392572408649, 64.73109810060377, 70.17149872402226, 75.93406541607867, 81.74779710961458, 85.78809781966586, 89.29636923467176, 91.50513633243963, 94.24203030988585, 96.06098947265309, 96.71789605944507, 95.11053452991513, 94.55986036144922, 92.66762251012234, 91.43359205070982, 90.55338058457932, 89.17409355316987, 88.82027455988785, 88.22147060189465, 87.68467168806727, 88.81680574622824, 87.73106707076478, 87.36207201772189, 88.1351838621114, 88.60434090957605, 90.18481913324388, 90.68562910535262, 88.4165913702487, 87.80998258152131, 87.15827921521877, 85.55525370276335, 85.7672849377081, 84.11612963572534, 83.08112236003394, 83.16567469298737, 83.1002008351619, 81.91993698747359, 81.1607003977226, 77.91259000718877, 76.69156759899984, 74.26946846116486, 72.55457370818644, 71.78059466038204, 69.99155401542907, 69.74093222852098, 69.09313127758551, 68.6890144862389, 68.44793193689478, 69.55795230797563, 68.83383745652836, 69.74396744047316, 69.18332043273584, 68.34039871344632, 67.07731693963441, 67.784521324491, 66.20621110936042, 65.51071397060508, 63.546931837548385, 62.24742752031039, 62.65674753214645, 63.83310896446767, 63.43896501239248, 62.93728783686884, 63.81966731153661, 64.42410809172672, 63.78020955615836, 64.33912215706584, 63.222164158665755, 62.636368251896144, 62.76211274705764, 61.38065770711093, 61.93826950289608, 62.59647689481042, 62.31203417472095, 64.02215930891738, 64.6161936481286, 65.4938035040144, 67.78191971424627, 70.1402794010856, 72.29658069225164, 75.02870505091586, 77.8731322518105, 80.75875161491324, 85.74603845404287, 91.20725195941912, 94.58457565877409, 99.99505776437827, 106.16607726485582, 110.24626933199283, 116.68568828938407, 120.63753425111486, 124.90634306099412, 132.3421787421134, 138.96631202687982, 141.63036091747384, 143.6110535171212, 147.69731600816255, 149.16679219472232, 155.59537110942722, 159.18385884031198, 162.1917538849166, 169.24255124981724, 175.82549237237558, 179.61430409210385, 186.00082364118578, 188.94020961601274, 192.5343341690944, 198.61429731100674, 200.37558744668266, 201.04376767786843, 201.85330206568403, 203.27594926783883, 201.73449519784182, 203.39085372031397, 199.92680967946833, 200.59585711406905, 201.76831613102317, 199.23478135437261, 196.89506654095382, 197.5940324933688, 197.5285586355433, 197.16736841323456, 195.14244843942694, 191.4923892660838, 187.7807586502822, 182.82989435457867, 179.198480054656, 171.71234657547208, 168.07226024140036, 163.6443196048857, 162.51175194501724, 162.60367550699738, 164.31380064119384, 159.82255415539092, 160.83718215083204, 157.6064158285963, 160.2730663294351, 157.02842475256088, 154.6340761240029, 149.47725101725896, 148.64560294236327, 144.6599360474511, 141.18461836221167, 134.24308862758932, 132.79702693323205, 130.00376473381692, 129.85807456011256, 127.72909017651608, 126.83587065916198, 127.38090800543095, 126.62644103446195, 127.49364444936887, 127.58903682500865, 127.02969062239369, 127.77982157628813, 125.79652736639603, 125.20552823913698, 126.60389374567437, 125.65430600635133, 124.25463969469155, 119.18236692090106, 112.80235139743094, 109.70513440109092, 106.41366383981175, 105.20564948284641, 104.24782331108173, 105.48142016878683, 110.00562038435615, 115.34239019969328, 117.33695805397916, 121.12880498565963, 121.8164972936808, 122.42180527728583, 124.21041232053132, 131.92505389954317, 131.97751970614505, 132.03171991957672, 132.5719876470637, 132.02174708030526, 132.86683680813206, 132.35562039504444, 123.96586095752757, 125.37810171870346, 126.54925993053524, 126.23706670116877, 129.1469677598889, 130.98543899949155, 130.48116021372314, 133.32168499925075, 134.20189646538125, 138.3206790844816, 143.88552339793927, 144.5285547300927, 147.11282090651528, 151.5646096369399, 152.54888551285924, 155.58756627869306, 159.31480655596295, 161.9792890482644, 167.47128827486986, 168.47030660884263, 169.7572364765645, 180.92898446910272, 185.07161518211302, 186.6135028538175, 191.40089930581107, 196.84260073435195, 208.06941614373676, 213.4712262151919, 213.2860782861093, 219.7146572008142, 226.56166176321162, 233.0539801289122, 240.58347377884144, 243.30996131530875, 261.7718548152619, 268.9813504050905, 290.7195384065619, 301.4433758353008, 317.575960962814, 329.8733389879014, 346.92646054033827, 349.57099735409696, 366.1592978761437, 371.768803165469, 390.28533048056136, 405.0078428554359, 427.63187914523473, 444.8740510421214, 455.9729539478074, 472.2174083158436, 481.6248309607538, 493.03766150263607, 505.0328191376285, 512.5909305002496, 517.9120906541184, 522.438458878225, 526.411551323621, 532.2183453898377, 537.0053082401239, 504.30393466739923, 507.6153509072212, 496.69292389646876, 493.63689906233685, 488.8070096430128, 493.09099451265286, 500.924442959507, 546.7687178868531, 557.8337998593579, 584.0168389639347, 601.9375975329859, 615.9511711161742, 631.4121071988419, 640.7787712832516, 643.8473705668996, 645.7972774453177, 647.402037364603, 651.9106279187039, 653.5093174140849, 644.3308364707101, 654.7979816886365, 658.9289051555456, 665.6956934020642]}, {\"mode\": \"lines\", \"name\": \"Spain\", \"type\": \"scatter\", \"x\": [\"1/22/20\", \"1/23/20\", \"1/24/20\", \"1/25/20\", \"1/26/20\", \"1/27/20\", \"1/28/20\", \"1/29/20\", \"1/30/20\", \"1/31/20\", \"2/1/20\", \"2/2/20\", \"2/3/20\", \"2/4/20\", \"2/5/20\", \"2/6/20\", \"2/7/20\", \"2/8/20\", \"2/9/20\", \"2/10/20\", \"2/11/20\", \"2/12/20\", \"2/13/20\", \"2/14/20\", \"2/15/20\", \"2/16/20\", \"2/17/20\", \"2/18/20\", \"2/19/20\", \"2/20/20\", \"2/21/20\", \"2/22/20\", \"2/23/20\", \"2/24/20\", \"2/25/20\", \"2/26/20\", \"2/27/20\", \"2/28/20\", \"2/29/20\", \"3/1/20\", \"3/2/20\", \"3/3/20\", \"3/4/20\", \"3/5/20\", \"3/6/20\", \"3/7/20\", \"3/8/20\", \"3/9/20\", \"3/10/20\", \"3/11/20\", \"3/12/20\", \"3/13/20\", \"3/14/20\", \"3/15/20\", \"3/16/20\", \"3/17/20\", \"3/18/20\", \"3/19/20\", \"3/20/20\", \"3/21/20\", \"3/22/20\", \"3/23/20\", \"3/24/20\", \"3/25/20\", \"3/26/20\", \"3/27/20\", \"3/28/20\", \"3/29/20\", \"3/30/20\", \"3/31/20\", \"4/1/20\", \"4/2/20\", \"4/3/20\", \"4/4/20\", \"4/5/20\", \"4/6/20\", \"4/7/20\", \"4/8/20\", \"4/9/20\", \"4/10/20\", \"4/11/20\", \"4/12/20\", \"4/13/20\", \"4/14/20\", \"4/15/20\", \"4/16/20\", \"4/17/20\", \"4/18/20\", \"4/19/20\", \"4/20/20\", \"4/21/20\", \"4/22/20\", \"4/23/20\", \"4/24/20\", \"4/25/20\", \"4/26/20\", \"4/27/20\", \"4/28/20\", \"4/29/20\", \"4/30/20\", \"5/1/20\", \"5/2/20\", \"5/3/20\", \"5/4/20\", \"5/5/20\", \"5/6/20\", \"5/7/20\", \"5/8/20\", \"5/9/20\", \"5/10/20\", \"5/11/20\", \"5/12/20\", \"5/13/20\", \"5/14/20\", \"5/15/20\", \"5/16/20\", \"5/17/20\", \"5/18/20\", \"5/19/20\", \"5/20/20\", \"5/21/20\", \"5/22/20\", \"5/23/20\", \"5/24/20\", \"5/25/20\", \"5/26/20\", \"5/27/20\", \"5/28/20\", \"5/29/20\", \"5/30/20\", \"5/31/20\", \"6/1/20\", \"6/2/20\", \"6/3/20\", \"6/4/20\", \"6/5/20\", \"6/6/20\", \"6/7/20\", \"6/8/20\", \"6/9/20\", \"6/10/20\", \"6/11/20\", \"6/12/20\", \"6/13/20\", \"6/14/20\", \"6/15/20\", \"6/16/20\", \"6/17/20\", \"6/18/20\", \"6/19/20\", \"6/20/20\", \"6/21/20\", \"6/22/20\", \"6/23/20\", \"6/24/20\", \"6/25/20\", \"6/26/20\", \"6/27/20\", \"6/28/20\", \"6/29/20\", \"6/30/20\", \"7/1/20\", \"7/2/20\", \"7/3/20\", \"7/4/20\", \"7/5/20\", \"7/6/20\", \"7/7/20\", \"7/8/20\", \"7/9/20\", \"7/10/20\", \"7/11/20\", \"7/12/20\", \"7/13/20\", \"7/14/20\", \"7/15/20\", \"7/16/20\", \"7/17/20\", \"7/18/20\", \"7/19/20\", \"7/20/20\", \"7/21/20\", \"7/22/20\", \"7/23/20\", \"7/24/20\", \"7/25/20\", \"7/26/20\", \"7/27/20\", \"7/28/20\", \"7/29/20\", \"7/30/20\", \"7/31/20\", \"8/1/20\", \"8/2/20\", \"8/3/20\", \"8/4/20\", \"8/5/20\", \"8/6/20\", \"8/7/20\", \"8/8/20\", \"8/9/20\", \"8/10/20\", \"8/11/20\", \"8/12/20\", \"8/13/20\", \"8/14/20\", \"8/15/20\", \"8/16/20\", \"8/17/20\", \"8/18/20\", \"8/19/20\", \"8/20/20\", \"8/21/20\", \"8/22/20\", \"8/23/20\", \"8/24/20\", \"8/25/20\", \"8/26/20\", \"8/27/20\", \"8/28/20\", \"8/29/20\", \"8/30/20\", \"8/31/20\", \"9/1/20\", \"9/2/20\", \"9/3/20\", \"9/4/20\", \"9/5/20\", \"9/6/20\", \"9/7/20\", \"9/8/20\", \"9/9/20\", \"9/10/20\", \"9/11/20\", \"9/12/20\", \"9/13/20\", \"9/14/20\", \"9/15/20\", \"9/16/20\", \"9/17/20\", \"9/18/20\", \"9/19/20\", \"9/20/20\", \"9/21/20\", \"9/22/20\", \"9/23/20\", \"9/24/20\", \"9/25/20\", \"9/26/20\", \"9/27/20\", \"9/28/20\", \"9/29/20\", \"9/30/20\", \"10/1/20\", \"10/2/20\", \"10/3/20\", \"10/4/20\", \"10/5/20\", \"10/6/20\", \"10/7/20\", \"10/8/20\", \"10/9/20\", \"10/10/20\", \"10/11/20\", \"10/12/20\", \"10/13/20\", \"10/14/20\", \"10/15/20\", \"10/16/20\", \"10/17/20\", \"10/18/20\", \"10/19/20\", \"10/20/20\", \"10/21/20\", \"10/22/20\", \"10/23/20\", \"10/24/20\", \"10/25/20\", \"10/26/20\", \"10/27/20\", \"10/28/20\", \"10/29/20\", \"10/30/20\", \"10/31/20\", \"11/1/20\", \"11/2/20\", \"11/3/20\", \"11/4/20\", \"11/5/20\", \"11/6/20\", \"11/7/20\", \"11/8/20\", \"11/9/20\", \"11/10/20\", \"11/11/20\", \"11/12/20\", \"11/13/20\", \"11/14/20\", \"11/15/20\", \"11/16/20\", \"11/17/20\", \"11/18/20\", \"11/19/20\", \"11/20/20\", \"11/21/20\", \"11/22/20\", \"11/23/20\", \"11/24/20\", \"11/25/20\", \"11/26/20\", \"11/27/20\", \"11/28/20\", \"11/29/20\", \"11/30/20\", \"12/1/20\", \"12/2/20\", \"12/3/20\", \"12/4/20\", \"12/5/20\", \"12/6/20\", \"12/7/20\", \"12/8/20\", \"12/9/20\", \"12/10/20\", \"12/11/20\", \"12/12/20\", \"12/13/20\", \"12/14/20\", \"12/15/20\", \"12/16/20\", \"12/17/20\", \"12/18/20\"], \"y\": [null, null, null, null, null, null, null, 0.0, 0.0, 0.0, 0.003055455157542766, 0.003055455157542766, 0.003055455157542766, 0.003055455157542766, 0.003055455157542766, 0.003055455157542766, 0.003055455157542766, 0.0, 0.003055455157542766, 0.003055455157542766, 0.003055455157542766, 0.003055455157542766, 0.003055455157542766, 0.003055455157542766, 0.003055455157542766, 0.0, 0.0, 0.0, 0.0, 0.0, 0.0, 0.0, 0.0, 0.0, 0.012221820630171064, 0.033610006732970425, 0.03972091704805596, 0.09166365472628299, 0.13138457177433896, 0.2505473229185068, 0.3605437085900465, 0.4858173700492998, 0.6385901279264381, 0.7455310584404349, 1.1244074979757381, 1.3902320966819588, 1.7996630877926894, 2.9118487651382563, 4.674846391040433, 6.278960348750385, 6.165908507921302, 14.763959321246649, 17.999686333084437, 21.770117997492214, 27.098831792246795, 30.71649069877743, 35.544109847695005, 47.927869601215825, 46.37569838118411, 58.001705255634334, 64.07289465367181, 76.97913723913246, 85.97134176778081, 108.7894808843102, 121.6773907388256, 138.4396177331052, 146.23713929515435, 156.87317869856074, 161.3891414214089, 171.22159611838154, 166.83701796730767, 165.8470504962638, 163.40574182538717, 161.73440785421124, 157.465936999124, 148.85871982032603, 140.60899089496056, 134.7516833579511, 125.75336791898764, 119.38885482582606, 112.62102165186882, 107.50618971814224, 102.12553318570943, 93.49387236565111, 89.90371255553836, 96.93737032820182, 99.50395266053773, 87.68850756631986, 97.29485858163432, 92.00281024877023, 96.66543481918049, 93.93996881865235, 85.7849590031707, 37.126835619302156, 43.32329867879889, 27.376878211583186, 28.2782374830583, 20.150726763994545, 13.835100953353647, 1.2557920697500768, 37.35599475611786, 32.623094717084115, 30.041235108960482, 26.111919776360484, 26.142474327935908, 22.63481180707681, 24.480306722232648, 23.346732858784282, 21.375964282169193, 21.033753304524403, 28.797664859840573, 26.58551532577961, 25.561937848002785, 24.727798589993608, 22.38426448415831, 21.754840721704497, 19.396029340081483, 12.741248006953334, 12.243208816273865, 11.80627872874525, 10.684926685927053, 14.180367386155979, 14.030650083436383, 15.503379469371998, 11.592396867717257, 12.900131675145559, 11.317405903538406, 14.87701116207573, 11.427402289209947, 12.032382410403413, 11.326572269011034, 12.949018957666246, 11.22268679365458, 12.42653612572643, 8.414723503872779, 7.375868750308237, 6.36145763800404, 6.3278476312710685, 6.352291272531412, 6.214795790441986, 5.970359377838566, 6.254516707490043, 6.8167204564779125, 7.012269586560649, 7.2658723646366985, 7.308648736842297, 7.216985082116015, 7.342258743575267, 7.825020658467025, 7.229206902746185, 7.128376882547274, 7.161986889280244, 7.317815102314927, 7.406423301883666, 7.342258743575267, 6.7769995394298554, 7.119210517074645, 7.733357003740742, 7.632526983541831, 7.534752418500462, 7.696691541850228, 7.861686120357537, 7.99612614728942, 8.066401615912904, 6.343124907058782, 5.42343290463841, 8.61332808911306, 8.73554629541477, 8.720269019627056, 9.02275908022379, 10.275495694816323, 10.275495694816323, 10.275495694816323, 12.72291527600808, 13.715938202209479, 15.21922213972052, 17.718584458590502, 19.392973884923936, 19.392973884923936, 19.392973884923936, 27.141608164452396, 29.25598313347199, 30.728712519407605, 34.56025328696623, 37.172667446665294, 37.172667446665294, 37.172667446665294, 42.611377627091414, 44.04744155113652, 46.10681832732035, 46.63846752473278, 49.195883491596085, 49.195883491596085, 49.195883491596085, 55.82927663862142, 67.84332631807958, 70.66045597333402, 74.62949222298207, 78.95296127090509, 78.95296127090509, 78.95296127090509, 79.21573041445377, 72.71372183920276, 73.38286651870462, 83.96085227411767, 86.93075468724925, 86.93075468724925, 86.93075468724925, 110.30804209760896, 114.83622664108732, 125.52726423732948, 123.96592665182511, 132.1209364673068, 132.1209364673068, 132.1209364673068, 141.6325683727374, 147.75264505329554, 149.6623045267598, 157.6645415843643, 162.64798894631656, 162.64798894631656, 162.64798894631656, 175.45034605642073, 178.49969030364844, 182.42595018109085, 180.29018702596846, 182.41983927077578, 182.41983927077578, 182.41983927077578, 191.54953928151357, 194.14362071026736, 195.01442543016705, 200.5295219895318, 205.74518394345728, 205.74518394345728, 205.74518394345728, 208.32398809642334, 209.7692183859411, 216.8792625375431, 218.48948740556813, 225.2298214831075, 225.2298214831075, 225.2298214831075, 237.52497303705957, 241.68650296163284, 241.97982665675693, 240.03044626624464, 233.5620476977266, 233.5620476977266, 233.5620476977266, 234.65284518896937, 201.65698494266505, 231.09018447527453, 227.31975281086673, 224.42623677667373, 224.42623677667373, 224.42623677667373, 199.05068169328106, 235.7100326734792, 203.83857992515055, 213.01716721840907, 217.48729811389413, 217.48729811389413, 217.48729811389413, 230.85796988330128, 215.9473487144926, 220.4663668924983, 223.2009992584991, 230.52798072628661, 230.52798072628661, 230.52798072628661, 261.18336232191325, 281.8229619111146, 297.10940406430103, 320.538634212339, 334.79233252227596, 334.79233252227596, 334.79233252227596, 378.48228581997995, 392.3693295110119, 400.9001603108713, 408.8260109895372, 426.3765454144629, 426.3765454144629, 426.3765454144629, 435.02653896546644, 435.7934582100097, 451.9170950763629, 446.8083740529514, 437.40062762287715, 437.40062762287715, 437.40062762287715, 429.3556141930671, 372.3133218569012, 407.2952279556083, 399.97130194297824, 396.4728057875918, 396.4728057875918, 396.4728057875918, 353.3511671491907, 393.557901567296, 328.86474951664303, 318.8489675102179, 299.85931370608955, 299.85931370608955, 299.85931370608955, 262.0113906696073, 259.16676191793493, 243.59616243509703, 231.5454472937484, 218.39782375084184, 218.39782375084184, 218.39782375084184, 200.34925013523673, 188.21603770463443, 185.4936271592638, 178.88773310865636, 172.4468336365562, 172.4468336365562, 172.4468336365562, 165.42539768452292, 140.1965044486923, 141.5470156283262, 134.9105670261433, 140.3309444756242, 140.3309444756242, 140.3309444756242, 151.41613578718932, 182.97287665429104, 186.96024563488433, 199.71982637278293, 203.67969625695835]}],                        {\"template\": {\"data\": {\"bar\": [{\"error_x\": {\"color\": \"#2a3f5f\"}, \"error_y\": {\"color\": \"#2a3f5f\"}, \"marker\": {\"line\": {\"color\": \"#E5ECF6\", \"width\": 0.5}}, \"type\": \"bar\"}], \"barpolar\": [{\"marker\": {\"line\": {\"color\": \"#E5ECF6\", \"width\": 0.5}}, \"type\": \"barpolar\"}], \"carpet\": [{\"aaxis\": {\"endlinecolor\": \"#2a3f5f\", \"gridcolor\": \"white\", \"linecolor\": \"white\", \"minorgridcolor\": \"white\", \"startlinecolor\": \"#2a3f5f\"}, \"baxis\": {\"endlinecolor\": \"#2a3f5f\", \"gridcolor\": \"white\", \"linecolor\": \"white\", \"minorgridcolor\": \"white\", \"startlinecolor\": \"#2a3f5f\"}, \"type\": \"carpet\"}], \"choropleth\": [{\"colorbar\": {\"outlinewidth\": 0, \"ticks\": \"\"}, \"type\": \"choropleth\"}], \"contour\": [{\"colorbar\": {\"outlinewidth\": 0, \"ticks\": \"\"}, \"colorscale\": [[0.0, \"#0d0887\"], [0.1111111111111111, \"#46039f\"], [0.2222222222222222, \"#7201a8\"], [0.3333333333333333, \"#9c179e\"], [0.4444444444444444, \"#bd3786\"], [0.5555555555555556, \"#d8576b\"], [0.6666666666666666, \"#ed7953\"], [0.7777777777777778, \"#fb9f3a\"], [0.8888888888888888, \"#fdca26\"], [1.0, \"#f0f921\"]], \"type\": \"contour\"}], \"contourcarpet\": [{\"colorbar\": {\"outlinewidth\": 0, \"ticks\": \"\"}, \"type\": \"contourcarpet\"}], \"heatmap\": [{\"colorbar\": {\"outlinewidth\": 0, \"ticks\": \"\"}, \"colorscale\": [[0.0, \"#0d0887\"], [0.1111111111111111, \"#46039f\"], [0.2222222222222222, \"#7201a8\"], [0.3333333333333333, \"#9c179e\"], [0.4444444444444444, \"#bd3786\"], [0.5555555555555556, \"#d8576b\"], [0.6666666666666666, \"#ed7953\"], [0.7777777777777778, \"#fb9f3a\"], [0.8888888888888888, \"#fdca26\"], [1.0, \"#f0f921\"]], \"type\": \"heatmap\"}], \"heatmapgl\": [{\"colorbar\": {\"outlinewidth\": 0, \"ticks\": \"\"}, \"colorscale\": [[0.0, \"#0d0887\"], [0.1111111111111111, \"#46039f\"], [0.2222222222222222, \"#7201a8\"], [0.3333333333333333, \"#9c179e\"], [0.4444444444444444, \"#bd3786\"], [0.5555555555555556, \"#d8576b\"], [0.6666666666666666, \"#ed7953\"], [0.7777777777777778, \"#fb9f3a\"], [0.8888888888888888, \"#fdca26\"], [1.0, \"#f0f921\"]], \"type\": \"heatmapgl\"}], \"histogram\": [{\"marker\": {\"colorbar\": {\"outlinewidth\": 0, \"ticks\": \"\"}}, \"type\": \"histogram\"}], \"histogram2d\": [{\"colorbar\": {\"outlinewidth\": 0, \"ticks\": \"\"}, \"colorscale\": [[0.0, \"#0d0887\"], [0.1111111111111111, \"#46039f\"], [0.2222222222222222, \"#7201a8\"], [0.3333333333333333, \"#9c179e\"], [0.4444444444444444, \"#bd3786\"], [0.5555555555555556, \"#d8576b\"], [0.6666666666666666, \"#ed7953\"], [0.7777777777777778, \"#fb9f3a\"], [0.8888888888888888, \"#fdca26\"], [1.0, \"#f0f921\"]], \"type\": \"histogram2d\"}], \"histogram2dcontour\": [{\"colorbar\": {\"outlinewidth\": 0, \"ticks\": \"\"}, \"colorscale\": [[0.0, \"#0d0887\"], [0.1111111111111111, \"#46039f\"], [0.2222222222222222, \"#7201a8\"], [0.3333333333333333, \"#9c179e\"], [0.4444444444444444, \"#bd3786\"], [0.5555555555555556, \"#d8576b\"], [0.6666666666666666, \"#ed7953\"], [0.7777777777777778, \"#fb9f3a\"], [0.8888888888888888, \"#fdca26\"], [1.0, \"#f0f921\"]], \"type\": \"histogram2dcontour\"}], \"mesh3d\": [{\"colorbar\": {\"outlinewidth\": 0, \"ticks\": \"\"}, \"type\": \"mesh3d\"}], \"parcoords\": [{\"line\": {\"colorbar\": {\"outlinewidth\": 0, \"ticks\": \"\"}}, \"type\": \"parcoords\"}], \"pie\": [{\"automargin\": true, \"type\": \"pie\"}], \"scatter\": [{\"marker\": {\"colorbar\": {\"outlinewidth\": 0, \"ticks\": \"\"}}, \"type\": \"scatter\"}], \"scatter3d\": [{\"line\": {\"colorbar\": {\"outlinewidth\": 0, \"ticks\": \"\"}}, \"marker\": {\"colorbar\": {\"outlinewidth\": 0, \"ticks\": \"\"}}, \"type\": \"scatter3d\"}], \"scattercarpet\": [{\"marker\": {\"colorbar\": {\"outlinewidth\": 0, \"ticks\": \"\"}}, \"type\": \"scattercarpet\"}], \"scattergeo\": [{\"marker\": {\"colorbar\": {\"outlinewidth\": 0, \"ticks\": \"\"}}, \"type\": \"scattergeo\"}], \"scattergl\": [{\"marker\": {\"colorbar\": {\"outlinewidth\": 0, \"ticks\": \"\"}}, \"type\": \"scattergl\"}], \"scattermapbox\": [{\"marker\": {\"colorbar\": {\"outlinewidth\": 0, \"ticks\": \"\"}}, \"type\": \"scattermapbox\"}], \"scatterpolar\": [{\"marker\": {\"colorbar\": {\"outlinewidth\": 0, \"ticks\": \"\"}}, \"type\": \"scatterpolar\"}], \"scatterpolargl\": [{\"marker\": {\"colorbar\": {\"outlinewidth\": 0, \"ticks\": \"\"}}, \"type\": \"scatterpolargl\"}], \"scatterternary\": [{\"marker\": {\"colorbar\": {\"outlinewidth\": 0, \"ticks\": \"\"}}, \"type\": \"scatterternary\"}], \"surface\": [{\"colorbar\": {\"outlinewidth\": 0, \"ticks\": \"\"}, \"colorscale\": [[0.0, \"#0d0887\"], [0.1111111111111111, \"#46039f\"], [0.2222222222222222, \"#7201a8\"], [0.3333333333333333, \"#9c179e\"], [0.4444444444444444, \"#bd3786\"], [0.5555555555555556, \"#d8576b\"], [0.6666666666666666, \"#ed7953\"], [0.7777777777777778, \"#fb9f3a\"], [0.8888888888888888, \"#fdca26\"], [1.0, \"#f0f921\"]], \"type\": \"surface\"}], \"table\": [{\"cells\": {\"fill\": {\"color\": \"#EBF0F8\"}, \"line\": {\"color\": \"white\"}}, \"header\": {\"fill\": {\"color\": \"#C8D4E3\"}, \"line\": {\"color\": \"white\"}}, \"type\": \"table\"}]}, \"layout\": {\"annotationdefaults\": {\"arrowcolor\": \"#2a3f5f\", \"arrowhead\": 0, \"arrowwidth\": 1}, \"autotypenumbers\": \"strict\", \"coloraxis\": {\"colorbar\": {\"outlinewidth\": 0, \"ticks\": \"\"}}, \"colorscale\": {\"diverging\": [[0, \"#8e0152\"], [0.1, \"#c51b7d\"], [0.2, \"#de77ae\"], [0.3, \"#f1b6da\"], [0.4, \"#fde0ef\"], [0.5, \"#f7f7f7\"], [0.6, \"#e6f5d0\"], [0.7, \"#b8e186\"], [0.8, \"#7fbc41\"], [0.9, \"#4d9221\"], [1, \"#276419\"]], \"sequential\": [[0.0, \"#0d0887\"], [0.1111111111111111, \"#46039f\"], [0.2222222222222222, \"#7201a8\"], [0.3333333333333333, \"#9c179e\"], [0.4444444444444444, \"#bd3786\"], [0.5555555555555556, \"#d8576b\"], [0.6666666666666666, \"#ed7953\"], [0.7777777777777778, \"#fb9f3a\"], [0.8888888888888888, \"#fdca26\"], [1.0, \"#f0f921\"]], \"sequentialminus\": [[0.0, \"#0d0887\"], [0.1111111111111111, \"#46039f\"], [0.2222222222222222, \"#7201a8\"], [0.3333333333333333, \"#9c179e\"], [0.4444444444444444, \"#bd3786\"], [0.5555555555555556, \"#d8576b\"], [0.6666666666666666, \"#ed7953\"], [0.7777777777777778, \"#fb9f3a\"], [0.8888888888888888, \"#fdca26\"], [1.0, \"#f0f921\"]]}, \"colorway\": [\"#636efa\", \"#EF553B\", \"#00cc96\", \"#ab63fa\", \"#FFA15A\", \"#19d3f3\", \"#FF6692\", \"#B6E880\", \"#FF97FF\", \"#FECB52\"], \"font\": {\"color\": \"#2a3f5f\"}, \"geo\": {\"bgcolor\": \"white\", \"lakecolor\": \"white\", \"landcolor\": \"#E5ECF6\", \"showlakes\": true, \"showland\": true, \"subunitcolor\": \"white\"}, \"hoverlabel\": {\"align\": \"left\"}, \"hovermode\": \"closest\", \"mapbox\": {\"style\": \"light\"}, \"paper_bgcolor\": \"white\", \"plot_bgcolor\": \"#E5ECF6\", \"polar\": {\"angularaxis\": {\"gridcolor\": \"white\", \"linecolor\": \"white\", \"ticks\": \"\"}, \"bgcolor\": \"#E5ECF6\", \"radialaxis\": {\"gridcolor\": \"white\", \"linecolor\": \"white\", \"ticks\": \"\"}}, \"scene\": {\"xaxis\": {\"backgroundcolor\": \"#E5ECF6\", \"gridcolor\": \"white\", \"gridwidth\": 2, \"linecolor\": \"white\", \"showbackground\": true, \"ticks\": \"\", \"zerolinecolor\": \"white\"}, \"yaxis\": {\"backgroundcolor\": \"#E5ECF6\", \"gridcolor\": \"white\", \"gridwidth\": 2, \"linecolor\": \"white\", \"showbackground\": true, \"ticks\": \"\", \"zerolinecolor\": \"white\"}, \"zaxis\": {\"backgroundcolor\": \"#E5ECF6\", \"gridcolor\": \"white\", \"gridwidth\": 2, \"linecolor\": \"white\", \"showbackground\": true, \"ticks\": \"\", \"zerolinecolor\": \"white\"}}, \"shapedefaults\": {\"line\": {\"color\": \"#2a3f5f\"}}, \"ternary\": {\"aaxis\": {\"gridcolor\": \"white\", \"linecolor\": \"white\", \"ticks\": \"\"}, \"baxis\": {\"gridcolor\": \"white\", \"linecolor\": \"white\", \"ticks\": \"\"}, \"bgcolor\": \"#E5ECF6\", \"caxis\": {\"gridcolor\": \"white\", \"linecolor\": \"white\", \"ticks\": \"\"}}, \"title\": {\"x\": 0.05}, \"xaxis\": {\"automargin\": true, \"gridcolor\": \"white\", \"linecolor\": \"white\", \"ticks\": \"\", \"title\": {\"standoff\": 15}, \"zerolinecolor\": \"white\", \"zerolinewidth\": 2}, \"yaxis\": {\"automargin\": true, \"gridcolor\": \"white\", \"linecolor\": \"white\", \"ticks\": \"\", \"title\": {\"standoff\": 15}, \"zerolinecolor\": \"white\", \"zerolinewidth\": 2}}}},                        {\"responsive\": true}                    ).then(function(){\n",
       "                            \n",
       "var gd = document.getElementById('dd795243-10b4-4834-afb7-a0c0921715aa');\n",
       "var x = new MutationObserver(function (mutations, observer) {{\n",
       "        var display = window.getComputedStyle(gd).display;\n",
       "        if (!display || display === 'none') {{\n",
       "            console.log([gd, 'removed!']);\n",
       "            Plotly.purge(gd);\n",
       "            observer.disconnect();\n",
       "        }}\n",
       "}});\n",
       "\n",
       "// Listen for the removal of the full notebook cells\n",
       "var notebookContainer = gd.closest('#notebook-container');\n",
       "if (notebookContainer) {{\n",
       "    x.observe(notebookContainer, {childList: true});\n",
       "}}\n",
       "\n",
       "// Listen for the clearing of the current output cell\n",
       "var outputEl = gd.closest('.output');\n",
       "if (outputEl) {{\n",
       "    x.observe(outputEl, {childList: true});\n",
       "}}\n",
       "\n",
       "                        })                };                });            </script>        </div>"
      ]
     },
     "metadata": {},
     "output_type": "display_data"
    }
   ],
   "source": [
    "ent1='Oklahoma, USA'\n",
    "ent2='US'\n",
    "ent3='Spain'\n",
    "fig3 = go.Figure()\n",
    "fig3.add_trace(go.Scatter(x=cnorm.columns, y=cnorm.loc[ent1],\n",
    "                    mode='lines',\n",
    "                    name=ent1))\n",
    "fig3.add_trace(go.Scatter(x=cnorm.columns, y=cnorm.loc[ent2],\n",
    "                    mode='lines',\n",
    "                    name=ent2))\n",
    "fig3.add_trace(go.Scatter(x=cnorm.columns, y=cnorm.loc[ent3],\n",
    "                    mode='lines', name=ent3))\n",
    "fig3.show()"
   ]
  },
  {
   "cell_type": "code",
   "execution_count": 205,
   "metadata": {},
   "outputs": [
    {
     "data": {
      "application/vnd.plotly.v1+json": {
       "config": {
        "plotlyServerURL": "https://plot.ly"
       },
       "data": [
        {
         "cells": {
          "align": [
           "center",
           "left",
           "center"
          ],
          "fill": {
           "color": "lavender"
          },
          "line": {
           "color": "darkslategray"
          },
          "values": [
           [
            1,
            2,
            3,
            4,
            5,
            6,
            7,
            8,
            9,
            10,
            11,
            12,
            13,
            14,
            15,
            16,
            17,
            18,
            19,
            20
           ],
           [
            "Tennessee, USA",
            "California, USA",
            "Lithuania",
            "Arizona, USA",
            "Rhode Island, USA",
            "Indiana, USA",
            "Nevada, USA",
            "Utah, USA",
            "Oklahoma, USA",
            "Liechtenstein",
            "Alabama, USA",
            "Ohio, USA",
            "Delaware, USA",
            "Croatia",
            "Pennsylvania, USA",
            "Georgia",
            "Kansas, USA",
            "Arkansas, USA",
            "New Mexico, USA",
            "Mississippi, USA"
           ],
           [
            1409,
            1033,
            1010,
            945,
            943,
            870,
            832,
            821,
            808,
            786,
            783,
            777,
            776,
            760,
            757,
            748,
            748,
            747,
            745,
            726
           ]
          ]
         },
         "columnorder": [
          1,
          2,
          3
         ],
         "columnwidth": [
          2,
          10,
          4
         ],
         "domain": {
          "x": [
           0,
           0.3133333333333333
          ],
          "y": [
           0,
           1
          ]
         },
         "header": {
          "align": "center",
          "fill": {
           "color": "paleturquoise"
          },
          "line": {
           "color": "darkslategray"
          },
          "values": [
           "<b>#</b>",
           "<b>Country/State</b>",
           "<b>Cases</b>"
          ]
         },
         "type": "table"
        },
        {
         "cells": {
          "align": [
           "center",
           "left",
           "center"
          ],
          "fill": {
           "color": "lavender"
          },
          "line": {
           "color": "darkslategray"
          },
          "values": [
           [
            1,
            2,
            3,
            4,
            5,
            6,
            7,
            8,
            9,
            10,
            11,
            12,
            13,
            14,
            15,
            16,
            17,
            18,
            19,
            20
           ],
           [
            "San Marino",
            "Bulgaria",
            "South Dakota, USA",
            "Slovenia",
            "Croatia",
            "North Dakota, USA",
            "Hungary",
            "New Mexico, USA",
            "Rhode Island, USA",
            "Pennsylvania, USA",
            "Bosnia and Herzegovina",
            "Austria",
            "Tennessee, USA",
            "Kansas, USA",
            "Michigan, USA",
            "Illinois, USA",
            "Indiana, USA",
            "Arkansas, USA",
            "West Virginia, USA",
            "North Macedonia"
           ],
           [
            21,
            19,
            19,
            19,
            18,
            17,
            16,
            16,
            15,
            15,
            14,
            13,
            13,
            13,
            12,
            12,
            12,
            12,
            12,
            12
           ]
          ]
         },
         "columnorder": [
          1,
          2,
          3
         ],
         "columnwidth": [
          2,
          10,
          4
         ],
         "domain": {
          "x": [
           0.34333333333333327,
           0.6566666666666665
          ],
          "y": [
           0,
           1
          ]
         },
         "header": {
          "align": "center",
          "fill": {
           "color": "paleturquoise"
          },
          "line": {
           "color": "darkslategray"
          },
          "values": [
           "<b>#</b>",
           "<b>Country/State</b>",
           "<b>Deaths</b>"
          ]
         },
         "type": "table"
        },
        {
         "cells": {
          "align": [
           "center",
           "left",
           "center"
          ],
          "fill": {
           "color": "lavender"
          },
          "line": {
           "color": "darkslategray"
          },
          "values": [
           [
            1,
            2,
            3,
            4,
            5,
            6,
            7,
            8,
            9,
            10,
            11,
            12,
            13,
            14,
            15,
            16,
            17,
            18,
            19,
            20
           ],
           [
            "North Dakota, USA",
            "South Dakota, USA",
            "Andorra",
            "Iowa, USA",
            "Wisconsin, USA",
            "Nebraska, USA",
            "Utah, USA",
            "Tennessee, USA",
            "Rhode Island, USA",
            "Idaho, USA",
            "Wyoming, USA",
            "Montana, USA",
            "Illinois, USA",
            "Kansas, USA",
            "Luxembourg",
            "Minnesota, USA",
            "Montenegro",
            "Indiana, USA",
            "Arkansas, USA",
            "Nevada, USA"
           ],
           [
            11.75,
            10.6,
            9.73,
            8.39,
            8.35,
            8,
            7.69,
            7.37,
            7.35,
            7.17,
            7.15,
            7.11,
            7,
            6.99,
            6.99,
            6.95,
            6.91,
            6.73,
            6.54,
            6.47
           ]
          ]
         },
         "columnorder": [
          1,
          2,
          3
         ],
         "columnwidth": [
          2,
          10,
          4
         ],
         "domain": {
          "x": [
           0.6866666666666665,
           0.9999999999999998
          ],
          "y": [
           0,
           1
          ]
         },
         "header": {
          "align": "center",
          "fill": {
           "color": "paleturquoise"
          },
          "line": {
           "color": "darkslategray"
          },
          "values": [
           "<b>#</b>",
           "<b>Country/State</b>",
           "<b>%(+)</b>"
          ]
         },
         "type": "table"
        }
       ],
       "layout": {
        "height": 650,
        "showlegend": false,
        "template": {
         "data": {
          "bar": [
           {
            "error_x": {
             "color": "#2a3f5f"
            },
            "error_y": {
             "color": "#2a3f5f"
            },
            "marker": {
             "line": {
              "color": "#E5ECF6",
              "width": 0.5
             }
            },
            "type": "bar"
           }
          ],
          "barpolar": [
           {
            "marker": {
             "line": {
              "color": "#E5ECF6",
              "width": 0.5
             }
            },
            "type": "barpolar"
           }
          ],
          "carpet": [
           {
            "aaxis": {
             "endlinecolor": "#2a3f5f",
             "gridcolor": "white",
             "linecolor": "white",
             "minorgridcolor": "white",
             "startlinecolor": "#2a3f5f"
            },
            "baxis": {
             "endlinecolor": "#2a3f5f",
             "gridcolor": "white",
             "linecolor": "white",
             "minorgridcolor": "white",
             "startlinecolor": "#2a3f5f"
            },
            "type": "carpet"
           }
          ],
          "choropleth": [
           {
            "colorbar": {
             "outlinewidth": 0,
             "ticks": ""
            },
            "type": "choropleth"
           }
          ],
          "contour": [
           {
            "colorbar": {
             "outlinewidth": 0,
             "ticks": ""
            },
            "colorscale": [
             [
              0,
              "#0d0887"
             ],
             [
              0.1111111111111111,
              "#46039f"
             ],
             [
              0.2222222222222222,
              "#7201a8"
             ],
             [
              0.3333333333333333,
              "#9c179e"
             ],
             [
              0.4444444444444444,
              "#bd3786"
             ],
             [
              0.5555555555555556,
              "#d8576b"
             ],
             [
              0.6666666666666666,
              "#ed7953"
             ],
             [
              0.7777777777777778,
              "#fb9f3a"
             ],
             [
              0.8888888888888888,
              "#fdca26"
             ],
             [
              1,
              "#f0f921"
             ]
            ],
            "type": "contour"
           }
          ],
          "contourcarpet": [
           {
            "colorbar": {
             "outlinewidth": 0,
             "ticks": ""
            },
            "type": "contourcarpet"
           }
          ],
          "heatmap": [
           {
            "colorbar": {
             "outlinewidth": 0,
             "ticks": ""
            },
            "colorscale": [
             [
              0,
              "#0d0887"
             ],
             [
              0.1111111111111111,
              "#46039f"
             ],
             [
              0.2222222222222222,
              "#7201a8"
             ],
             [
              0.3333333333333333,
              "#9c179e"
             ],
             [
              0.4444444444444444,
              "#bd3786"
             ],
             [
              0.5555555555555556,
              "#d8576b"
             ],
             [
              0.6666666666666666,
              "#ed7953"
             ],
             [
              0.7777777777777778,
              "#fb9f3a"
             ],
             [
              0.8888888888888888,
              "#fdca26"
             ],
             [
              1,
              "#f0f921"
             ]
            ],
            "type": "heatmap"
           }
          ],
          "heatmapgl": [
           {
            "colorbar": {
             "outlinewidth": 0,
             "ticks": ""
            },
            "colorscale": [
             [
              0,
              "#0d0887"
             ],
             [
              0.1111111111111111,
              "#46039f"
             ],
             [
              0.2222222222222222,
              "#7201a8"
             ],
             [
              0.3333333333333333,
              "#9c179e"
             ],
             [
              0.4444444444444444,
              "#bd3786"
             ],
             [
              0.5555555555555556,
              "#d8576b"
             ],
             [
              0.6666666666666666,
              "#ed7953"
             ],
             [
              0.7777777777777778,
              "#fb9f3a"
             ],
             [
              0.8888888888888888,
              "#fdca26"
             ],
             [
              1,
              "#f0f921"
             ]
            ],
            "type": "heatmapgl"
           }
          ],
          "histogram": [
           {
            "marker": {
             "colorbar": {
              "outlinewidth": 0,
              "ticks": ""
             }
            },
            "type": "histogram"
           }
          ],
          "histogram2d": [
           {
            "colorbar": {
             "outlinewidth": 0,
             "ticks": ""
            },
            "colorscale": [
             [
              0,
              "#0d0887"
             ],
             [
              0.1111111111111111,
              "#46039f"
             ],
             [
              0.2222222222222222,
              "#7201a8"
             ],
             [
              0.3333333333333333,
              "#9c179e"
             ],
             [
              0.4444444444444444,
              "#bd3786"
             ],
             [
              0.5555555555555556,
              "#d8576b"
             ],
             [
              0.6666666666666666,
              "#ed7953"
             ],
             [
              0.7777777777777778,
              "#fb9f3a"
             ],
             [
              0.8888888888888888,
              "#fdca26"
             ],
             [
              1,
              "#f0f921"
             ]
            ],
            "type": "histogram2d"
           }
          ],
          "histogram2dcontour": [
           {
            "colorbar": {
             "outlinewidth": 0,
             "ticks": ""
            },
            "colorscale": [
             [
              0,
              "#0d0887"
             ],
             [
              0.1111111111111111,
              "#46039f"
             ],
             [
              0.2222222222222222,
              "#7201a8"
             ],
             [
              0.3333333333333333,
              "#9c179e"
             ],
             [
              0.4444444444444444,
              "#bd3786"
             ],
             [
              0.5555555555555556,
              "#d8576b"
             ],
             [
              0.6666666666666666,
              "#ed7953"
             ],
             [
              0.7777777777777778,
              "#fb9f3a"
             ],
             [
              0.8888888888888888,
              "#fdca26"
             ],
             [
              1,
              "#f0f921"
             ]
            ],
            "type": "histogram2dcontour"
           }
          ],
          "mesh3d": [
           {
            "colorbar": {
             "outlinewidth": 0,
             "ticks": ""
            },
            "type": "mesh3d"
           }
          ],
          "parcoords": [
           {
            "line": {
             "colorbar": {
              "outlinewidth": 0,
              "ticks": ""
             }
            },
            "type": "parcoords"
           }
          ],
          "pie": [
           {
            "automargin": true,
            "type": "pie"
           }
          ],
          "scatter": [
           {
            "marker": {
             "colorbar": {
              "outlinewidth": 0,
              "ticks": ""
             }
            },
            "type": "scatter"
           }
          ],
          "scatter3d": [
           {
            "line": {
             "colorbar": {
              "outlinewidth": 0,
              "ticks": ""
             }
            },
            "marker": {
             "colorbar": {
              "outlinewidth": 0,
              "ticks": ""
             }
            },
            "type": "scatter3d"
           }
          ],
          "scattercarpet": [
           {
            "marker": {
             "colorbar": {
              "outlinewidth": 0,
              "ticks": ""
             }
            },
            "type": "scattercarpet"
           }
          ],
          "scattergeo": [
           {
            "marker": {
             "colorbar": {
              "outlinewidth": 0,
              "ticks": ""
             }
            },
            "type": "scattergeo"
           }
          ],
          "scattergl": [
           {
            "marker": {
             "colorbar": {
              "outlinewidth": 0,
              "ticks": ""
             }
            },
            "type": "scattergl"
           }
          ],
          "scattermapbox": [
           {
            "marker": {
             "colorbar": {
              "outlinewidth": 0,
              "ticks": ""
             }
            },
            "type": "scattermapbox"
           }
          ],
          "scatterpolar": [
           {
            "marker": {
             "colorbar": {
              "outlinewidth": 0,
              "ticks": ""
             }
            },
            "type": "scatterpolar"
           }
          ],
          "scatterpolargl": [
           {
            "marker": {
             "colorbar": {
              "outlinewidth": 0,
              "ticks": ""
             }
            },
            "type": "scatterpolargl"
           }
          ],
          "scatterternary": [
           {
            "marker": {
             "colorbar": {
              "outlinewidth": 0,
              "ticks": ""
             }
            },
            "type": "scatterternary"
           }
          ],
          "surface": [
           {
            "colorbar": {
             "outlinewidth": 0,
             "ticks": ""
            },
            "colorscale": [
             [
              0,
              "#0d0887"
             ],
             [
              0.1111111111111111,
              "#46039f"
             ],
             [
              0.2222222222222222,
              "#7201a8"
             ],
             [
              0.3333333333333333,
              "#9c179e"
             ],
             [
              0.4444444444444444,
              "#bd3786"
             ],
             [
              0.5555555555555556,
              "#d8576b"
             ],
             [
              0.6666666666666666,
              "#ed7953"
             ],
             [
              0.7777777777777778,
              "#fb9f3a"
             ],
             [
              0.8888888888888888,
              "#fdca26"
             ],
             [
              1,
              "#f0f921"
             ]
            ],
            "type": "surface"
           }
          ],
          "table": [
           {
            "cells": {
             "fill": {
              "color": "#EBF0F8"
             },
             "line": {
              "color": "white"
             }
            },
            "header": {
             "fill": {
              "color": "#C8D4E3"
             },
             "line": {
              "color": "white"
             }
            },
            "type": "table"
           }
          ]
         },
         "layout": {
          "annotationdefaults": {
           "arrowcolor": "#2a3f5f",
           "arrowhead": 0,
           "arrowwidth": 1
          },
          "autotypenumbers": "strict",
          "coloraxis": {
           "colorbar": {
            "outlinewidth": 0,
            "ticks": ""
           }
          },
          "colorscale": {
           "diverging": [
            [
             0,
             "#8e0152"
            ],
            [
             0.1,
             "#c51b7d"
            ],
            [
             0.2,
             "#de77ae"
            ],
            [
             0.3,
             "#f1b6da"
            ],
            [
             0.4,
             "#fde0ef"
            ],
            [
             0.5,
             "#f7f7f7"
            ],
            [
             0.6,
             "#e6f5d0"
            ],
            [
             0.7,
             "#b8e186"
            ],
            [
             0.8,
             "#7fbc41"
            ],
            [
             0.9,
             "#4d9221"
            ],
            [
             1,
             "#276419"
            ]
           ],
           "sequential": [
            [
             0,
             "#0d0887"
            ],
            [
             0.1111111111111111,
             "#46039f"
            ],
            [
             0.2222222222222222,
             "#7201a8"
            ],
            [
             0.3333333333333333,
             "#9c179e"
            ],
            [
             0.4444444444444444,
             "#bd3786"
            ],
            [
             0.5555555555555556,
             "#d8576b"
            ],
            [
             0.6666666666666666,
             "#ed7953"
            ],
            [
             0.7777777777777778,
             "#fb9f3a"
            ],
            [
             0.8888888888888888,
             "#fdca26"
            ],
            [
             1,
             "#f0f921"
            ]
           ],
           "sequentialminus": [
            [
             0,
             "#0d0887"
            ],
            [
             0.1111111111111111,
             "#46039f"
            ],
            [
             0.2222222222222222,
             "#7201a8"
            ],
            [
             0.3333333333333333,
             "#9c179e"
            ],
            [
             0.4444444444444444,
             "#bd3786"
            ],
            [
             0.5555555555555556,
             "#d8576b"
            ],
            [
             0.6666666666666666,
             "#ed7953"
            ],
            [
             0.7777777777777778,
             "#fb9f3a"
            ],
            [
             0.8888888888888888,
             "#fdca26"
            ],
            [
             1,
             "#f0f921"
            ]
           ]
          },
          "colorway": [
           "#636efa",
           "#EF553B",
           "#00cc96",
           "#ab63fa",
           "#FFA15A",
           "#19d3f3",
           "#FF6692",
           "#B6E880",
           "#FF97FF",
           "#FECB52"
          ],
          "font": {
           "color": "#2a3f5f"
          },
          "geo": {
           "bgcolor": "white",
           "lakecolor": "white",
           "landcolor": "#E5ECF6",
           "showlakes": true,
           "showland": true,
           "subunitcolor": "white"
          },
          "hoverlabel": {
           "align": "left"
          },
          "hovermode": "closest",
          "mapbox": {
           "style": "light"
          },
          "paper_bgcolor": "white",
          "plot_bgcolor": "#E5ECF6",
          "polar": {
           "angularaxis": {
            "gridcolor": "white",
            "linecolor": "white",
            "ticks": ""
           },
           "bgcolor": "#E5ECF6",
           "radialaxis": {
            "gridcolor": "white",
            "linecolor": "white",
            "ticks": ""
           }
          },
          "scene": {
           "xaxis": {
            "backgroundcolor": "#E5ECF6",
            "gridcolor": "white",
            "gridwidth": 2,
            "linecolor": "white",
            "showbackground": true,
            "ticks": "",
            "zerolinecolor": "white"
           },
           "yaxis": {
            "backgroundcolor": "#E5ECF6",
            "gridcolor": "white",
            "gridwidth": 2,
            "linecolor": "white",
            "showbackground": true,
            "ticks": "",
            "zerolinecolor": "white"
           },
           "zaxis": {
            "backgroundcolor": "#E5ECF6",
            "gridcolor": "white",
            "gridwidth": 2,
            "linecolor": "white",
            "showbackground": true,
            "ticks": "",
            "zerolinecolor": "white"
           }
          },
          "shapedefaults": {
           "line": {
            "color": "#2a3f5f"
           }
          },
          "ternary": {
           "aaxis": {
            "gridcolor": "white",
            "linecolor": "white",
            "ticks": ""
           },
           "baxis": {
            "gridcolor": "white",
            "linecolor": "white",
            "ticks": ""
           },
           "bgcolor": "#E5ECF6",
           "caxis": {
            "gridcolor": "white",
            "linecolor": "white",
            "ticks": ""
           }
          },
          "title": {
           "x": 0.05
          },
          "xaxis": {
           "automargin": true,
           "gridcolor": "white",
           "linecolor": "white",
           "ticks": "",
           "title": {
            "standoff": 15
           },
           "zerolinecolor": "white",
           "zerolinewidth": 2
          },
          "yaxis": {
           "automargin": true,
           "gridcolor": "white",
           "linecolor": "white",
           "ticks": "",
           "title": {
            "standoff": 15
           },
           "zerolinecolor": "white",
           "zerolinewidth": 2
          }
         }
        },
        "title": {
         "text": "12/18/20 - TOP-20 Cases and Deaths (7d avg per 1M population) and Percent Population Infected"
        },
        "width": 1050
       }
      },
      "image/png": "[encoded data removed]",
      "text/html": [
       "<div>                            <div id=\"5636c2ff-a12c-49aa-a535-85679da82693\" class=\"plotly-graph-div\" style=\"height:650px; width:1050px;\"></div>            <script type=\"text/javascript\">                require([\"plotly\"], function(Plotly) {                    window.PLOTLYENV=window.PLOTLYENV || {};                                    if (document.getElementById(\"5636c2ff-a12c-49aa-a535-85679da82693\")) {                    Plotly.newPlot(                        \"5636c2ff-a12c-49aa-a535-85679da82693\",                        [{\"cells\": {\"align\": [\"center\", \"left\", \"center\"], \"fill\": {\"color\": \"lavender\"}, \"line\": {\"color\": \"darkslategray\"}, \"values\": [[1.0, 2.0, 3.0, 4.0, 5.0, 6.0, 7.0, 8.0, 9.0, 10.0, 11.0, 12.0, 13.0, 14.0, 15.0, 16.0, 17.0, 18.0, 19.0, 20.0], [\"Tennessee, USA\", \"California, USA\", \"Lithuania\", \"Arizona, USA\", \"Rhode Island, USA\", \"Indiana, USA\", \"Nevada, USA\", \"Utah, USA\", \"Oklahoma, USA\", \"Liechtenstein\", \"Alabama, USA\", \"Ohio, USA\", \"Delaware, USA\", \"Croatia\", \"Pennsylvania, USA\", \"Georgia\", \"Kansas, USA\", \"Arkansas, USA\", \"New Mexico, USA\", \"Mississippi, USA\"], [1409, 1033, 1010, 945, 943, 870, 832, 821, 808, 786, 783, 777, 776, 760, 757, 748, 748, 747, 745, 726]]}, \"columnorder\": [1, 2, 3], \"columnwidth\": [2, 10, 4], \"domain\": {\"x\": [0.0, 0.3133333333333333], \"y\": [0.0, 1.0]}, \"header\": {\"align\": \"center\", \"fill\": {\"color\": \"paleturquoise\"}, \"line\": {\"color\": \"darkslategray\"}, \"values\": [\"<b>#</b>\", \"<b>Country/State</b>\", \"<b>Cases</b>\"]}, \"type\": \"table\"}, {\"cells\": {\"align\": [\"center\", \"left\", \"center\"], \"fill\": {\"color\": \"lavender\"}, \"line\": {\"color\": \"darkslategray\"}, \"values\": [[1.0, 2.0, 3.0, 4.0, 5.0, 6.0, 7.0, 8.0, 9.0, 10.0, 11.0, 12.0, 13.0, 14.0, 15.0, 16.0, 17.0, 18.0, 19.0, 20.0], [\"San Marino\", \"Bulgaria\", \"South Dakota, USA\", \"Slovenia\", \"Croatia\", \"North Dakota, USA\", \"Hungary\", \"New Mexico, USA\", \"Rhode Island, USA\", \"Pennsylvania, USA\", \"Bosnia and Herzegovina\", \"Austria\", \"Tennessee, USA\", \"Kansas, USA\", \"Michigan, USA\", \"Illinois, USA\", \"Indiana, USA\", \"Arkansas, USA\", \"West Virginia, USA\", \"North Macedonia\"], [21, 19, 19, 19, 18, 17, 16, 16, 15, 15, 14, 13, 13, 13, 12, 12, 12, 12, 12, 12]]}, \"columnorder\": [1, 2, 3], \"columnwidth\": [2, 10, 4], \"domain\": {\"x\": [0.34333333333333327, 0.6566666666666665], \"y\": [0.0, 1.0]}, \"header\": {\"align\": \"center\", \"fill\": {\"color\": \"paleturquoise\"}, \"line\": {\"color\": \"darkslategray\"}, \"values\": [\"<b>#</b>\", \"<b>Country/State</b>\", \"<b>Deaths</b>\"]}, \"type\": \"table\"}, {\"cells\": {\"align\": [\"center\", \"left\", \"center\"], \"fill\": {\"color\": \"lavender\"}, \"line\": {\"color\": \"darkslategray\"}, \"values\": [[1.0, 2.0, 3.0, 4.0, 5.0, 6.0, 7.0, 8.0, 9.0, 10.0, 11.0, 12.0, 13.0, 14.0, 15.0, 16.0, 17.0, 18.0, 19.0, 20.0], [\"North Dakota, USA\", \"South Dakota, USA\", \"Andorra\", \"Iowa, USA\", \"Wisconsin, USA\", \"Nebraska, USA\", \"Utah, USA\", \"Tennessee, USA\", \"Rhode Island, USA\", \"Idaho, USA\", \"Wyoming, USA\", \"Montana, USA\", \"Illinois, USA\", \"Kansas, USA\", \"Luxembourg\", \"Minnesota, USA\", \"Montenegro\", \"Indiana, USA\", \"Arkansas, USA\", \"Nevada, USA\"], [11.75, 10.6, 9.73, 8.39, 8.35, 8.0, 7.69, 7.37, 7.35, 7.17, 7.15, 7.11, 7.0, 6.99, 6.99, 6.95, 6.91, 6.73, 6.54, 6.47]]}, \"columnorder\": [1, 2, 3], \"columnwidth\": [2, 10, 4], \"domain\": {\"x\": [0.6866666666666665, 0.9999999999999998], \"y\": [0.0, 1.0]}, \"header\": {\"align\": \"center\", \"fill\": {\"color\": \"paleturquoise\"}, \"line\": {\"color\": \"darkslategray\"}, \"values\": [\"<b>#</b>\", \"<b>Country/State</b>\", \"<b>%(+)</b>\"]}, \"type\": \"table\"}],                        {\"height\": 650, \"showlegend\": false, \"template\": {\"data\": {\"bar\": [{\"error_x\": {\"color\": \"#2a3f5f\"}, \"error_y\": {\"color\": \"#2a3f5f\"}, \"marker\": {\"line\": {\"color\": \"#E5ECF6\", \"width\": 0.5}}, \"type\": \"bar\"}], \"barpolar\": [{\"marker\": {\"line\": {\"color\": \"#E5ECF6\", \"width\": 0.5}}, \"type\": \"barpolar\"}], \"carpet\": [{\"aaxis\": {\"endlinecolor\": \"#2a3f5f\", \"gridcolor\": \"white\", \"linecolor\": \"white\", \"minorgridcolor\": \"white\", \"startlinecolor\": \"#2a3f5f\"}, \"baxis\": {\"endlinecolor\": \"#2a3f5f\", \"gridcolor\": \"white\", \"linecolor\": \"white\", \"minorgridcolor\": \"white\", \"startlinecolor\": \"#2a3f5f\"}, \"type\": \"carpet\"}], \"choropleth\": [{\"colorbar\": {\"outlinewidth\": 0, \"ticks\": \"\"}, \"type\": \"choropleth\"}], \"contour\": [{\"colorbar\": {\"outlinewidth\": 0, \"ticks\": \"\"}, \"colorscale\": [[0.0, \"#0d0887\"], [0.1111111111111111, \"#46039f\"], [0.2222222222222222, \"#7201a8\"], [0.3333333333333333, \"#9c179e\"], [0.4444444444444444, \"#bd3786\"], [0.5555555555555556, \"#d8576b\"], [0.6666666666666666, \"#ed7953\"], [0.7777777777777778, \"#fb9f3a\"], [0.8888888888888888, \"#fdca26\"], [1.0, \"#f0f921\"]], \"type\": \"contour\"}], \"contourcarpet\": [{\"colorbar\": {\"outlinewidth\": 0, \"ticks\": \"\"}, \"type\": \"contourcarpet\"}], \"heatmap\": [{\"colorbar\": {\"outlinewidth\": 0, \"ticks\": \"\"}, \"colorscale\": [[0.0, \"#0d0887\"], [0.1111111111111111, \"#46039f\"], [0.2222222222222222, \"#7201a8\"], [0.3333333333333333, \"#9c179e\"], [0.4444444444444444, \"#bd3786\"], [0.5555555555555556, \"#d8576b\"], [0.6666666666666666, \"#ed7953\"], [0.7777777777777778, \"#fb9f3a\"], [0.8888888888888888, \"#fdca26\"], [1.0, \"#f0f921\"]], \"type\": \"heatmap\"}], \"heatmapgl\": [{\"colorbar\": {\"outlinewidth\": 0, \"ticks\": \"\"}, \"colorscale\": [[0.0, \"#0d0887\"], [0.1111111111111111, \"#46039f\"], [0.2222222222222222, \"#7201a8\"], [0.3333333333333333, \"#9c179e\"], [0.4444444444444444, \"#bd3786\"], [0.5555555555555556, \"#d8576b\"], [0.6666666666666666, \"#ed7953\"], [0.7777777777777778, \"#fb9f3a\"], [0.8888888888888888, \"#fdca26\"], [1.0, \"#f0f921\"]], \"type\": \"heatmapgl\"}], \"histogram\": [{\"marker\": {\"colorbar\": {\"outlinewidth\": 0, \"ticks\": \"\"}}, \"type\": \"histogram\"}], \"histogram2d\": [{\"colorbar\": {\"outlinewidth\": 0, \"ticks\": \"\"}, \"colorscale\": [[0.0, \"#0d0887\"], [0.1111111111111111, \"#46039f\"], [0.2222222222222222, \"#7201a8\"], [0.3333333333333333, \"#9c179e\"], [0.4444444444444444, \"#bd3786\"], [0.5555555555555556, \"#d8576b\"], [0.6666666666666666, \"#ed7953\"], [0.7777777777777778, \"#fb9f3a\"], [0.8888888888888888, \"#fdca26\"], [1.0, \"#f0f921\"]], \"type\": \"histogram2d\"}], \"histogram2dcontour\": [{\"colorbar\": {\"outlinewidth\": 0, \"ticks\": \"\"}, \"colorscale\": [[0.0, \"#0d0887\"], [0.1111111111111111, \"#46039f\"], [0.2222222222222222, \"#7201a8\"], [0.3333333333333333, \"#9c179e\"], [0.4444444444444444, \"#bd3786\"], [0.5555555555555556, \"#d8576b\"], [0.6666666666666666, \"#ed7953\"], [0.7777777777777778, \"#fb9f3a\"], [0.8888888888888888, \"#fdca26\"], [1.0, \"#f0f921\"]], \"type\": \"histogram2dcontour\"}], \"mesh3d\": [{\"colorbar\": {\"outlinewidth\": 0, \"ticks\": \"\"}, \"type\": \"mesh3d\"}], \"parcoords\": [{\"line\": {\"colorbar\": {\"outlinewidth\": 0, \"ticks\": \"\"}}, \"type\": \"parcoords\"}], \"pie\": [{\"automargin\": true, \"type\": \"pie\"}], \"scatter\": [{\"marker\": {\"colorbar\": {\"outlinewidth\": 0, \"ticks\": \"\"}}, \"type\": \"scatter\"}], \"scatter3d\": [{\"line\": {\"colorbar\": {\"outlinewidth\": 0, \"ticks\": \"\"}}, \"marker\": {\"colorbar\": {\"outlinewidth\": 0, \"ticks\": \"\"}}, \"type\": \"scatter3d\"}], \"scattercarpet\": [{\"marker\": {\"colorbar\": {\"outlinewidth\": 0, \"ticks\": \"\"}}, \"type\": \"scattercarpet\"}], \"scattergeo\": [{\"marker\": {\"colorbar\": {\"outlinewidth\": 0, \"ticks\": \"\"}}, \"type\": \"scattergeo\"}], \"scattergl\": [{\"marker\": {\"colorbar\": {\"outlinewidth\": 0, \"ticks\": \"\"}}, \"type\": \"scattergl\"}], \"scattermapbox\": [{\"marker\": {\"colorbar\": {\"outlinewidth\": 0, \"ticks\": \"\"}}, \"type\": \"scattermapbox\"}], \"scatterpolar\": [{\"marker\": {\"colorbar\": {\"outlinewidth\": 0, \"ticks\": \"\"}}, \"type\": \"scatterpolar\"}], \"scatterpolargl\": [{\"marker\": {\"colorbar\": {\"outlinewidth\": 0, \"ticks\": \"\"}}, \"type\": \"scatterpolargl\"}], \"scatterternary\": [{\"marker\": {\"colorbar\": {\"outlinewidth\": 0, \"ticks\": \"\"}}, \"type\": \"scatterternary\"}], \"surface\": [{\"colorbar\": {\"outlinewidth\": 0, \"ticks\": \"\"}, \"colorscale\": [[0.0, \"#0d0887\"], [0.1111111111111111, \"#46039f\"], [0.2222222222222222, \"#7201a8\"], [0.3333333333333333, \"#9c179e\"], [0.4444444444444444, \"#bd3786\"], [0.5555555555555556, \"#d8576b\"], [0.6666666666666666, \"#ed7953\"], [0.7777777777777778, \"#fb9f3a\"], [0.8888888888888888, \"#fdca26\"], [1.0, \"#f0f921\"]], \"type\": \"surface\"}], \"table\": [{\"cells\": {\"fill\": {\"color\": \"#EBF0F8\"}, \"line\": {\"color\": \"white\"}}, \"header\": {\"fill\": {\"color\": \"#C8D4E3\"}, \"line\": {\"color\": \"white\"}}, \"type\": \"table\"}]}, \"layout\": {\"annotationdefaults\": {\"arrowcolor\": \"#2a3f5f\", \"arrowhead\": 0, \"arrowwidth\": 1}, \"autotypenumbers\": \"strict\", \"coloraxis\": {\"colorbar\": {\"outlinewidth\": 0, \"ticks\": \"\"}}, \"colorscale\": {\"diverging\": [[0, \"#8e0152\"], [0.1, \"#c51b7d\"], [0.2, \"#de77ae\"], [0.3, \"#f1b6da\"], [0.4, \"#fde0ef\"], [0.5, \"#f7f7f7\"], [0.6, \"#e6f5d0\"], [0.7, \"#b8e186\"], [0.8, \"#7fbc41\"], [0.9, \"#4d9221\"], [1, \"#276419\"]], \"sequential\": [[0.0, \"#0d0887\"], [0.1111111111111111, \"#46039f\"], [0.2222222222222222, \"#7201a8\"], [0.3333333333333333, \"#9c179e\"], [0.4444444444444444, \"#bd3786\"], [0.5555555555555556, \"#d8576b\"], [0.6666666666666666, \"#ed7953\"], [0.7777777777777778, \"#fb9f3a\"], [0.8888888888888888, \"#fdca26\"], [1.0, \"#f0f921\"]], \"sequentialminus\": [[0.0, \"#0d0887\"], [0.1111111111111111, \"#46039f\"], [0.2222222222222222, \"#7201a8\"], [0.3333333333333333, \"#9c179e\"], [0.4444444444444444, \"#bd3786\"], [0.5555555555555556, \"#d8576b\"], [0.6666666666666666, \"#ed7953\"], [0.7777777777777778, \"#fb9f3a\"], [0.8888888888888888, \"#fdca26\"], [1.0, \"#f0f921\"]]}, \"colorway\": [\"#636efa\", \"#EF553B\", \"#00cc96\", \"#ab63fa\", \"#FFA15A\", \"#19d3f3\", \"#FF6692\", \"#B6E880\", \"#FF97FF\", \"#FECB52\"], \"font\": {\"color\": \"#2a3f5f\"}, \"geo\": {\"bgcolor\": \"white\", \"lakecolor\": \"white\", \"landcolor\": \"#E5ECF6\", \"showlakes\": true, \"showland\": true, \"subunitcolor\": \"white\"}, \"hoverlabel\": {\"align\": \"left\"}, \"hovermode\": \"closest\", \"mapbox\": {\"style\": \"light\"}, \"paper_bgcolor\": \"white\", \"plot_bgcolor\": \"#E5ECF6\", \"polar\": {\"angularaxis\": {\"gridcolor\": \"white\", \"linecolor\": \"white\", \"ticks\": \"\"}, \"bgcolor\": \"#E5ECF6\", \"radialaxis\": {\"gridcolor\": \"white\", \"linecolor\": \"white\", \"ticks\": \"\"}}, \"scene\": {\"xaxis\": {\"backgroundcolor\": \"#E5ECF6\", \"gridcolor\": \"white\", \"gridwidth\": 2, \"linecolor\": \"white\", \"showbackground\": true, \"ticks\": \"\", \"zerolinecolor\": \"white\"}, \"yaxis\": {\"backgroundcolor\": \"#E5ECF6\", \"gridcolor\": \"white\", \"gridwidth\": 2, \"linecolor\": \"white\", \"showbackground\": true, \"ticks\": \"\", \"zerolinecolor\": \"white\"}, \"zaxis\": {\"backgroundcolor\": \"#E5ECF6\", \"gridcolor\": \"white\", \"gridwidth\": 2, \"linecolor\": \"white\", \"showbackground\": true, \"ticks\": \"\", \"zerolinecolor\": \"white\"}}, \"shapedefaults\": {\"line\": {\"color\": \"#2a3f5f\"}}, \"ternary\": {\"aaxis\": {\"gridcolor\": \"white\", \"linecolor\": \"white\", \"ticks\": \"\"}, \"baxis\": {\"gridcolor\": \"white\", \"linecolor\": \"white\", \"ticks\": \"\"}, \"bgcolor\": \"#E5ECF6\", \"caxis\": {\"gridcolor\": \"white\", \"linecolor\": \"white\", \"ticks\": \"\"}}, \"title\": {\"x\": 0.05}, \"xaxis\": {\"automargin\": true, \"gridcolor\": \"white\", \"linecolor\": \"white\", \"ticks\": \"\", \"title\": {\"standoff\": 15}, \"zerolinecolor\": \"white\", \"zerolinewidth\": 2}, \"yaxis\": {\"automargin\": true, \"gridcolor\": \"white\", \"linecolor\": \"white\", \"ticks\": \"\", \"title\": {\"standoff\": 15}, \"zerolinecolor\": \"white\", \"zerolinewidth\": 2}}}, \"title\": {\"text\": \"12/18/20 - TOP-20 Cases and Deaths (7d avg per 1M population) and Percent Population Infected\"}, \"width\": 1050},                        {\"responsive\": true}                    ).then(function(){\n",
       "                            \n",
       "var gd = document.getElementById('5636c2ff-a12c-49aa-a535-85679da82693');\n",
       "var x = new MutationObserver(function (mutations, observer) {{\n",
       "        var display = window.getComputedStyle(gd).display;\n",
       "        if (!display || display === 'none') {{\n",
       "            console.log([gd, 'removed!']);\n",
       "            Plotly.purge(gd);\n",
       "            observer.disconnect();\n",
       "        }}\n",
       "}});\n",
       "\n",
       "// Listen for the removal of the full notebook cells\n",
       "var notebookContainer = gd.closest('#notebook-container');\n",
       "if (notebookContainer) {{\n",
       "    x.observe(notebookContainer, {childList: true});\n",
       "}}\n",
       "\n",
       "// Listen for the clearing of the current output cell\n",
       "var outputEl = gd.closest('.output');\n",
       "if (outputEl) {{\n",
       "    x.observe(outputEl, {childList: true});\n",
       "}}\n",
       "\n",
       "                        })                };                });            </script>        </div>"
      ]
     },
     "metadata": {},
     "output_type": "display_data"
    },
    {
     "data": {
      "application/vnd.plotly.v1+json": {
       "config": {
        "plotlyServerURL": "https://plot.ly"
       },
       "data": [
        {
         "cells": {
          "align": [
           "left",
           "center",
           "center"
          ],
          "fill": {
           "color": [
            [
             "rgba(255, 128, 0, 1)",
             "rgba(255, 128, 0, 1)",
             "rgba(255, 128, 0, 1)",
             "rgba(255, 128, 0, 1)",
             "rgba(255, 128, 0, 1)",
             "rgba(255, 128, 0, 1)",
             "rgba(255, 128, 0, 1)",
             "rgba(255, 128, 0, 1)",
             "rgba(255, 128, 0, 1)",
             "rgba(255, 128, 0, 1)",
             "rgba(255, 128, 0, 1)",
             "rgba(255, 128, 0, 1)",
             "rgba(255, 128, 0, 1)",
             "rgba(255, 128, 0, 1)",
             "rgba(255, 255, 0, 1)",
             "rgba(255, 255, 0, 1)",
             "rgba(255, 255, 0, 1)",
             "rgba(255, 255, 0, 1)",
             "rgba(255, 255, 0, 1)",
             "rgba(255, 255, 0, 1)",
             "rgba(0, 255, 0, 1)",
             "rgba(0, 255, 0, 1)",
             "rgba(0, 255, 0, 1)",
             "rgba(0, 255, 0, 1)",
             "rgba(0, 255, 0, 1)",
             "rgba(0, 255, 0, 1)",
             "rgba(0, 255, 0, 1)",
             "rgba(0, 255, 0, 1)",
             "rgba(0, 255, 0, 1)"
            ]
           ]
          },
          "line": {
           "color": "darkslategray"
          },
          "values": [
           [
            "Tennessee, USA",
            "California, USA",
            "Alabama, USA",
            "Arkansas, USA",
            "West Virginia, USA",
            "Sweden",
            "US",
            "Panama",
            "Denmark",
            "South Carolina, USA",
            "Georgia, USA",
            "Netherlands",
            "New York, USA",
            "Texas, USA",
            "Slovakia",
            "Estonia",
            "Latvia",
            "Cyprus",
            "Maine, USA",
            "Germany",
            "Uruguay",
            "Namibia",
            "Grenada",
            "Indonesia",
            "Lesotho",
            "Korea, South",
            "Syria",
            "Burkina Faso",
            "Nigeria"
           ],
           [
            1409,
            1033,
            783,
            747,
            726,
            665,
            665,
            613,
            610,
            606,
            604,
            587,
            545,
            540,
            498,
            398,
            381,
            354,
            332,
            294,
            127,
            109,
            64,
            23,
            22,
            19,
            8,
            8,
            3
           ],
           [
            4.9,
            5.4,
            4.5,
            0.7,
            3.7,
            5.1,
            1,
            3.7,
            6.1,
            3.6,
            1.2,
            0.2,
            3,
            1.1,
            6.8,
            8.7,
            4.4,
            3.2,
            3,
            1.8,
            5.2,
            6,
            21.4,
            0.8,
            17.3,
            1.6,
            4.6,
            21.4,
            0.2
           ]
          ]
         },
         "columnorder": [
          1,
          2,
          3
         ],
         "columnwidth": [
          10,
          5.5,
          7
         ],
         "domain": {
          "x": [
           0,
           0.485
          ],
          "y": [
           0,
           1
          ]
         },
         "header": {
          "align": "center",
          "fill": {
           "color": "paleturquoise"
          },
          "line": {
           "color": "darkslategray"
          },
          "values": [
           "<b>Country/State</b>",
           "<b>Cases/1M</b>",
           "<b>%over record</b>"
          ]
         },
         "type": "table"
        },
        {
         "cells": {
          "align": [
           "left",
           "center",
           "center"
          ],
          "fill": {
           "color": [
            [
             "rgba(255, 128, 0, 1)",
             "rgba(255, 128, 0, 1)",
             "rgba(255, 128, 0, 1)",
             "rgba(255, 128, 0, 1)",
             "rgba(255, 128, 0, 1)",
             "rgba(255, 128, 0, 1)",
             "rgba(255, 255, 0, 1)",
             "rgba(255, 255, 0, 1)",
             "rgba(255, 255, 0, 1)",
             "rgba(255, 255, 0, 1)",
             "rgba(255, 255, 0, 1)",
             "rgba(255, 255, 0, 1)",
             "rgba(255, 255, 0, 1)",
             "rgba(255, 255, 0, 1)",
             "rgba(255, 255, 0, 1)",
             "rgba(0, 255, 0, 1)",
             "rgba(0, 255, 0, 1)",
             "rgba(0, 255, 0, 1)",
             "rgba(0, 255, 0, 1)",
             "rgba(0, 255, 0, 1)",
             "rgba(0, 255, 0, 1)"
            ]
           ]
          },
          "line": {
           "color": "darkslategray"
          },
          "values": [
           [
            "Croatia",
            "Austria",
            "Tennessee, USA",
            "West Virginia, USA",
            "Georgia",
            "Lithuania",
            "Slovakia",
            "Germany",
            "Latvia",
            "Moldova",
            "California, USA",
            "Oregon, USA",
            "North Carolina, USA",
            "Russia",
            "Turkey",
            "Mauritania",
            "Belarus",
            "Syria",
            "Uruguay",
            "Mali",
            "Korea, South"
           ],
           [
            18.8,
            13.3,
            13.2,
            12.2,
            11,
            10.9,
            8.3,
            7.1,
            6.8,
            6.3,
            5.7,
            5.6,
            5.1,
            3.7,
            2.8,
            1.7,
            0.9,
            0.8,
            0.8,
            0.2,
            0.2
           ],
           [
            0.8,
            2.3,
            4.6,
            2,
            0,
            2.5,
            16.1,
            5.6,
            0,
            2.9,
            6.2,
            3.8,
            6.3,
            0,
            1.2,
            22.7,
            1.6,
            5.3,
            26.7,
            0,
            11
           ]
          ]
         },
         "columnorder": [
          1,
          2,
          3
         ],
         "columnwidth": [
          10,
          5.5,
          7
         ],
         "domain": {
          "x": [
           0.515,
           1
          ],
          "y": [
           0,
           1
          ]
         },
         "header": {
          "align": "center",
          "fill": {
           "color": "paleturquoise"
          },
          "line": {
           "color": "darkslategray"
          },
          "values": [
           "<b>Country/State</b>",
           "<b>Deaths/1M</b>",
           "<b>%over record</b>"
          ]
         },
         "type": "table"
        }
       ],
       "layout": {
        "height": 900,
        "showlegend": false,
        "template": {
         "data": {
          "bar": [
           {
            "error_x": {
             "color": "#2a3f5f"
            },
            "error_y": {
             "color": "#2a3f5f"
            },
            "marker": {
             "line": {
              "color": "#E5ECF6",
              "width": 0.5
             }
            },
            "type": "bar"
           }
          ],
          "barpolar": [
           {
            "marker": {
             "line": {
              "color": "#E5ECF6",
              "width": 0.5
             }
            },
            "type": "barpolar"
           }
          ],
          "carpet": [
           {
            "aaxis": {
             "endlinecolor": "#2a3f5f",
             "gridcolor": "white",
             "linecolor": "white",
             "minorgridcolor": "white",
             "startlinecolor": "#2a3f5f"
            },
            "baxis": {
             "endlinecolor": "#2a3f5f",
             "gridcolor": "white",
             "linecolor": "white",
             "minorgridcolor": "white",
             "startlinecolor": "#2a3f5f"
            },
            "type": "carpet"
           }
          ],
          "choropleth": [
           {
            "colorbar": {
             "outlinewidth": 0,
             "ticks": ""
            },
            "type": "choropleth"
           }
          ],
          "contour": [
           {
            "colorbar": {
             "outlinewidth": 0,
             "ticks": ""
            },
            "colorscale": [
             [
              0,
              "#0d0887"
             ],
             [
              0.1111111111111111,
              "#46039f"
             ],
             [
              0.2222222222222222,
              "#7201a8"
             ],
             [
              0.3333333333333333,
              "#9c179e"
             ],
             [
              0.4444444444444444,
              "#bd3786"
             ],
             [
              0.5555555555555556,
              "#d8576b"
             ],
             [
              0.6666666666666666,
              "#ed7953"
             ],
             [
              0.7777777777777778,
              "#fb9f3a"
             ],
             [
              0.8888888888888888,
              "#fdca26"
             ],
             [
              1,
              "#f0f921"
             ]
            ],
            "type": "contour"
           }
          ],
          "contourcarpet": [
           {
            "colorbar": {
             "outlinewidth": 0,
             "ticks": ""
            },
            "type": "contourcarpet"
           }
          ],
          "heatmap": [
           {
            "colorbar": {
             "outlinewidth": 0,
             "ticks": ""
            },
            "colorscale": [
             [
              0,
              "#0d0887"
             ],
             [
              0.1111111111111111,
              "#46039f"
             ],
             [
              0.2222222222222222,
              "#7201a8"
             ],
             [
              0.3333333333333333,
              "#9c179e"
             ],
             [
              0.4444444444444444,
              "#bd3786"
             ],
             [
              0.5555555555555556,
              "#d8576b"
             ],
             [
              0.6666666666666666,
              "#ed7953"
             ],
             [
              0.7777777777777778,
              "#fb9f3a"
             ],
             [
              0.8888888888888888,
              "#fdca26"
             ],
             [
              1,
              "#f0f921"
             ]
            ],
            "type": "heatmap"
           }
          ],
          "heatmapgl": [
           {
            "colorbar": {
             "outlinewidth": 0,
             "ticks": ""
            },
            "colorscale": [
             [
              0,
              "#0d0887"
             ],
             [
              0.1111111111111111,
              "#46039f"
             ],
             [
              0.2222222222222222,
              "#7201a8"
             ],
             [
              0.3333333333333333,
              "#9c179e"
             ],
             [
              0.4444444444444444,
              "#bd3786"
             ],
             [
              0.5555555555555556,
              "#d8576b"
             ],
             [
              0.6666666666666666,
              "#ed7953"
             ],
             [
              0.7777777777777778,
              "#fb9f3a"
             ],
             [
              0.8888888888888888,
              "#fdca26"
             ],
             [
              1,
              "#f0f921"
             ]
            ],
            "type": "heatmapgl"
           }
          ],
          "histogram": [
           {
            "marker": {
             "colorbar": {
              "outlinewidth": 0,
              "ticks": ""
             }
            },
            "type": "histogram"
           }
          ],
          "histogram2d": [
           {
            "colorbar": {
             "outlinewidth": 0,
             "ticks": ""
            },
            "colorscale": [
             [
              0,
              "#0d0887"
             ],
             [
              0.1111111111111111,
              "#46039f"
             ],
             [
              0.2222222222222222,
              "#7201a8"
             ],
             [
              0.3333333333333333,
              "#9c179e"
             ],
             [
              0.4444444444444444,
              "#bd3786"
             ],
             [
              0.5555555555555556,
              "#d8576b"
             ],
             [
              0.6666666666666666,
              "#ed7953"
             ],
             [
              0.7777777777777778,
              "#fb9f3a"
             ],
             [
              0.8888888888888888,
              "#fdca26"
             ],
             [
              1,
              "#f0f921"
             ]
            ],
            "type": "histogram2d"
           }
          ],
          "histogram2dcontour": [
           {
            "colorbar": {
             "outlinewidth": 0,
             "ticks": ""
            },
            "colorscale": [
             [
              0,
              "#0d0887"
             ],
             [
              0.1111111111111111,
              "#46039f"
             ],
             [
              0.2222222222222222,
              "#7201a8"
             ],
             [
              0.3333333333333333,
              "#9c179e"
             ],
             [
              0.4444444444444444,
              "#bd3786"
             ],
             [
              0.5555555555555556,
              "#d8576b"
             ],
             [
              0.6666666666666666,
              "#ed7953"
             ],
             [
              0.7777777777777778,
              "#fb9f3a"
             ],
             [
              0.8888888888888888,
              "#fdca26"
             ],
             [
              1,
              "#f0f921"
             ]
            ],
            "type": "histogram2dcontour"
           }
          ],
          "mesh3d": [
           {
            "colorbar": {
             "outlinewidth": 0,
             "ticks": ""
            },
            "type": "mesh3d"
           }
          ],
          "parcoords": [
           {
            "line": {
             "colorbar": {
              "outlinewidth": 0,
              "ticks": ""
             }
            },
            "type": "parcoords"
           }
          ],
          "pie": [
           {
            "automargin": true,
            "type": "pie"
           }
          ],
          "scatter": [
           {
            "marker": {
             "colorbar": {
              "outlinewidth": 0,
              "ticks": ""
             }
            },
            "type": "scatter"
           }
          ],
          "scatter3d": [
           {
            "line": {
             "colorbar": {
              "outlinewidth": 0,
              "ticks": ""
             }
            },
            "marker": {
             "colorbar": {
              "outlinewidth": 0,
              "ticks": ""
             }
            },
            "type": "scatter3d"
           }
          ],
          "scattercarpet": [
           {
            "marker": {
             "colorbar": {
              "outlinewidth": 0,
              "ticks": ""
             }
            },
            "type": "scattercarpet"
           }
          ],
          "scattergeo": [
           {
            "marker": {
             "colorbar": {
              "outlinewidth": 0,
              "ticks": ""
             }
            },
            "type": "scattergeo"
           }
          ],
          "scattergl": [
           {
            "marker": {
             "colorbar": {
              "outlinewidth": 0,
              "ticks": ""
             }
            },
            "type": "scattergl"
           }
          ],
          "scattermapbox": [
           {
            "marker": {
             "colorbar": {
              "outlinewidth": 0,
              "ticks": ""
             }
            },
            "type": "scattermapbox"
           }
          ],
          "scatterpolar": [
           {
            "marker": {
             "colorbar": {
              "outlinewidth": 0,
              "ticks": ""
             }
            },
            "type": "scatterpolar"
           }
          ],
          "scatterpolargl": [
           {
            "marker": {
             "colorbar": {
              "outlinewidth": 0,
              "ticks": ""
             }
            },
            "type": "scatterpolargl"
           }
          ],
          "scatterternary": [
           {
            "marker": {
             "colorbar": {
              "outlinewidth": 0,
              "ticks": ""
             }
            },
            "type": "scatterternary"
           }
          ],
          "surface": [
           {
            "colorbar": {
             "outlinewidth": 0,
             "ticks": ""
            },
            "colorscale": [
             [
              0,
              "#0d0887"
             ],
             [
              0.1111111111111111,
              "#46039f"
             ],
             [
              0.2222222222222222,
              "#7201a8"
             ],
             [
              0.3333333333333333,
              "#9c179e"
             ],
             [
              0.4444444444444444,
              "#bd3786"
             ],
             [
              0.5555555555555556,
              "#d8576b"
             ],
             [
              0.6666666666666666,
              "#ed7953"
             ],
             [
              0.7777777777777778,
              "#fb9f3a"
             ],
             [
              0.8888888888888888,
              "#fdca26"
             ],
             [
              1,
              "#f0f921"
             ]
            ],
            "type": "surface"
           }
          ],
          "table": [
           {
            "cells": {
             "fill": {
              "color": "#EBF0F8"
             },
             "line": {
              "color": "white"
             }
            },
            "header": {
             "fill": {
              "color": "#C8D4E3"
             },
             "line": {
              "color": "white"
             }
            },
            "type": "table"
           }
          ]
         },
         "layout": {
          "annotationdefaults": {
           "arrowcolor": "#2a3f5f",
           "arrowhead": 0,
           "arrowwidth": 1
          },
          "autotypenumbers": "strict",
          "coloraxis": {
           "colorbar": {
            "outlinewidth": 0,
            "ticks": ""
           }
          },
          "colorscale": {
           "diverging": [
            [
             0,
             "#8e0152"
            ],
            [
             0.1,
             "#c51b7d"
            ],
            [
             0.2,
             "#de77ae"
            ],
            [
             0.3,
             "#f1b6da"
            ],
            [
             0.4,
             "#fde0ef"
            ],
            [
             0.5,
             "#f7f7f7"
            ],
            [
             0.6,
             "#e6f5d0"
            ],
            [
             0.7,
             "#b8e186"
            ],
            [
             0.8,
             "#7fbc41"
            ],
            [
             0.9,
             "#4d9221"
            ],
            [
             1,
             "#276419"
            ]
           ],
           "sequential": [
            [
             0,
             "#0d0887"
            ],
            [
             0.1111111111111111,
             "#46039f"
            ],
            [
             0.2222222222222222,
             "#7201a8"
            ],
            [
             0.3333333333333333,
             "#9c179e"
            ],
            [
             0.4444444444444444,
             "#bd3786"
            ],
            [
             0.5555555555555556,
             "#d8576b"
            ],
            [
             0.6666666666666666,
             "#ed7953"
            ],
            [
             0.7777777777777778,
             "#fb9f3a"
            ],
            [
             0.8888888888888888,
             "#fdca26"
            ],
            [
             1,
             "#f0f921"
            ]
           ],
           "sequentialminus": [
            [
             0,
             "#0d0887"
            ],
            [
             0.1111111111111111,
             "#46039f"
            ],
            [
             0.2222222222222222,
             "#7201a8"
            ],
            [
             0.3333333333333333,
             "#9c179e"
            ],
            [
             0.4444444444444444,
             "#bd3786"
            ],
            [
             0.5555555555555556,
             "#d8576b"
            ],
            [
             0.6666666666666666,
             "#ed7953"
            ],
            [
             0.7777777777777778,
             "#fb9f3a"
            ],
            [
             0.8888888888888888,
             "#fdca26"
            ],
            [
             1,
             "#f0f921"
            ]
           ]
          },
          "colorway": [
           "#636efa",
           "#EF553B",
           "#00cc96",
           "#ab63fa",
           "#FFA15A",
           "#19d3f3",
           "#FF6692",
           "#B6E880",
           "#FF97FF",
           "#FECB52"
          ],
          "font": {
           "color": "#2a3f5f"
          },
          "geo": {
           "bgcolor": "white",
           "lakecolor": "white",
           "landcolor": "#E5ECF6",
           "showlakes": true,
           "showland": true,
           "subunitcolor": "white"
          },
          "hoverlabel": {
           "align": "left"
          },
          "hovermode": "closest",
          "mapbox": {
           "style": "light"
          },
          "paper_bgcolor": "white",
          "plot_bgcolor": "#E5ECF6",
          "polar": {
           "angularaxis": {
            "gridcolor": "white",
            "linecolor": "white",
            "ticks": ""
           },
           "bgcolor": "#E5ECF6",
           "radialaxis": {
            "gridcolor": "white",
            "linecolor": "white",
            "ticks": ""
           }
          },
          "scene": {
           "xaxis": {
            "backgroundcolor": "#E5ECF6",
            "gridcolor": "white",
            "gridwidth": 2,
            "linecolor": "white",
            "showbackground": true,
            "ticks": "",
            "zerolinecolor": "white"
           },
           "yaxis": {
            "backgroundcolor": "#E5ECF6",
            "gridcolor": "white",
            "gridwidth": 2,
            "linecolor": "white",
            "showbackground": true,
            "ticks": "",
            "zerolinecolor": "white"
           },
           "zaxis": {
            "backgroundcolor": "#E5ECF6",
            "gridcolor": "white",
            "gridwidth": 2,
            "linecolor": "white",
            "showbackground": true,
            "ticks": "",
            "zerolinecolor": "white"
           }
          },
          "shapedefaults": {
           "line": {
            "color": "#2a3f5f"
           }
          },
          "ternary": {
           "aaxis": {
            "gridcolor": "white",
            "linecolor": "white",
            "ticks": ""
           },
           "baxis": {
            "gridcolor": "white",
            "linecolor": "white",
            "ticks": ""
           },
           "bgcolor": "#E5ECF6",
           "caxis": {
            "gridcolor": "white",
            "linecolor": "white",
            "ticks": ""
           }
          },
          "title": {
           "x": 0.05
          },
          "xaxis": {
           "automargin": true,
           "gridcolor": "white",
           "linecolor": "white",
           "ticks": "",
           "title": {
            "standoff": 15
           },
           "zerolinecolor": "white",
           "zerolinewidth": 2
          },
          "yaxis": {
           "automargin": true,
           "gridcolor": "white",
           "linecolor": "white",
           "ticks": "",
           "title": {
            "standoff": 15
           },
           "zerolinecolor": "white",
           "zerolinewidth": 2
          }
         }
        },
        "title": {
         "text": " 12/18/20 - Entities peaking in Cases and Deaths, percentage increase over previous record"
        },
        "width": 950
       }
      },
      "image/png": "[encoded data removed]",
      "text/html": [
       "<div>                            <div id=\"9a1a9738-4ca2-493a-81c1-f39cbde2eb8f\" class=\"plotly-graph-div\" style=\"height:900px; width:950px;\"></div>            <script type=\"text/javascript\">                require([\"plotly\"], function(Plotly) {                    window.PLOTLYENV=window.PLOTLYENV || {};                                    if (document.getElementById(\"9a1a9738-4ca2-493a-81c1-f39cbde2eb8f\")) {                    Plotly.newPlot(                        \"9a1a9738-4ca2-493a-81c1-f39cbde2eb8f\",                        [{\"cells\": {\"align\": [\"left\", \"center\", \"center\"], \"fill\": {\"color\": [[\"rgba(255, 128, 0, 1)\", \"rgba(255, 128, 0, 1)\", \"rgba(255, 128, 0, 1)\", \"rgba(255, 128, 0, 1)\", \"rgba(255, 128, 0, 1)\", \"rgba(255, 128, 0, 1)\", \"rgba(255, 128, 0, 1)\", \"rgba(255, 128, 0, 1)\", \"rgba(255, 128, 0, 1)\", \"rgba(255, 128, 0, 1)\", \"rgba(255, 128, 0, 1)\", \"rgba(255, 128, 0, 1)\", \"rgba(255, 128, 0, 1)\", \"rgba(255, 128, 0, 1)\", \"rgba(255, 255, 0, 1)\", \"rgba(255, 255, 0, 1)\", \"rgba(255, 255, 0, 1)\", \"rgba(255, 255, 0, 1)\", \"rgba(255, 255, 0, 1)\", \"rgba(255, 255, 0, 1)\", \"rgba(0, 255, 0, 1)\", \"rgba(0, 255, 0, 1)\", \"rgba(0, 255, 0, 1)\", \"rgba(0, 255, 0, 1)\", \"rgba(0, 255, 0, 1)\", \"rgba(0, 255, 0, 1)\", \"rgba(0, 255, 0, 1)\", \"rgba(0, 255, 0, 1)\", \"rgba(0, 255, 0, 1)\"]]}, \"line\": {\"color\": \"darkslategray\"}, \"values\": [[\"Tennessee, USA\", \"California, USA\", \"Alabama, USA\", \"Arkansas, USA\", \"West Virginia, USA\", \"Sweden\", \"US\", \"Panama\", \"Denmark\", \"South Carolina, USA\", \"Georgia, USA\", \"Netherlands\", \"New York, USA\", \"Texas, USA\", \"Slovakia\", \"Estonia\", \"Latvia\", \"Cyprus\", \"Maine, USA\", \"Germany\", \"Uruguay\", \"Namibia\", \"Grenada\", \"Indonesia\", \"Lesotho\", \"Korea, South\", \"Syria\", \"Burkina Faso\", \"Nigeria\"], [1409, 1033, 783, 747, 726, 665, 665, 613, 610, 606, 604, 587, 545, 540, 498, 398, 381, 354, 332, 294, 127, 109, 64, 23, 22, 19, 8, 8, 3], [4.9, 5.4, 4.5, 0.7, 3.7, 5.1, 1.0, 3.7, 6.1, 3.6, 1.2, 0.2, 3.0, 1.1, 6.8, 8.7, 4.4, 3.2, 3.0, 1.8, 5.2, 6.0, 21.4, 0.8, 17.3, 1.6, 4.6, 21.4, 0.2]]}, \"columnorder\": [1, 2, 3], \"columnwidth\": [10, 5.5, 7], \"domain\": {\"x\": [0.0, 0.485], \"y\": [0.0, 1.0]}, \"header\": {\"align\": \"center\", \"fill\": {\"color\": \"paleturquoise\"}, \"line\": {\"color\": \"darkslategray\"}, \"values\": [\"<b>Country/State</b>\", \"<b>Cases/1M</b>\", \"<b>%over record</b>\"]}, \"type\": \"table\"}, {\"cells\": {\"align\": [\"left\", \"center\", \"center\"], \"fill\": {\"color\": [[\"rgba(255, 128, 0, 1)\", \"rgba(255, 128, 0, 1)\", \"rgba(255, 128, 0, 1)\", \"rgba(255, 128, 0, 1)\", \"rgba(255, 128, 0, 1)\", \"rgba(255, 128, 0, 1)\", \"rgba(255, 255, 0, 1)\", \"rgba(255, 255, 0, 1)\", \"rgba(255, 255, 0, 1)\", \"rgba(255, 255, 0, 1)\", \"rgba(255, 255, 0, 1)\", \"rgba(255, 255, 0, 1)\", \"rgba(255, 255, 0, 1)\", \"rgba(255, 255, 0, 1)\", \"rgba(255, 255, 0, 1)\", \"rgba(0, 255, 0, 1)\", \"rgba(0, 255, 0, 1)\", \"rgba(0, 255, 0, 1)\", \"rgba(0, 255, 0, 1)\", \"rgba(0, 255, 0, 1)\", \"rgba(0, 255, 0, 1)\"]]}, \"line\": {\"color\": \"darkslategray\"}, \"values\": [[\"Croatia\", \"Austria\", \"Tennessee, USA\", \"West Virginia, USA\", \"Georgia\", \"Lithuania\", \"Slovakia\", \"Germany\", \"Latvia\", \"Moldova\", \"California, USA\", \"Oregon, USA\", \"North Carolina, USA\", \"Russia\", \"Turkey\", \"Mauritania\", \"Belarus\", \"Syria\", \"Uruguay\", \"Mali\", \"Korea, South\"], [18.8, 13.3, 13.2, 12.2, 11.0, 10.9, 8.3, 7.1, 6.8, 6.3, 5.7, 5.6, 5.1, 3.7, 2.8, 1.7, 0.9, 0.8, 0.8, 0.2, 0.2], [0.8, 2.3, 4.6, 2.0, 0.0, 2.5, 16.1, 5.6, 0.0, 2.9, 6.2, 3.8, 6.3, 0.0, 1.2, 22.7, 1.6, 5.3, 26.7, 0.0, 11.0]]}, \"columnorder\": [1, 2, 3], \"columnwidth\": [10, 5.5, 7], \"domain\": {\"x\": [0.515, 1.0], \"y\": [0.0, 1.0]}, \"header\": {\"align\": \"center\", \"fill\": {\"color\": \"paleturquoise\"}, \"line\": {\"color\": \"darkslategray\"}, \"values\": [\"<b>Country/State</b>\", \"<b>Deaths/1M</b>\", \"<b>%over record</b>\"]}, \"type\": \"table\"}],                        {\"height\": 900, \"showlegend\": false, \"template\": {\"data\": {\"bar\": [{\"error_x\": {\"color\": \"#2a3f5f\"}, \"error_y\": {\"color\": \"#2a3f5f\"}, \"marker\": {\"line\": {\"color\": \"#E5ECF6\", \"width\": 0.5}}, \"type\": \"bar\"}], \"barpolar\": [{\"marker\": {\"line\": {\"color\": \"#E5ECF6\", \"width\": 0.5}}, \"type\": \"barpolar\"}], \"carpet\": [{\"aaxis\": {\"endlinecolor\": \"#2a3f5f\", \"gridcolor\": \"white\", \"linecolor\": \"white\", \"minorgridcolor\": \"white\", \"startlinecolor\": \"#2a3f5f\"}, \"baxis\": {\"endlinecolor\": \"#2a3f5f\", \"gridcolor\": \"white\", \"linecolor\": \"white\", \"minorgridcolor\": \"white\", \"startlinecolor\": \"#2a3f5f\"}, \"type\": \"carpet\"}], \"choropleth\": [{\"colorbar\": {\"outlinewidth\": 0, \"ticks\": \"\"}, \"type\": \"choropleth\"}], \"contour\": [{\"colorbar\": {\"outlinewidth\": 0, \"ticks\": \"\"}, \"colorscale\": [[0.0, \"#0d0887\"], [0.1111111111111111, \"#46039f\"], [0.2222222222222222, \"#7201a8\"], [0.3333333333333333, \"#9c179e\"], [0.4444444444444444, \"#bd3786\"], [0.5555555555555556, \"#d8576b\"], [0.6666666666666666, \"#ed7953\"], [0.7777777777777778, \"#fb9f3a\"], [0.8888888888888888, \"#fdca26\"], [1.0, \"#f0f921\"]], \"type\": \"contour\"}], \"contourcarpet\": [{\"colorbar\": {\"outlinewidth\": 0, \"ticks\": \"\"}, \"type\": \"contourcarpet\"}], \"heatmap\": [{\"colorbar\": {\"outlinewidth\": 0, \"ticks\": \"\"}, \"colorscale\": [[0.0, \"#0d0887\"], [0.1111111111111111, \"#46039f\"], [0.2222222222222222, \"#7201a8\"], [0.3333333333333333, \"#9c179e\"], [0.4444444444444444, \"#bd3786\"], [0.5555555555555556, \"#d8576b\"], [0.6666666666666666, \"#ed7953\"], [0.7777777777777778, \"#fb9f3a\"], [0.8888888888888888, \"#fdca26\"], [1.0, \"#f0f921\"]], \"type\": \"heatmap\"}], \"heatmapgl\": [{\"colorbar\": {\"outlinewidth\": 0, \"ticks\": \"\"}, \"colorscale\": [[0.0, \"#0d0887\"], [0.1111111111111111, \"#46039f\"], [0.2222222222222222, \"#7201a8\"], [0.3333333333333333, \"#9c179e\"], [0.4444444444444444, \"#bd3786\"], [0.5555555555555556, \"#d8576b\"], [0.6666666666666666, \"#ed7953\"], [0.7777777777777778, \"#fb9f3a\"], [0.8888888888888888, \"#fdca26\"], [1.0, \"#f0f921\"]], \"type\": \"heatmapgl\"}], \"histogram\": [{\"marker\": {\"colorbar\": {\"outlinewidth\": 0, \"ticks\": \"\"}}, \"type\": \"histogram\"}], \"histogram2d\": [{\"colorbar\": {\"outlinewidth\": 0, \"ticks\": \"\"}, \"colorscale\": [[0.0, \"#0d0887\"], [0.1111111111111111, \"#46039f\"], [0.2222222222222222, \"#7201a8\"], [0.3333333333333333, \"#9c179e\"], [0.4444444444444444, \"#bd3786\"], [0.5555555555555556, \"#d8576b\"], [0.6666666666666666, \"#ed7953\"], [0.7777777777777778, \"#fb9f3a\"], [0.8888888888888888, \"#fdca26\"], [1.0, \"#f0f921\"]], \"type\": \"histogram2d\"}], \"histogram2dcontour\": [{\"colorbar\": {\"outlinewidth\": 0, \"ticks\": \"\"}, \"colorscale\": [[0.0, \"#0d0887\"], [0.1111111111111111, \"#46039f\"], [0.2222222222222222, \"#7201a8\"], [0.3333333333333333, \"#9c179e\"], [0.4444444444444444, \"#bd3786\"], [0.5555555555555556, \"#d8576b\"], [0.6666666666666666, \"#ed7953\"], [0.7777777777777778, \"#fb9f3a\"], [0.8888888888888888, \"#fdca26\"], [1.0, \"#f0f921\"]], \"type\": \"histogram2dcontour\"}], \"mesh3d\": [{\"colorbar\": {\"outlinewidth\": 0, \"ticks\": \"\"}, \"type\": \"mesh3d\"}], \"parcoords\": [{\"line\": {\"colorbar\": {\"outlinewidth\": 0, \"ticks\": \"\"}}, \"type\": \"parcoords\"}], \"pie\": [{\"automargin\": true, \"type\": \"pie\"}], \"scatter\": [{\"marker\": {\"colorbar\": {\"outlinewidth\": 0, \"ticks\": \"\"}}, \"type\": \"scatter\"}], \"scatter3d\": [{\"line\": {\"colorbar\": {\"outlinewidth\": 0, \"ticks\": \"\"}}, \"marker\": {\"colorbar\": {\"outlinewidth\": 0, \"ticks\": \"\"}}, \"type\": \"scatter3d\"}], \"scattercarpet\": [{\"marker\": {\"colorbar\": {\"outlinewidth\": 0, \"ticks\": \"\"}}, \"type\": \"scattercarpet\"}], \"scattergeo\": [{\"marker\": {\"colorbar\": {\"outlinewidth\": 0, \"ticks\": \"\"}}, \"type\": \"scattergeo\"}], \"scattergl\": [{\"marker\": {\"colorbar\": {\"outlinewidth\": 0, \"ticks\": \"\"}}, \"type\": \"scattergl\"}], \"scattermapbox\": [{\"marker\": {\"colorbar\": {\"outlinewidth\": 0, \"ticks\": \"\"}}, \"type\": \"scattermapbox\"}], \"scatterpolar\": [{\"marker\": {\"colorbar\": {\"outlinewidth\": 0, \"ticks\": \"\"}}, \"type\": \"scatterpolar\"}], \"scatterpolargl\": [{\"marker\": {\"colorbar\": {\"outlinewidth\": 0, \"ticks\": \"\"}}, \"type\": \"scatterpolargl\"}], \"scatterternary\": [{\"marker\": {\"colorbar\": {\"outlinewidth\": 0, \"ticks\": \"\"}}, \"type\": \"scatterternary\"}], \"surface\": [{\"colorbar\": {\"outlinewidth\": 0, \"ticks\": \"\"}, \"colorscale\": [[0.0, \"#0d0887\"], [0.1111111111111111, \"#46039f\"], [0.2222222222222222, \"#7201a8\"], [0.3333333333333333, \"#9c179e\"], [0.4444444444444444, \"#bd3786\"], [0.5555555555555556, \"#d8576b\"], [0.6666666666666666, \"#ed7953\"], [0.7777777777777778, \"#fb9f3a\"], [0.8888888888888888, \"#fdca26\"], [1.0, \"#f0f921\"]], \"type\": \"surface\"}], \"table\": [{\"cells\": {\"fill\": {\"color\": \"#EBF0F8\"}, \"line\": {\"color\": \"white\"}}, \"header\": {\"fill\": {\"color\": \"#C8D4E3\"}, \"line\": {\"color\": \"white\"}}, \"type\": \"table\"}]}, \"layout\": {\"annotationdefaults\": {\"arrowcolor\": \"#2a3f5f\", \"arrowhead\": 0, \"arrowwidth\": 1}, \"autotypenumbers\": \"strict\", \"coloraxis\": {\"colorbar\": {\"outlinewidth\": 0, \"ticks\": \"\"}}, \"colorscale\": {\"diverging\": [[0, \"#8e0152\"], [0.1, \"#c51b7d\"], [0.2, \"#de77ae\"], [0.3, \"#f1b6da\"], [0.4, \"#fde0ef\"], [0.5, \"#f7f7f7\"], [0.6, \"#e6f5d0\"], [0.7, \"#b8e186\"], [0.8, \"#7fbc41\"], [0.9, \"#4d9221\"], [1, \"#276419\"]], \"sequential\": [[0.0, \"#0d0887\"], [0.1111111111111111, \"#46039f\"], [0.2222222222222222, \"#7201a8\"], [0.3333333333333333, \"#9c179e\"], [0.4444444444444444, \"#bd3786\"], [0.5555555555555556, \"#d8576b\"], [0.6666666666666666, \"#ed7953\"], [0.7777777777777778, \"#fb9f3a\"], [0.8888888888888888, \"#fdca26\"], [1.0, \"#f0f921\"]], \"sequentialminus\": [[0.0, \"#0d0887\"], [0.1111111111111111, \"#46039f\"], [0.2222222222222222, \"#7201a8\"], [0.3333333333333333, \"#9c179e\"], [0.4444444444444444, \"#bd3786\"], [0.5555555555555556, \"#d8576b\"], [0.6666666666666666, \"#ed7953\"], [0.7777777777777778, \"#fb9f3a\"], [0.8888888888888888, \"#fdca26\"], [1.0, \"#f0f921\"]]}, \"colorway\": [\"#636efa\", \"#EF553B\", \"#00cc96\", \"#ab63fa\", \"#FFA15A\", \"#19d3f3\", \"#FF6692\", \"#B6E880\", \"#FF97FF\", \"#FECB52\"], \"font\": {\"color\": \"#2a3f5f\"}, \"geo\": {\"bgcolor\": \"white\", \"lakecolor\": \"white\", \"landcolor\": \"#E5ECF6\", \"showlakes\": true, \"showland\": true, \"subunitcolor\": \"white\"}, \"hoverlabel\": {\"align\": \"left\"}, \"hovermode\": \"closest\", \"mapbox\": {\"style\": \"light\"}, \"paper_bgcolor\": \"white\", \"plot_bgcolor\": \"#E5ECF6\", \"polar\": {\"angularaxis\": {\"gridcolor\": \"white\", \"linecolor\": \"white\", \"ticks\": \"\"}, \"bgcolor\": \"#E5ECF6\", \"radialaxis\": {\"gridcolor\": \"white\", \"linecolor\": \"white\", \"ticks\": \"\"}}, \"scene\": {\"xaxis\": {\"backgroundcolor\": \"#E5ECF6\", \"gridcolor\": \"white\", \"gridwidth\": 2, \"linecolor\": \"white\", \"showbackground\": true, \"ticks\": \"\", \"zerolinecolor\": \"white\"}, \"yaxis\": {\"backgroundcolor\": \"#E5ECF6\", \"gridcolor\": \"white\", \"gridwidth\": 2, \"linecolor\": \"white\", \"showbackground\": true, \"ticks\": \"\", \"zerolinecolor\": \"white\"}, \"zaxis\": {\"backgroundcolor\": \"#E5ECF6\", \"gridcolor\": \"white\", \"gridwidth\": 2, \"linecolor\": \"white\", \"showbackground\": true, \"ticks\": \"\", \"zerolinecolor\": \"white\"}}, \"shapedefaults\": {\"line\": {\"color\": \"#2a3f5f\"}}, \"ternary\": {\"aaxis\": {\"gridcolor\": \"white\", \"linecolor\": \"white\", \"ticks\": \"\"}, \"baxis\": {\"gridcolor\": \"white\", \"linecolor\": \"white\", \"ticks\": \"\"}, \"bgcolor\": \"#E5ECF6\", \"caxis\": {\"gridcolor\": \"white\", \"linecolor\": \"white\", \"ticks\": \"\"}}, \"title\": {\"x\": 0.05}, \"xaxis\": {\"automargin\": true, \"gridcolor\": \"white\", \"linecolor\": \"white\", \"ticks\": \"\", \"title\": {\"standoff\": 15}, \"zerolinecolor\": \"white\", \"zerolinewidth\": 2}, \"yaxis\": {\"automargin\": true, \"gridcolor\": \"white\", \"linecolor\": \"white\", \"ticks\": \"\", \"title\": {\"standoff\": 15}, \"zerolinecolor\": \"white\", \"zerolinewidth\": 2}}}, \"title\": {\"text\": \" 12/18/20 - Entities peaking in Cases and Deaths, percentage increase over previous record\"}, \"width\": 950},                        {\"responsive\": true}                    ).then(function(){\n",
       "                            \n",
       "var gd = document.getElementById('9a1a9738-4ca2-493a-81c1-f39cbde2eb8f');\n",
       "var x = new MutationObserver(function (mutations, observer) {{\n",
       "        var display = window.getComputedStyle(gd).display;\n",
       "        if (!display || display === 'none') {{\n",
       "            console.log([gd, 'removed!']);\n",
       "            Plotly.purge(gd);\n",
       "            observer.disconnect();\n",
       "        }}\n",
       "}});\n",
       "\n",
       "// Listen for the removal of the full notebook cells\n",
       "var notebookContainer = gd.closest('#notebook-container');\n",
       "if (notebookContainer) {{\n",
       "    x.observe(notebookContainer, {childList: true});\n",
       "}}\n",
       "\n",
       "// Listen for the clearing of the current output cell\n",
       "var outputEl = gd.closest('.output');\n",
       "if (outputEl) {{\n",
       "    x.observe(outputEl, {childList: true});\n",
       "}}\n",
       "\n",
       "                        })                };                });            </script>        </div>"
      ]
     },
     "metadata": {},
     "output_type": "display_data"
    }
   ],
   "source": [
    "import plotly.graph_objects as go\n",
    "from plotly.subplots import make_subplots\n",
    "import pandas as pd\n",
    "import numpy as np\n",
    "\n",
    "#Create variables\n",
    "top20c=summary.sort_values(by='C7d1M', ascending=False).head(20)\n",
    "top20d=summary.sort_values(by='D7d1M', ascending=False).head(20)\n",
    "top20i=summary.sort_values(by='%infected', ascending=False).head(20)\n",
    "cpeak=summary[summary['Ratio_c7d1M']>=1].sort_values(by='C7d1M', ascending=False)\n",
    "dpeak=summary[summary['Ratio_d7d1M']>=1].sort_values(by='D7d1M', ascending=False)\n",
    "number=np.linspace(1,20,20)\n",
    "\n",
    "\n",
    "fig1 = make_subplots(rows=1, cols=3,shared_xaxes=False,horizontal_spacing=0.03,specs=[[{\"type\": \"table\"},{\"type\": \"table\"},{\"type\": \"table\"}]])\n",
    "\n",
    "fig1.add_trace(go.Table(columnorder = [1,2,3], columnwidth = [2,10,4],\n",
    "    header=dict(values=['<b>#</b>','<b>Country/State</b>', '<b>Cases</b>'],line_color='darkslategray',fill_color='paleturquoise',align='center'),\n",
    "    cells=dict(values=[number, top20c.index, top20c[top20c.columns[0]].astype(int)],line_color='darkslategray',fill_color='lavender',align=['center','left','center'])),row=1, col=1)\n",
    "\n",
    "fig1.add_trace(go.Table(columnorder = [1,2,3], columnwidth = [2,10,4],\n",
    "    header=dict(values=['<b>#</b>','<b>Country/State</b>', '<b>Deaths</b>'],line_color='darkslategray',fill_color='paleturquoise',align='center'),\n",
    "    cells=dict(values=[number,top20d.index, top20d[top20d.columns[1]].astype(int)],line_color='darkslategray',fill_color='lavender',align=['center','left','center'])),row=1, col=2)\n",
    "\n",
    "fig1.add_trace(go.Table(columnorder = [1,2,3], columnwidth = [2,10,4],\n",
    "    header=dict(values=['<b>#</b>','<b>Country/State</b>', '<b>%(+)</b>'],line_color='darkslategray',fill_color='paleturquoise',align='center'),\n",
    "    cells=dict(values=[number,top20i.index, top20i[top20i.columns[-2]]],line_color='darkslategray',fill_color='lavender',align=['center','left','center'])),row=1, col=3)\n",
    "\n",
    "fig1.update_layout(height=650,width=1050,showlegend=False,title_text=\"%s - TOP-20 Cases and Deaths (7d avg per 1M population) and Percent Population Infected\" %dfc.columns[-2])\n",
    "\n",
    "fig1.show()\n",
    "\n",
    "fig2 = make_subplots(rows=1, cols=2,shared_xaxes=False,horizontal_spacing=0.03,specs=[[{\"type\": \"table\"},{\"type\": \"table\"}]])\n",
    "\n",
    "case1M=round(cpeak[cpeak.columns[0]],2)\n",
    "caseper=round((cpeak[cpeak.columns[-4]]-1)*100,1)\n",
    "\n",
    "fig2.add_trace(go.Table(columnorder = [1,2,3], columnwidth = [10,5.5,7],\n",
    "    header=dict(values=['<b>Country/State</b>', '<b>Cases/1M</b>','<b>%over record</b>'],line_color='darkslategray',fill_color='paleturquoise',align='center'),\n",
    "    cells=dict(values=[cpeak.index, case1M, caseper],fill = dict(color=[['rgba(0, 255, 0, 1)' if val < 150 else 'rgba(255, 255, 0, 1)' if val >=150 and val <500 else 'rgba(255, 128, 0, 1)' for val in case1M]]),line_color='darkslategray',align=['left','center','center'])),row=1, col=1)\n",
    "\n",
    "death1M=round(dpeak[dpeak.columns[1]],2)\n",
    "deathper=round((dpeak[dpeak.columns[-3]]-1)*100,1)\n",
    "\n",
    "fig2.add_trace(go.Table(columnorder = [1,2,3], columnwidth = [10,5.5,7],\n",
    "    header=dict(values=['<b>Country/State</b>', '<b>Deaths/1M</b>','<b>%over record</b>'],line_color='darkslategray',fill_color='paleturquoise',align='center'),\n",
    "    cells=dict(values=[dpeak.index, death1M, deathper], fill = dict(color=[['rgba(0, 255, 0, 1)' if val < 2 else 'rgba(255, 255, 0, 1)' if val >=2 and val <10 else 'rgba(255, 128, 0, 1)' for val in death1M]]),line_color='darkslategray',align=['left','center','center'])),row=1, col=2)\n",
    "\n",
    "fig2.update_layout(height=900,width=950,showlegend=False,title_text=\" %s - Entities peaking in Cases and Deaths, percentage increase over previous record\" %dfc.columns[-2],)\n",
    "\n",
    "fig2.show()\n",
    "#[‘rgb(235,249,39)’ if val >=0.10 and val<= 0.17 else ‘rgb(0,250,0)’ if val <=0.10 else ‘rgb(250,0,0)’ for val in vals"
   ]
  }
 ],
 "metadata": {
  "kernelspec": {
   "display_name": "Python",
   "language": "python",
   "name": "conda-env-python-py"
  },
  "language_info": {
   "codemirror_mode": {
    "name": "ipython",
    "version": 3
   },
   "file_extension": ".py",
   "mimetype": "text/x-python",
   "name": "python",
   "nbconvert_exporter": "python",
   "pygments_lexer": "ipython3",
   "version": "3.6.12"
  }
 },
 "nbformat": 4,
 "nbformat_minor": 4
}
